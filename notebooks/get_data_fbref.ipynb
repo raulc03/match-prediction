{
 "cells": [
  {
   "cell_type": "markdown",
   "id": "c32f3a42-68cd-402d-860f-ad335ce60b96",
   "metadata": {},
   "source": [
    "# Obtener Data de \"fbref\""
   ]
  },
  {
   "cell_type": "code",
   "execution_count": 104,
   "id": "6d2c99e8-2beb-45b7-bcd7-46f8986133f5",
   "metadata": {},
   "outputs": [],
   "source": [
    "from bs4 import BeautifulSoup\n",
    "import requests\n",
    "import pandas as pd\n",
    "import time\n",
    "import re"
   ]
  },
  {
   "cell_type": "markdown",
   "id": "11cbd98f-dfd4-47dc-b10b-c2ed057925d5",
   "metadata": {},
   "source": [
    "## Borrador"
   ]
  },
  {
   "cell_type": "code",
   "execution_count": 36,
   "id": "bedaa4f5-7ba6-4981-99e6-106955b8322c",
   "metadata": {},
   "outputs": [],
   "source": [
    "url = 'https://fbref.com/en/equipos/87ffd947/2020/Estadisticas-de-Melgar'"
   ]
  },
  {
   "cell_type": "code",
   "execution_count": 37,
   "id": "948f7f89-294e-40c4-ba7b-6da2145eb1e7",
   "metadata": {},
   "outputs": [],
   "source": [
    "headers = requests.utils.default_headers()\n",
    "headers.update({\n",
    "        'User-Agent': 'Mozilla/5.0 (X11; Linux x86_64; rv:136.0) Gecko/20100101 Firefox/136.0',\n",
    "})\n",
    "r = requests.get(url, headers=headers)"
   ]
  },
  {
   "cell_type": "code",
   "execution_count": 38,
   "id": "95b84f76-3313-4818-b7cb-f3ef8f06bcd2",
   "metadata": {},
   "outputs": [
    {
     "data": {
      "text/plain": [
       "200"
      ]
     },
     "execution_count": 38,
     "metadata": {},
     "output_type": "execute_result"
    }
   ],
   "source": [
    "r.status_code"
   ]
  },
  {
   "cell_type": "code",
   "execution_count": 39,
   "id": "37ff70f7-3aa4-4af2-9c1a-3c61911d136c",
   "metadata": {},
   "outputs": [],
   "source": [
    "soup = BeautifulSoup(r.text, 'html.parser')"
   ]
  },
  {
   "cell_type": "code",
   "execution_count": 40,
   "id": "a070996f-9058-427a-8076-1986b10499ed",
   "metadata": {},
   "outputs": [
    {
     "name": "stdout",
     "output_type": "stream",
     "text": [
      "2020 Melgar Stats, Liga 1 | FBref.com\n"
     ]
    }
   ],
   "source": [
    "print(soup.title.text)"
   ]
  },
  {
   "cell_type": "code",
   "execution_count": 41,
   "id": "6ead403b-d41b-4418-9027-065268f467ee",
   "metadata": {},
   "outputs": [],
   "source": [
    "# Encuentra el primer tr (fila de la tabla - nombre de las columnas) y obten el th\n",
    "cols_name = [header.text.strip() for header in soup.find(id='matchlogs_for').find('thead').find_all('th')]"
   ]
  },
  {
   "cell_type": "code",
   "execution_count": 42,
   "id": "0efd4db2-19d1-445e-a94d-1797d77f0aaa",
   "metadata": {},
   "outputs": [
    {
     "data": {
      "text/plain": [
       "['Date',\n",
       " 'Time',\n",
       " 'Comp',\n",
       " 'Round',\n",
       " 'Day',\n",
       " 'Venue',\n",
       " 'Result',\n",
       " 'GF',\n",
       " 'GA',\n",
       " 'Opponent',\n",
       " 'Poss',\n",
       " 'Attendance',\n",
       " 'Captain',\n",
       " 'Formation',\n",
       " 'Opp Formation',\n",
       " 'Referee',\n",
       " 'Match Report',\n",
       " 'Notes']"
      ]
     },
     "execution_count": 42,
     "metadata": {},
     "output_type": "execute_result"
    }
   ],
   "source": [
    "cols_name"
   ]
  },
  {
   "cell_type": "markdown",
   "id": "60504f2e-b333-4145-b88b-ffe96502b27f",
   "metadata": {},
   "source": [
    "## Obtener data"
   ]
  },
  {
   "cell_type": "code",
   "execution_count": 105,
   "id": "4f025e3a-9e95-44a1-b738-01b7f529f14b",
   "metadata": {},
   "outputs": [],
   "source": [
    "def get_matches(urls, team):\n",
    "    # Obtenemos el nombre de la columnas\n",
    "    df = pd.DataFrame(columns=cols_name)\n",
    "    \n",
    "    headers = requests.utils.default_headers()\n",
    "    headers.update({\n",
    "        'User-Agent': 'Mozilla/5.0 (X11; Linux x86_64; rv:136.0) Gecko/20100101 Firefox/136.0',\n",
    "    })\n",
    "\n",
    "    for url in tqdm(urls):\n",
    "        r = requests.get(url, headers=headers)\n",
    "        if r.ok:\n",
    "            soup = BeautifulSoup(r.text, 'html.parser')\n",
    "            title = soup.title.text\n",
    "            match = re.search(r'\\d+ (.+?) Stats', title)\n",
    "            if match:\n",
    "                title = match.group(1)\n",
    "            for row in soup.find(id='matchlogs_for').find('tbody').find_all('tr'):\n",
    "                # Obtener la fecha (está en una etiqueta th) y la data de la tabla (etiqueta td)\n",
    "                table_data = [row.find('th').text.strip()] + [d.text.strip() for d in row.find_all('td')]\n",
    "                if table_data[0] != '':\n",
    "                    df.loc[len(df)] = table_data\n",
    "            file_name = f'data/{title} Stats.csv'\n",
    "            df.to_csv(file_name)\n",
    "        else:\n",
    "            print(r.status_code)\n",
    "        time.sleep(5)"
   ]
  },
  {
   "cell_type": "markdown",
   "id": "5fc847b3-8b26-44e6-acdb-8d635f990545",
   "metadata": {},
   "source": [
    "### 01 Universitario"
   ]
  },
  {
   "cell_type": "code",
   "execution_count": 107,
   "id": "48dc025d-1b7f-446a-95ec-0f763bbcb428",
   "metadata": {},
   "outputs": [
    {
     "name": "stdout",
     "output_type": "stream",
     "text": [
      "['https://fbref.com/en/squads/e4108102/2020/Universitario-Stats', 'https://fbref.com/en/squads/e4108102/2021/Universitario-Stats', 'https://fbref.com/en/squads/e4108102/2022/Universitario-Stats', 'https://fbref.com/en/squads/e4108102/2023/Universitario-Stats', 'https://fbref.com/en/squads/e4108102/2024/Universitario-Stats']\n"
     ]
    }
   ],
   "source": [
    "urls = []\n",
    "for i in range(2020, 2025):\n",
    "    url = f'https://fbref.com/en/squads/e4108102/{i}/Universitario-Stats'\n",
    "    urls.append(url)\n",
    "print(urls)"
   ]
  },
  {
   "cell_type": "code",
   "execution_count": 108,
   "id": "baf1b0c7-43ee-4985-9630-60db7086fb38",
   "metadata": {},
   "outputs": [
    {
     "name": "stderr",
     "output_type": "stream",
     "text": [
      "100%|████████████████████████████████████████████████| 5/5 [00:27<00:00,  5.52s/it]\n"
     ]
    }
   ],
   "source": [
    "get_matches(urls, 'Universitario')"
   ]
  },
  {
   "cell_type": "markdown",
   "id": "c528ad57-f15b-46d4-b01f-379f25606bf6",
   "metadata": {},
   "source": [
    "### 02 Melgar"
   ]
  },
  {
   "cell_type": "code",
   "execution_count": 109,
   "id": "924361ba-f656-4b90-b1f0-3f2db61ea02b",
   "metadata": {},
   "outputs": [
    {
     "name": "stdout",
     "output_type": "stream",
     "text": [
      "['https://fbref.com/en/squads/87ffd947/2020/Melgar-Stats', 'https://fbref.com/en/squads/87ffd947/2021/Melgar-Stats', 'https://fbref.com/en/squads/87ffd947/2022/Melgar-Stats', 'https://fbref.com/en/squads/87ffd947/2023/Melgar-Stats', 'https://fbref.com/en/squads/87ffd947/2024/Melgar-Stats']\n"
     ]
    }
   ],
   "source": [
    "urls = []\n",
    "for i in range(2020, 2025):\n",
    "    url = f'https://fbref.com/en/squads/87ffd947/{i}/Melgar-Stats'\n",
    "    urls.append(url)\n",
    "print(urls)"
   ]
  },
  {
   "cell_type": "code",
   "execution_count": 110,
   "id": "2295d9fe-95ee-4496-9656-4a70d9d6cf57",
   "metadata": {},
   "outputs": [
    {
     "name": "stderr",
     "output_type": "stream",
     "text": [
      "100%|████████████████████████████████████████████████| 5/5 [00:27<00:00,  5.47s/it]\n"
     ]
    }
   ],
   "source": [
    "get_matches(urls, 'Melgar')"
   ]
  },
  {
   "cell_type": "markdown",
   "id": "ebfbab96-d15f-4d82-99f3-5eed610398bd",
   "metadata": {},
   "source": [
    "### 03 Garcilazo"
   ]
  },
  {
   "cell_type": "code",
   "execution_count": 111,
   "id": "3fc70734-a6de-4baf-8fa9-241714a34330",
   "metadata": {},
   "outputs": [
    {
     "name": "stdout",
     "output_type": "stream",
     "text": [
      "['https://fbref.com/en/squads/4271353d/2020/Deportivo-Garcilaso-Stats', 'https://fbref.com/en/squads/4271353d/2021/Deportivo-Garcilaso-Stats', 'https://fbref.com/en/squads/4271353d/2022/Deportivo-Garcilaso-Stats', 'https://fbref.com/en/squads/4271353d/2023/Deportivo-Garcilaso-Stats', 'https://fbref.com/en/squads/4271353d/2024/Deportivo-Garcilaso-Stats']\n"
     ]
    }
   ],
   "source": [
    "urls = []\n",
    "for i in range(2020, 2025):\n",
    "    url = f'https://fbref.com/en/squads/4271353d/{i}/Deportivo-Garcilaso-Stats'\n",
    "    urls.append(url)\n",
    "print(urls)"
   ]
  },
  {
   "cell_type": "code",
   "execution_count": 112,
   "id": "9bea44ae-d294-4f36-b9b8-d2e8a8ec450c",
   "metadata": {
    "scrolled": true
   },
   "outputs": [
    {
     "name": "stderr",
     "output_type": "stream",
     "text": [
      "  0%|                                                        | 0/5 [00:00<?, ?it/s]"
     ]
    },
    {
     "name": "stdout",
     "output_type": "stream",
     "text": [
      "500\n"
     ]
    },
    {
     "name": "stderr",
     "output_type": "stream",
     "text": [
      " 20%|█████████▌                                      | 1/5 [00:05<00:22,  5.54s/it]"
     ]
    },
    {
     "name": "stdout",
     "output_type": "stream",
     "text": [
      "500\n"
     ]
    },
    {
     "name": "stderr",
     "output_type": "stream",
     "text": [
      " 40%|███████████████████▏                            | 2/5 [00:11<00:16,  5.50s/it]"
     ]
    },
    {
     "name": "stdout",
     "output_type": "stream",
     "text": [
      "500\n"
     ]
    },
    {
     "name": "stderr",
     "output_type": "stream",
     "text": [
      "100%|████████████████████████████████████████████████| 5/5 [00:27<00:00,  5.49s/it]\n"
     ]
    }
   ],
   "source": [
    "get_matches(urls, 'Garcilazo')"
   ]
  },
  {
   "cell_type": "markdown",
   "id": "484feddf-5156-4812-97d7-94308d52e9c2",
   "metadata": {},
   "source": [
    "### 04 Alianza"
   ]
  },
  {
   "cell_type": "code",
   "execution_count": 113,
   "id": "2f17f040-5744-40c8-a879-d35fd2623982",
   "metadata": {},
   "outputs": [
    {
     "name": "stdout",
     "output_type": "stream",
     "text": [
      "['https://fbref.com/en/squads/cdbccdc1/2020/Alianza-Lima-Stats', 'https://fbref.com/en/squads/cdbccdc1/2021/Alianza-Lima-Stats', 'https://fbref.com/en/squads/cdbccdc1/2022/Alianza-Lima-Stats', 'https://fbref.com/en/squads/cdbccdc1/2023/Alianza-Lima-Stats', 'https://fbref.com/en/squads/cdbccdc1/2024/Alianza-Lima-Stats']\n"
     ]
    }
   ],
   "source": [
    "urls = []\n",
    "for i in range(2020, 2025):\n",
    "    url = f'https://fbref.com/en/squads/cdbccdc1/{i}/Alianza-Lima-Stats'\n",
    "    urls.append(url)\n",
    "print(urls)"
   ]
  },
  {
   "cell_type": "code",
   "execution_count": 114,
   "id": "8154e30e-9ad1-49e1-bc81-5081c81607c1",
   "metadata": {},
   "outputs": [
    {
     "name": "stderr",
     "output_type": "stream",
     "text": [
      "100%|████████████████████████████████████████████████| 5/5 [00:27<00:00,  5.52s/it]\n"
     ]
    }
   ],
   "source": [
    "get_matches(urls, 'Alianza')"
   ]
  },
  {
   "cell_type": "markdown",
   "id": "9d41764a-ad9f-4b26-b4b6-9321f6fea9ab",
   "metadata": {},
   "source": [
    "### 05 ADT Tarma"
   ]
  },
  {
   "cell_type": "code",
   "execution_count": 115,
   "id": "138c7d58-50fa-472c-bb40-f64b17194f70",
   "metadata": {},
   "outputs": [
    {
     "name": "stdout",
     "output_type": "stream",
     "text": [
      "['https://fbref.com/en/squads/78987e91/2020/ADT-Tarma-Stats', 'https://fbref.com/en/squads/78987e91/2021/ADT-Tarma-Stats', 'https://fbref.com/en/squads/78987e91/2022/ADT-Tarma-Stats', 'https://fbref.com/en/squads/78987e91/2023/ADT-Tarma-Stats', 'https://fbref.com/en/squads/78987e91/2024/ADT-Tarma-Stats']\n"
     ]
    }
   ],
   "source": [
    "urls = []\n",
    "for i in range(2020, 2025):\n",
    "    url = f'https://fbref.com/en/squads/78987e91/{i}/ADT-Tarma-Stats'\n",
    "    urls.append(url)\n",
    "print(urls)"
   ]
  },
  {
   "cell_type": "code",
   "execution_count": 116,
   "id": "93b1cb86-2174-4f61-86ec-de1a571cffee",
   "metadata": {},
   "outputs": [
    {
     "name": "stderr",
     "output_type": "stream",
     "text": [
      "  0%|                                                        | 0/5 [00:00<?, ?it/s]"
     ]
    },
    {
     "name": "stdout",
     "output_type": "stream",
     "text": [
      "500\n"
     ]
    },
    {
     "name": "stderr",
     "output_type": "stream",
     "text": [
      " 20%|█████████▌                                      | 1/5 [00:05<00:21,  5.48s/it]"
     ]
    },
    {
     "name": "stdout",
     "output_type": "stream",
     "text": [
      "500\n"
     ]
    },
    {
     "name": "stderr",
     "output_type": "stream",
     "text": [
      "100%|████████████████████████████████████████████████| 5/5 [00:27<00:00,  5.49s/it]\n"
     ]
    }
   ],
   "source": [
    "get_matches(urls, 'ADT Tarma')"
   ]
  },
  {
   "cell_type": "markdown",
   "id": "d7187318-19fe-4330-acb7-134534cd38a0",
   "metadata": {},
   "source": [
    "### 05 Sporting Cristal "
   ]
  },
  {
   "cell_type": "code",
   "execution_count": 117,
   "id": "36f6b56a-5930-43fe-98c0-7f625aa0d77e",
   "metadata": {},
   "outputs": [
    {
     "name": "stdout",
     "output_type": "stream",
     "text": [
      "['https://fbref.com/en/squads/8917b8a9/2020/Sporting-Cristal-Stats', 'https://fbref.com/en/squads/8917b8a9/2021/Sporting-Cristal-Stats', 'https://fbref.com/en/squads/8917b8a9/2022/Sporting-Cristal-Stats', 'https://fbref.com/en/squads/8917b8a9/2023/Sporting-Cristal-Stats', 'https://fbref.com/en/squads/8917b8a9/2024/Sporting-Cristal-Stats']\n"
     ]
    }
   ],
   "source": [
    "urls = []\n",
    "for i in range(2020, 2025):\n",
    "    url = f'https://fbref.com/en/squads/8917b8a9/{i}/Sporting-Cristal-Stats'\n",
    "    urls.append(url)\n",
    "print(urls)"
   ]
  },
  {
   "cell_type": "code",
   "execution_count": 118,
   "id": "7f12a80d-9eac-4133-a5af-e6d48d32233b",
   "metadata": {},
   "outputs": [
    {
     "name": "stderr",
     "output_type": "stream",
     "text": [
      "100%|████████████████████████████████████████████████| 5/5 [00:27<00:00,  5.46s/it]\n"
     ]
    }
   ],
   "source": [
    "get_matches(urls, 'Sporting Cristal')"
   ]
  },
  {
   "cell_type": "markdown",
   "id": "13b10b46-b6e7-4b54-9a48-9387d10077ed",
   "metadata": {},
   "source": [
    "### 07 Sport Huancayo"
   ]
  },
  {
   "cell_type": "code",
   "execution_count": 119,
   "id": "071556d1-2971-449e-a361-d4faeca33e4c",
   "metadata": {},
   "outputs": [
    {
     "name": "stdout",
     "output_type": "stream",
     "text": [
      "['https://fbref.com/en/squads/d7ba2e36/2020/Sport-Huancayo-Stats', 'https://fbref.com/en/squads/d7ba2e36/2021/Sport-Huancayo-Stats', 'https://fbref.com/en/squads/d7ba2e36/2022/Sport-Huancayo-Stats', 'https://fbref.com/en/squads/d7ba2e36/2023/Sport-Huancayo-Stats', 'https://fbref.com/en/squads/d7ba2e36/2024/Sport-Huancayo-Stats']\n"
     ]
    }
   ],
   "source": [
    "urls = []\n",
    "for i in range(2020, 2025):\n",
    "    url = f'https://fbref.com/en/squads/d7ba2e36/{i}/Sport-Huancayo-Stats'\n",
    "    urls.append(url)\n",
    "print(urls)"
   ]
  },
  {
   "cell_type": "code",
   "execution_count": 120,
   "id": "0bb43137-a09d-43f8-b8f3-263125c6ec25",
   "metadata": {},
   "outputs": [
    {
     "name": "stderr",
     "output_type": "stream",
     "text": [
      "100%|████████████████████████████████████████████████| 5/5 [00:27<00:00,  5.50s/it]\n"
     ]
    }
   ],
   "source": [
    "get_matches(urls, 'Sport Huancayo')"
   ]
  },
  {
   "cell_type": "markdown",
   "id": "9952415b-591a-4fe7-88e9-17375a90b76a",
   "metadata": {},
   "source": [
    "### 08 Alianza Atlético"
   ]
  },
  {
   "cell_type": "code",
   "execution_count": 121,
   "id": "a8ebdc2a-0a40-4886-b271-def1e9371948",
   "metadata": {},
   "outputs": [
    {
     "name": "stdout",
     "output_type": "stream",
     "text": [
      "['https://fbref.com/en/squads/e71b53ba/2020/Alianza-Atletico-Stats', 'https://fbref.com/en/squads/e71b53ba/2021/Alianza-Atletico-Stats', 'https://fbref.com/en/squads/e71b53ba/2022/Alianza-Atletico-Stats', 'https://fbref.com/en/squads/e71b53ba/2023/Alianza-Atletico-Stats', 'https://fbref.com/en/squads/e71b53ba/2024/Alianza-Atletico-Stats']\n"
     ]
    }
   ],
   "source": [
    "urls = []\n",
    "for i in range(2020, 2025):\n",
    "    url = f'https://fbref.com/en/squads/e71b53ba/{i}/Alianza-Atletico-Stats'\n",
    "    urls.append(url)\n",
    "print(urls)"
   ]
  },
  {
   "cell_type": "code",
   "execution_count": 122,
   "id": "a04d1fcf-a27d-4120-b15d-9110f95b68ff",
   "metadata": {},
   "outputs": [
    {
     "name": "stderr",
     "output_type": "stream",
     "text": [
      "  0%|                                                        | 0/5 [00:00<?, ?it/s]"
     ]
    },
    {
     "name": "stdout",
     "output_type": "stream",
     "text": [
      "500\n"
     ]
    },
    {
     "name": "stderr",
     "output_type": "stream",
     "text": [
      "100%|████████████████████████████████████████████████| 5/5 [00:27<00:00,  5.49s/it]\n"
     ]
    }
   ],
   "source": [
    "get_matches(urls, 'Alianza Atlético')"
   ]
  },
  {
   "cell_type": "markdown",
   "id": "e1736144-2a06-4a91-bb3d-7461e41a3d60",
   "metadata": {},
   "source": [
    "### 09 Atlético Grau"
   ]
  },
  {
   "cell_type": "code",
   "execution_count": 123,
   "id": "51db3f13-f331-4ed1-b937-f1fa1879a9c8",
   "metadata": {},
   "outputs": [
    {
     "name": "stdout",
     "output_type": "stream",
     "text": [
      "['https://fbref.com/en/squads/d1077778/2020/Atletico-Grau-Stats', 'https://fbref.com/en/squads/d1077778/2021/Atletico-Grau-Stats', 'https://fbref.com/en/squads/d1077778/2022/Atletico-Grau-Stats', 'https://fbref.com/en/squads/d1077778/2023/Atletico-Grau-Stats', 'https://fbref.com/en/squads/d1077778/2024/Atletico-Grau-Stats']\n"
     ]
    }
   ],
   "source": [
    "urls = []\n",
    "for i in range(2020, 2025):\n",
    "    url = f'https://fbref.com/en/squads/d1077778/{i}/Atletico-Grau-Stats'\n",
    "    urls.append(url)\n",
    "print(urls)"
   ]
  },
  {
   "cell_type": "code",
   "execution_count": 124,
   "id": "53075d89-ee1d-4a45-bc5e-998a8b5d1f92",
   "metadata": {},
   "outputs": [
    {
     "name": "stderr",
     "output_type": "stream",
     "text": [
      " 20%|█████████▌                                      | 1/5 [00:06<00:25,  6.47s/it]"
     ]
    },
    {
     "name": "stdout",
     "output_type": "stream",
     "text": [
      "500\n"
     ]
    },
    {
     "name": "stderr",
     "output_type": "stream",
     "text": [
      "100%|████████████████████████████████████████████████| 5/5 [00:28<00:00,  5.66s/it]\n"
     ]
    }
   ],
   "source": [
    "get_matches(urls, 'Atlético Grau')"
   ]
  },
  {
   "cell_type": "markdown",
   "id": "5232e31a-3bc7-41d1-b13a-fddebb35d676",
   "metadata": {},
   "source": [
    "### 10 Cusco"
   ]
  },
  {
   "cell_type": "code",
   "execution_count": 125,
   "id": "a5bd8961-76b1-4c8d-9026-462e49a12880",
   "metadata": {},
   "outputs": [
    {
     "name": "stdout",
     "output_type": "stream",
     "text": [
      "['https://fbref.com/en/squads/d4f8af71/2020/Cusco-Stats', 'https://fbref.com/en/squads/d4f8af71/2021/Cusco-Stats', 'https://fbref.com/en/squads/d4f8af71/2022/Cusco-Stats', 'https://fbref.com/en/squads/d4f8af71/2023/Cusco-Stats', 'https://fbref.com/en/squads/d4f8af71/2024/Cusco-Stats']\n"
     ]
    }
   ],
   "source": [
    "urls = []\n",
    "for i in range(2020, 2025):\n",
    "    url = f'https://fbref.com/en/squads/d4f8af71/{i}/Cusco-Stats'\n",
    "    urls.append(url)\n",
    "print(urls)"
   ]
  },
  {
   "cell_type": "code",
   "execution_count": 126,
   "id": "ef3ec530-4296-49a0-83fc-d679c56a4bee",
   "metadata": {},
   "outputs": [
    {
     "name": "stderr",
     "output_type": "stream",
     "text": [
      " 40%|███████████████████▏                            | 2/5 [00:10<00:16,  5.48s/it]"
     ]
    },
    {
     "name": "stdout",
     "output_type": "stream",
     "text": [
      "500\n"
     ]
    },
    {
     "name": "stderr",
     "output_type": "stream",
     "text": [
      "100%|████████████████████████████████████████████████| 5/5 [00:27<00:00,  5.47s/it]\n"
     ]
    }
   ],
   "source": [
    "get_matches(urls, 'Cusco')"
   ]
  },
  {
   "cell_type": "markdown",
   "id": "cd8f0100-8e8b-4dba-9541-86e10b23cb79",
   "metadata": {},
   "source": [
    "### 11 Sport Boys"
   ]
  },
  {
   "cell_type": "code",
   "execution_count": 127,
   "id": "baa5592b-d6ed-451e-8148-6327fc462ba8",
   "metadata": {},
   "outputs": [
    {
     "name": "stdout",
     "output_type": "stream",
     "text": [
      "['https://fbref.com/en/squads/0c2512a2/2020/Sport-Boys-Stats', 'https://fbref.com/en/squads/0c2512a2/2021/Sport-Boys-Stats', 'https://fbref.com/en/squads/0c2512a2/2022/Sport-Boys-Stats', 'https://fbref.com/en/squads/0c2512a2/2023/Sport-Boys-Stats', 'https://fbref.com/en/squads/0c2512a2/2024/Sport-Boys-Stats']\n"
     ]
    }
   ],
   "source": [
    "urls = []\n",
    "for i in range(2020, 2025):\n",
    "    url = f'https://fbref.com/en/squads/0c2512a2/{i}/Sport-Boys-Stats'\n",
    "    urls.append(url)\n",
    "print(urls)"
   ]
  },
  {
   "cell_type": "code",
   "execution_count": 128,
   "id": "25c14869-7323-4fd6-b966-31d5fcb417c7",
   "metadata": {},
   "outputs": [
    {
     "name": "stderr",
     "output_type": "stream",
     "text": [
      "100%|████████████████████████████████████████████████| 5/5 [00:27<00:00,  5.47s/it]\n"
     ]
    }
   ],
   "source": [
    "get_matches(urls, 'Sport Boys')"
   ]
  },
  {
   "cell_type": "markdown",
   "id": "b2b553b7-47d8-4716-93f1-9678a9cd8f82",
   "metadata": {},
   "source": [
    "### 12 CDC Santa Rosa"
   ]
  },
  {
   "cell_type": "code",
   "execution_count": 129,
   "id": "dfb9dff1-637c-4866-aaf8-a54f3d57c559",
   "metadata": {},
   "outputs": [
    {
     "name": "stdout",
     "output_type": "stream",
     "text": [
      "['https://fbref.com/en/squads/56762359/2020/CDC-Santa-Rosa-Stats', 'https://fbref.com/en/squads/56762359/2021/CDC-Santa-Rosa-Stats', 'https://fbref.com/en/squads/56762359/2022/CDC-Santa-Rosa-Stats', 'https://fbref.com/en/squads/56762359/2023/CDC-Santa-Rosa-Stats', 'https://fbref.com/en/squads/56762359/2024/CDC-Santa-Rosa-Stats']\n"
     ]
    }
   ],
   "source": [
    "urls = []\n",
    "for i in range(2020, 2025):\n",
    "    url = f'https://fbref.com/en/squads/56762359/{i}/CDC-Santa-Rosa-Stats'\n",
    "    urls.append(url)\n",
    "print(urls)"
   ]
  },
  {
   "cell_type": "code",
   "execution_count": 130,
   "id": "34f0af1a-76ae-452b-b892-d2b28c0eb6f4",
   "metadata": {},
   "outputs": [
    {
     "name": "stderr",
     "output_type": "stream",
     "text": [
      "  0%|                                                        | 0/5 [00:00<?, ?it/s]"
     ]
    },
    {
     "name": "stdout",
     "output_type": "stream",
     "text": [
      "500\n"
     ]
    },
    {
     "name": "stderr",
     "output_type": "stream",
     "text": [
      " 20%|█████████▌                                      | 1/5 [00:07<00:31,  7.92s/it]"
     ]
    },
    {
     "name": "stdout",
     "output_type": "stream",
     "text": [
      "500\n"
     ]
    },
    {
     "name": "stderr",
     "output_type": "stream",
     "text": [
      " 40%|███████████████████▏                            | 2/5 [00:13<00:19,  6.51s/it]"
     ]
    },
    {
     "name": "stdout",
     "output_type": "stream",
     "text": [
      "500\n"
     ]
    },
    {
     "name": "stderr",
     "output_type": "stream",
     "text": [
      " 60%|████████████████████████████▊                   | 3/5 [00:18<00:12,  6.05s/it]"
     ]
    },
    {
     "name": "stdout",
     "output_type": "stream",
     "text": [
      "500\n"
     ]
    },
    {
     "name": "stderr",
     "output_type": "stream",
     "text": [
      "100%|████████████████████████████████████████████████| 5/5 [00:29<00:00,  5.97s/it]\n"
     ]
    }
   ],
   "source": [
    "get_matches(urls, 'CDC Santa Rosa')"
   ]
  },
  {
   "cell_type": "markdown",
   "id": "4d193510-a619-46fc-ba90-77b27b2506dd",
   "metadata": {},
   "source": [
    "### 13 Binacional"
   ]
  },
  {
   "cell_type": "code",
   "execution_count": 131,
   "id": "34886427-e083-4a38-b7cd-96af78b32189",
   "metadata": {},
   "outputs": [
    {
     "name": "stdout",
     "output_type": "stream",
     "text": [
      "['https://fbref.com/en/squads/e5c4db74/2020/Binacional-Stats', 'https://fbref.com/en/squads/e5c4db74/2021/Binacional-Stats', 'https://fbref.com/en/squads/e5c4db74/2022/Binacional-Stats', 'https://fbref.com/en/squads/e5c4db74/2023/Binacional-Stats', 'https://fbref.com/en/squads/e5c4db74/2024/Binacional-Stats']\n"
     ]
    }
   ],
   "source": [
    "urls = []\n",
    "for i in range(2020, 2025):\n",
    "    url = f'https://fbref.com/en/squads/e5c4db74/{i}/Binacional-Stats'\n",
    "    urls.append(url)\n",
    "print(urls)"
   ]
  },
  {
   "cell_type": "code",
   "execution_count": 132,
   "id": "ed364dcd-8ae8-467c-a06c-5631f2d2d711",
   "metadata": {},
   "outputs": [
    {
     "name": "stderr",
     "output_type": "stream",
     "text": [
      " 80%|██████████████████████████████████████▍         | 4/5 [00:24<00:05,  5.86s/it]"
     ]
    },
    {
     "name": "stdout",
     "output_type": "stream",
     "text": [
      "500\n"
     ]
    },
    {
     "name": "stderr",
     "output_type": "stream",
     "text": [
      "100%|████████████████████████████████████████████████| 5/5 [00:29<00:00,  5.95s/it]\n"
     ]
    }
   ],
   "source": [
    "get_matches(urls, 'Binacional')"
   ]
  },
  {
   "cell_type": "markdown",
   "id": "49185f4d-ad28-4c3b-bd25-df0af3525ba7",
   "metadata": {},
   "source": [
    "### 14 Cienciano"
   ]
  },
  {
   "cell_type": "code",
   "execution_count": 133,
   "id": "2a21fea1-92e6-46c8-b6dd-ae95c106ccf8",
   "metadata": {},
   "outputs": [
    {
     "name": "stdout",
     "output_type": "stream",
     "text": [
      "['https://fbref.com/en/squads/adf57493/2020/Cienciano-Stats', 'https://fbref.com/en/squads/adf57493/2021/Cienciano-Stats', 'https://fbref.com/en/squads/adf57493/2022/Cienciano-Stats', 'https://fbref.com/en/squads/adf57493/2023/Cienciano-Stats', 'https://fbref.com/en/squads/adf57493/2024/Cienciano-Stats']\n"
     ]
    }
   ],
   "source": [
    "urls = []\n",
    "for i in range(2020, 2025):\n",
    "    url = f'https://fbref.com/en/squads/adf57493/{i}/Cienciano-Stats'\n",
    "    urls.append(url)\n",
    "print(urls)"
   ]
  },
  {
   "cell_type": "code",
   "execution_count": 134,
   "id": "9e01114a-8ed3-41a0-a717-38d23bcc8710",
   "metadata": {},
   "outputs": [
    {
     "name": "stderr",
     "output_type": "stream",
     "text": [
      "100%|████████████████████████████████████████████████| 5/5 [00:27<00:00,  5.45s/it]\n"
     ]
    }
   ],
   "source": [
    "get_matches(urls, 'Cienciano')"
   ]
  },
  {
   "cell_type": "markdown",
   "id": "932cb17a-46ef-4a8b-8da6-23d16c79aae3",
   "metadata": {},
   "source": [
    "### 15 Ayacucho"
   ]
  },
  {
   "cell_type": "code",
   "execution_count": 135,
   "id": "26884258-d423-4b5f-99ee-a15519e69fa7",
   "metadata": {},
   "outputs": [
    {
     "name": "stdout",
     "output_type": "stream",
     "text": [
      "['https://fbref.com/en/squads/e6b8138d/2020/Ayacucho-Stats', 'https://fbref.com/en/squads/e6b8138d/2021/Ayacucho-Stats', 'https://fbref.com/en/squads/e6b8138d/2022/Ayacucho-Stats', 'https://fbref.com/en/squads/e6b8138d/2023/Ayacucho-Stats', 'https://fbref.com/en/squads/e6b8138d/2024/Ayacucho-Stats']\n"
     ]
    }
   ],
   "source": [
    "urls = []\n",
    "for i in range(2020, 2025):\n",
    "    url = f'https://fbref.com/en/squads/e6b8138d/{i}/Ayacucho-Stats'\n",
    "    urls.append(url)\n",
    "print(urls)"
   ]
  },
  {
   "cell_type": "code",
   "execution_count": 136,
   "id": "779c9465-1b8e-4783-819c-ca7223da72a8",
   "metadata": {},
   "outputs": [
    {
     "name": "stderr",
     "output_type": "stream",
     "text": [
      " 60%|████████████████████████████▊                   | 3/5 [00:18<00:12,  6.10s/it]"
     ]
    },
    {
     "name": "stdout",
     "output_type": "stream",
     "text": [
      "500\n"
     ]
    },
    {
     "name": "stderr",
     "output_type": "stream",
     "text": [
      " 80%|██████████████████████████████████████▍         | 4/5 [00:24<00:05,  5.86s/it]"
     ]
    },
    {
     "name": "stdout",
     "output_type": "stream",
     "text": [
      "500\n"
     ]
    },
    {
     "name": "stderr",
     "output_type": "stream",
     "text": [
      "100%|████████████████████████████████████████████████| 5/5 [00:29<00:00,  5.95s/it]\n"
     ]
    }
   ],
   "source": [
    "get_matches(urls, 'Ayacucho')"
   ]
  },
  {
   "cell_type": "markdown",
   "id": "4f7bf035-2413-4e06-b8df-be2514388a2f",
   "metadata": {},
   "source": [
    "### 16 Comerciantes Unidos"
   ]
  },
  {
   "cell_type": "code",
   "execution_count": 137,
   "id": "f5b0a17a-3ea6-4b34-8a66-412c9a9bee1d",
   "metadata": {},
   "outputs": [
    {
     "name": "stdout",
     "output_type": "stream",
     "text": [
      "['https://fbref.com/en/squads/59cf5fee/2020/Comerciantes-Unidos-Stats', 'https://fbref.com/en/squads/59cf5fee/2021/Comerciantes-Unidos-Stats', 'https://fbref.com/en/squads/59cf5fee/2022/Comerciantes-Unidos-Stats', 'https://fbref.com/en/squads/59cf5fee/2023/Comerciantes-Unidos-Stats', 'https://fbref.com/en/squads/59cf5fee/2024/Comerciantes-Unidos-Stats']\n"
     ]
    }
   ],
   "source": [
    "urls = []\n",
    "for i in range(2020, 2025):\n",
    "    url = f'https://fbref.com/en/squads/59cf5fee/{i}/Comerciantes-Unidos-Stats'\n",
    "    urls.append(url)\n",
    "print(urls)"
   ]
  },
  {
   "cell_type": "code",
   "execution_count": 138,
   "id": "a2dbd946-de5c-4427-b31c-7ae57833d187",
   "metadata": {},
   "outputs": [
    {
     "name": "stderr",
     "output_type": "stream",
     "text": [
      "  0%|                                                        | 0/5 [00:00<?, ?it/s]"
     ]
    },
    {
     "name": "stdout",
     "output_type": "stream",
     "text": [
      "500\n"
     ]
    },
    {
     "name": "stderr",
     "output_type": "stream",
     "text": [
      " 20%|█████████▌                                      | 1/5 [00:05<00:22,  5.51s/it]"
     ]
    },
    {
     "name": "stdout",
     "output_type": "stream",
     "text": [
      "500\n"
     ]
    },
    {
     "name": "stderr",
     "output_type": "stream",
     "text": [
      " 40%|███████████████████▏                            | 2/5 [00:11<00:16,  5.52s/it]"
     ]
    },
    {
     "name": "stdout",
     "output_type": "stream",
     "text": [
      "500\n"
     ]
    },
    {
     "name": "stderr",
     "output_type": "stream",
     "text": [
      " 60%|████████████████████████████▊                   | 3/5 [00:16<00:11,  5.50s/it]"
     ]
    },
    {
     "name": "stdout",
     "output_type": "stream",
     "text": [
      "500\n"
     ]
    },
    {
     "name": "stderr",
     "output_type": "stream",
     "text": [
      "100%|████████████████████████████████████████████████| 5/5 [00:27<00:00,  5.50s/it]\n"
     ]
    }
   ],
   "source": [
    "get_matches(urls, 'Comerciantes Unidos')"
   ]
  },
  {
   "cell_type": "markdown",
   "id": "8a67db01-ca1f-4b50-ac58-f7c777bf4c69",
   "metadata": {},
   "source": [
    "### 17 Juan Pablo II"
   ]
  },
  {
   "cell_type": "markdown",
   "id": "75585a80-dc21-4471-a243-8a084816d26b",
   "metadata": {},
   "source": [
    "### 18 Alianza Universidad"
   ]
  },
  {
   "cell_type": "code",
   "execution_count": 141,
   "id": "07bd930a-3fa6-484c-a573-5464a697dc2b",
   "metadata": {},
   "outputs": [
    {
     "name": "stdout",
     "output_type": "stream",
     "text": [
      "['https://fbref.com/en/squads/b9ca1839/2020/Alianza-Universidad-Stats', 'https://fbref.com/en/squads/b9ca1839/2021/Alianza-Universidad-Stats', 'https://fbref.com/en/squads/b9ca1839/2022/Alianza-Universidad-Stats', 'https://fbref.com/en/squads/b9ca1839/2023/Alianza-Universidad-Stats', 'https://fbref.com/en/squads/b9ca1839/2024/Alianza-Universidad-Stats']\n"
     ]
    }
   ],
   "source": [
    "urls = []\n",
    "for i in range(2020, 2025):\n",
    "    url = f'https://fbref.com/en/squads/b9ca1839/{i}/Alianza-Universidad-Stats'\n",
    "    urls.append(url)\n",
    "print(urls)"
   ]
  },
  {
   "cell_type": "code",
   "execution_count": 142,
   "id": "e0eea6f1-5313-4c75-9634-75967deeb1d8",
   "metadata": {},
   "outputs": [
    {
     "name": "stderr",
     "output_type": "stream",
     "text": [
      " 40%|███████████████████▏                            | 2/5 [00:11<00:16,  5.50s/it]"
     ]
    },
    {
     "name": "stdout",
     "output_type": "stream",
     "text": [
      "500\n"
     ]
    },
    {
     "name": "stderr",
     "output_type": "stream",
     "text": [
      " 60%|████████████████████████████▊                   | 3/5 [00:16<00:10,  5.49s/it]"
     ]
    },
    {
     "name": "stdout",
     "output_type": "stream",
     "text": [
      "500\n"
     ]
    },
    {
     "name": "stderr",
     "output_type": "stream",
     "text": [
      " 80%|██████████████████████████████████████▍         | 4/5 [00:23<00:05,  5.89s/it]"
     ]
    },
    {
     "name": "stdout",
     "output_type": "stream",
     "text": [
      "500\n"
     ]
    },
    {
     "name": "stderr",
     "output_type": "stream",
     "text": [
      "100%|████████████████████████████████████████████████| 5/5 [00:28<00:00,  5.71s/it]\n"
     ]
    }
   ],
   "source": [
    "get_matches(urls, 'Alianza Universidad')"
   ]
  },
  {
   "cell_type": "markdown",
   "id": "ea0e7032-44a4-478c-b910-87dbae0e6e8a",
   "metadata": {},
   "source": [
    "### 19 UTC"
   ]
  },
  {
   "cell_type": "code",
   "execution_count": 143,
   "id": "0ea3c986-e270-44c3-8d9b-62bb834d842e",
   "metadata": {},
   "outputs": [
    {
     "name": "stdout",
     "output_type": "stream",
     "text": [
      "['https://fbref.com/en/squads/afccbca8/2020/Universidad-Tecnica-de-Cajamarca-Stats', 'https://fbref.com/en/squads/afccbca8/2021/Universidad-Tecnica-de-Cajamarca-Stats', 'https://fbref.com/en/squads/afccbca8/2022/Universidad-Tecnica-de-Cajamarca-Stats', 'https://fbref.com/en/squads/afccbca8/2023/Universidad-Tecnica-de-Cajamarca-Stats', 'https://fbref.com/en/squads/afccbca8/2024/Universidad-Tecnica-de-Cajamarca-Stats']\n"
     ]
    }
   ],
   "source": [
    "urls = []\n",
    "for i in range(2020, 2025):\n",
    "    url = f'https://fbref.com/en/squads/afccbca8/{i}/Universidad-Tecnica-de-Cajamarca-Stats'\n",
    "    urls.append(url)\n",
    "print(urls)"
   ]
  },
  {
   "cell_type": "code",
   "execution_count": 144,
   "id": "85e2c9eb-447c-4115-b970-40ac1bebe933",
   "metadata": {},
   "outputs": [
    {
     "name": "stderr",
     "output_type": "stream",
     "text": [
      "100%|████████████████████████████████████████████████| 5/5 [00:27<00:00,  5.44s/it]\n"
     ]
    }
   ],
   "source": [
    "get_matches(urls, 'UTC')"
   ]
  },
  {
   "cell_type": "code",
   "execution_count": null,
   "id": "232a12af-7115-422b-bbfd-8b68155db54e",
   "metadata": {},
   "outputs": [],
   "source": []
  }
 ],
 "metadata": {
  "kernelspec": {
   "display_name": "Python 3 (ipykernel)",
   "language": "python",
   "name": "python3"
  },
  "language_info": {
   "codemirror_mode": {
    "name": "ipython",
    "version": 3
   },
   "file_extension": ".py",
   "mimetype": "text/x-python",
   "name": "python",
   "nbconvert_exporter": "python",
   "pygments_lexer": "ipython3",
   "version": "3.13.2"
  }
 },
 "nbformat": 4,
 "nbformat_minor": 5
}
