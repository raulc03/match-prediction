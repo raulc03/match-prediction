{
 "cells": [
  {
   "cell_type": "markdown",
   "id": "207f5d25-50d4-4385-889d-04de256fbb33",
   "metadata": {},
   "source": [
    "# El equipo local ganará?"
   ]
  },
  {
   "cell_type": "code",
   "execution_count": 462,
   "id": "8c1bafd8-46e6-4101-bbb8-30111621cc12",
   "metadata": {},
   "outputs": [],
   "source": [
    "import pandas as pd\n",
    "import seaborn as sns\n",
    "import matplotlib.pyplot as plt\n",
    "import numpy as np\n",
    "\n",
    "from sklearn.model_selection import train_test_split\n",
    "from sklearn.preprocessing import StandardScaler"
   ]
  },
  {
   "cell_type": "code",
   "execution_count": 463,
   "id": "c1a47322-e699-4552-b884-ef12206310b6",
   "metadata": {},
   "outputs": [],
   "source": [
    "# Set the theme, including the palette\n",
    "sns.set_theme(style=\"whitegrid\", palette=\"deep\")"
   ]
  },
  {
   "cell_type": "markdown",
   "id": "4c9bcff8-cdbb-43e6-9d2c-89c6e93c924c",
   "metadata": {},
   "source": [
    "# Leer data"
   ]
  },
  {
   "cell_type": "code",
   "execution_count": 464,
   "id": "e8840a75-c0fb-4f81-848b-3dab00f1c046",
   "metadata": {},
   "outputs": [
    {
     "data": {
      "text/plain": [
       "(7206, 19)"
      ]
     },
     "execution_count": 464,
     "metadata": {},
     "output_type": "execute_result"
    }
   ],
   "source": [
    "df = pd.read_csv('../data/Liga_1_Matches_2014-2024.csv')\n",
    "df.shape"
   ]
  },
  {
   "cell_type": "markdown",
   "id": "5e4bee66-b9d7-4d40-ab0b-32c54ba09611",
   "metadata": {},
   "source": [
    "# Explorando Data"
   ]
  },
  {
   "cell_type": "code",
   "execution_count": 465,
   "id": "de198986-4364-4ce0-b6c1-d26287aa241f",
   "metadata": {},
   "outputs": [
    {
     "data": {
      "text/html": [
       "<div>\n",
       "<style scoped>\n",
       "    .dataframe tbody tr th:only-of-type {\n",
       "        vertical-align: middle;\n",
       "    }\n",
       "\n",
       "    .dataframe tbody tr th {\n",
       "        vertical-align: top;\n",
       "    }\n",
       "\n",
       "    .dataframe thead th {\n",
       "        text-align: right;\n",
       "    }\n",
       "</style>\n",
       "<table border=\"1\" class=\"dataframe\">\n",
       "  <thead>\n",
       "    <tr style=\"text-align: right;\">\n",
       "      <th></th>\n",
       "      <th>Date</th>\n",
       "      <th>Time</th>\n",
       "      <th>Comp</th>\n",
       "      <th>Round</th>\n",
       "      <th>Day</th>\n",
       "      <th>Venue</th>\n",
       "      <th>Result</th>\n",
       "      <th>GF</th>\n",
       "      <th>GA</th>\n",
       "      <th>Opponent</th>\n",
       "      <th>Poss</th>\n",
       "      <th>Attendance</th>\n",
       "      <th>Captain</th>\n",
       "      <th>Formation</th>\n",
       "      <th>Opp Formation</th>\n",
       "      <th>Referee</th>\n",
       "      <th>Match Report</th>\n",
       "      <th>Notes</th>\n",
       "      <th>Team</th>\n",
       "    </tr>\n",
       "  </thead>\n",
       "  <tbody>\n",
       "    <tr>\n",
       "      <th>0</th>\n",
       "      <td>2014-06-07</td>\n",
       "      <td>18:00</td>\n",
       "      <td>Descentralizado</td>\n",
       "      <td>Torneo Apertura</td>\n",
       "      <td>Sat</td>\n",
       "      <td>Home</td>\n",
       "      <td>W</td>\n",
       "      <td>2</td>\n",
       "      <td>1</td>\n",
       "      <td>San Simón</td>\n",
       "      <td>NaN</td>\n",
       "      <td>1,877</td>\n",
       "      <td>NaN</td>\n",
       "      <td>NaN</td>\n",
       "      <td>NaN</td>\n",
       "      <td>Fernando Legario</td>\n",
       "      <td>Match Report</td>\n",
       "      <td>NaN</td>\n",
       "      <td>Juan Aurich</td>\n",
       "    </tr>\n",
       "    <tr>\n",
       "      <th>1</th>\n",
       "      <td>2014-06-14</td>\n",
       "      <td>16:00</td>\n",
       "      <td>Descentralizado</td>\n",
       "      <td>Torneo Apertura</td>\n",
       "      <td>Sat</td>\n",
       "      <td>Away</td>\n",
       "      <td>L</td>\n",
       "      <td>0</td>\n",
       "      <td>2</td>\n",
       "      <td>U César Vallejo</td>\n",
       "      <td>NaN</td>\n",
       "      <td>1,375</td>\n",
       "      <td>NaN</td>\n",
       "      <td>NaN</td>\n",
       "      <td>NaN</td>\n",
       "      <td>Luis Garay Evia</td>\n",
       "      <td>Match Report</td>\n",
       "      <td>NaN</td>\n",
       "      <td>Juan Aurich</td>\n",
       "    </tr>\n",
       "    <tr>\n",
       "      <th>2</th>\n",
       "      <td>2014-06-21</td>\n",
       "      <td>15:45</td>\n",
       "      <td>Descentralizado</td>\n",
       "      <td>Torneo Apertura</td>\n",
       "      <td>Sat</td>\n",
       "      <td>Home</td>\n",
       "      <td>W</td>\n",
       "      <td>2</td>\n",
       "      <td>1</td>\n",
       "      <td>León Huánuco</td>\n",
       "      <td>NaN</td>\n",
       "      <td>1,683</td>\n",
       "      <td>NaN</td>\n",
       "      <td>NaN</td>\n",
       "      <td>NaN</td>\n",
       "      <td>Diego Haro</td>\n",
       "      <td>Match Report</td>\n",
       "      <td>NaN</td>\n",
       "      <td>Juan Aurich</td>\n",
       "    </tr>\n",
       "    <tr>\n",
       "      <th>3</th>\n",
       "      <td>2014-06-29</td>\n",
       "      <td>16:00</td>\n",
       "      <td>Descentralizado</td>\n",
       "      <td>Torneo Apertura</td>\n",
       "      <td>Sun</td>\n",
       "      <td>Away</td>\n",
       "      <td>D</td>\n",
       "      <td>0</td>\n",
       "      <td>0</td>\n",
       "      <td>Alianza Lima</td>\n",
       "      <td>NaN</td>\n",
       "      <td>6,119</td>\n",
       "      <td>NaN</td>\n",
       "      <td>NaN</td>\n",
       "      <td>NaN</td>\n",
       "      <td>Luis Garay Evia</td>\n",
       "      <td>Match Report</td>\n",
       "      <td>NaN</td>\n",
       "      <td>Juan Aurich</td>\n",
       "    </tr>\n",
       "    <tr>\n",
       "      <th>4</th>\n",
       "      <td>2014-07-05</td>\n",
       "      <td>17:30</td>\n",
       "      <td>Descentralizado</td>\n",
       "      <td>Torneo Apertura</td>\n",
       "      <td>Sat</td>\n",
       "      <td>Home</td>\n",
       "      <td>W</td>\n",
       "      <td>6</td>\n",
       "      <td>0</td>\n",
       "      <td>Sport Huancayo</td>\n",
       "      <td>NaN</td>\n",
       "      <td>1,366</td>\n",
       "      <td>NaN</td>\n",
       "      <td>NaN</td>\n",
       "      <td>NaN</td>\n",
       "      <td>Miguel Santiváñez</td>\n",
       "      <td>Match Report</td>\n",
       "      <td>NaN</td>\n",
       "      <td>Juan Aurich</td>\n",
       "    </tr>\n",
       "  </tbody>\n",
       "</table>\n",
       "</div>"
      ],
      "text/plain": [
       "         Date   Time             Comp            Round  Day Venue Result GF  \\\n",
       "0  2014-06-07  18:00  Descentralizado  Torneo Apertura  Sat  Home      W  2   \n",
       "1  2014-06-14  16:00  Descentralizado  Torneo Apertura  Sat  Away      L  0   \n",
       "2  2014-06-21  15:45  Descentralizado  Torneo Apertura  Sat  Home      W  2   \n",
       "3  2014-06-29  16:00  Descentralizado  Torneo Apertura  Sun  Away      D  0   \n",
       "4  2014-07-05  17:30  Descentralizado  Torneo Apertura  Sat  Home      W  6   \n",
       "\n",
       "  GA         Opponent  Poss Attendance Captain Formation Opp Formation  \\\n",
       "0  1        San Simón   NaN      1,877     NaN       NaN           NaN   \n",
       "1  2  U César Vallejo   NaN      1,375     NaN       NaN           NaN   \n",
       "2  1     León Huánuco   NaN      1,683     NaN       NaN           NaN   \n",
       "3  0     Alianza Lima   NaN      6,119     NaN       NaN           NaN   \n",
       "4  0   Sport Huancayo   NaN      1,366     NaN       NaN           NaN   \n",
       "\n",
       "             Referee  Match Report Notes         Team  \n",
       "0   Fernando Legario  Match Report   NaN  Juan Aurich  \n",
       "1    Luis Garay Evia  Match Report   NaN  Juan Aurich  \n",
       "2         Diego Haro  Match Report   NaN  Juan Aurich  \n",
       "3    Luis Garay Evia  Match Report   NaN  Juan Aurich  \n",
       "4  Miguel Santiváñez  Match Report   NaN  Juan Aurich  "
      ]
     },
     "execution_count": 465,
     "metadata": {},
     "output_type": "execute_result"
    }
   ],
   "source": [
    "df.head()"
   ]
  },
  {
   "cell_type": "code",
   "execution_count": 466,
   "id": "54cc78c1-38d6-4004-b223-b64c24c6f071",
   "metadata": {},
   "outputs": [
    {
     "name": "stdout",
     "output_type": "stream",
     "text": [
      "<class 'pandas.core.frame.DataFrame'>\n",
      "RangeIndex: 7206 entries, 0 to 7205\n",
      "Data columns (total 19 columns):\n",
      " #   Column         Non-Null Count  Dtype  \n",
      "---  ------         --------------  -----  \n",
      " 0   Date           7206 non-null   object \n",
      " 1   Time           7198 non-null   object \n",
      " 2   Comp           7206 non-null   object \n",
      " 3   Round          7206 non-null   object \n",
      " 4   Day            7206 non-null   object \n",
      " 5   Venue          7206 non-null   object \n",
      " 6   Result         7206 non-null   object \n",
      " 7   GF             7206 non-null   object \n",
      " 8   GA             7206 non-null   object \n",
      " 9   Opponent       7206 non-null   object \n",
      " 10  Poss           269 non-null    float64\n",
      " 11  Attendance     3324 non-null   object \n",
      " 12  Captain        5550 non-null   object \n",
      " 13  Formation      5331 non-null   object \n",
      " 14  Opp Formation  5331 non-null   object \n",
      " 15  Referee        6688 non-null   object \n",
      " 16  Match Report   7206 non-null   object \n",
      " 17  Notes          280 non-null    object \n",
      " 18  Team           7206 non-null   object \n",
      "dtypes: float64(1), object(18)\n",
      "memory usage: 1.0+ MB\n"
     ]
    }
   ],
   "source": [
    "df.info()"
   ]
  },
  {
   "cell_type": "code",
   "execution_count": 467,
   "id": "0507a86a-9fec-486c-a166-658df7056147",
   "metadata": {},
   "outputs": [
    {
     "data": {
      "text/html": [
       "<div>\n",
       "<style scoped>\n",
       "    .dataframe tbody tr th:only-of-type {\n",
       "        vertical-align: middle;\n",
       "    }\n",
       "\n",
       "    .dataframe tbody tr th {\n",
       "        vertical-align: top;\n",
       "    }\n",
       "\n",
       "    .dataframe thead th {\n",
       "        text-align: right;\n",
       "    }\n",
       "</style>\n",
       "<table border=\"1\" class=\"dataframe\">\n",
       "  <thead>\n",
       "    <tr style=\"text-align: right;\">\n",
       "      <th></th>\n",
       "      <th>Date</th>\n",
       "      <th>Time</th>\n",
       "      <th>Comp</th>\n",
       "      <th>Round</th>\n",
       "      <th>Day</th>\n",
       "      <th>Venue</th>\n",
       "      <th>Result</th>\n",
       "      <th>GF</th>\n",
       "      <th>GA</th>\n",
       "      <th>Opponent</th>\n",
       "      <th>Poss</th>\n",
       "      <th>Attendance</th>\n",
       "      <th>Captain</th>\n",
       "      <th>Formation</th>\n",
       "      <th>Opp Formation</th>\n",
       "      <th>Referee</th>\n",
       "      <th>Match Report</th>\n",
       "      <th>Notes</th>\n",
       "      <th>Team</th>\n",
       "    </tr>\n",
       "  </thead>\n",
       "  <tbody>\n",
       "    <tr>\n",
       "      <th>count</th>\n",
       "      <td>7206</td>\n",
       "      <td>7198</td>\n",
       "      <td>7206</td>\n",
       "      <td>7206</td>\n",
       "      <td>7206</td>\n",
       "      <td>7206</td>\n",
       "      <td>7206</td>\n",
       "      <td>7206</td>\n",
       "      <td>7206</td>\n",
       "      <td>7206</td>\n",
       "      <td>269.000000</td>\n",
       "      <td>3324</td>\n",
       "      <td>5550</td>\n",
       "      <td>5331</td>\n",
       "      <td>5331</td>\n",
       "      <td>6688</td>\n",
       "      <td>7206</td>\n",
       "      <td>280</td>\n",
       "      <td>7206</td>\n",
       "    </tr>\n",
       "    <tr>\n",
       "      <th>unique</th>\n",
       "      <td>1615</td>\n",
       "      <td>56</td>\n",
       "      <td>4</td>\n",
       "      <td>22</td>\n",
       "      <td>7</td>\n",
       "      <td>3</td>\n",
       "      <td>3</td>\n",
       "      <td>20</td>\n",
       "      <td>22</td>\n",
       "      <td>141</td>\n",
       "      <td>NaN</td>\n",
       "      <td>1447</td>\n",
       "      <td>332</td>\n",
       "      <td>22</td>\n",
       "      <td>20</td>\n",
       "      <td>169</td>\n",
       "      <td>1</td>\n",
       "      <td>69</td>\n",
       "      <td>35</td>\n",
       "    </tr>\n",
       "    <tr>\n",
       "      <th>top</th>\n",
       "      <td>2019-11-24</td>\n",
       "      <td>15:30</td>\n",
       "      <td>Liga 1</td>\n",
       "      <td>Torneo Apertura</td>\n",
       "      <td>Sun</td>\n",
       "      <td>Home</td>\n",
       "      <td>L</td>\n",
       "      <td>1</td>\n",
       "      <td>1</td>\n",
       "      <td>Sporting Cristal</td>\n",
       "      <td>NaN</td>\n",
       "      <td>100</td>\n",
       "      <td>Bernardo Cuesta</td>\n",
       "      <td>4-2-3-1</td>\n",
       "      <td>4-2-3-1</td>\n",
       "      <td>Joel Alarcón</td>\n",
       "      <td>Match Report</td>\n",
       "      <td>Leg 1 of 2</td>\n",
       "      <td>Sporting Cristal</td>\n",
       "    </tr>\n",
       "    <tr>\n",
       "      <th>freq</th>\n",
       "      <td>18</td>\n",
       "      <td>1532</td>\n",
       "      <td>3656</td>\n",
       "      <td>2908</td>\n",
       "      <td>2052</td>\n",
       "      <td>3600</td>\n",
       "      <td>2713</td>\n",
       "      <td>2434</td>\n",
       "      <td>2443</td>\n",
       "      <td>416</td>\n",
       "      <td>NaN</td>\n",
       "      <td>24</td>\n",
       "      <td>186</td>\n",
       "      <td>2483</td>\n",
       "      <td>2480</td>\n",
       "      <td>426</td>\n",
       "      <td>7206</td>\n",
       "      <td>116</td>\n",
       "      <td>480</td>\n",
       "    </tr>\n",
       "    <tr>\n",
       "      <th>mean</th>\n",
       "      <td>NaN</td>\n",
       "      <td>NaN</td>\n",
       "      <td>NaN</td>\n",
       "      <td>NaN</td>\n",
       "      <td>NaN</td>\n",
       "      <td>NaN</td>\n",
       "      <td>NaN</td>\n",
       "      <td>NaN</td>\n",
       "      <td>NaN</td>\n",
       "      <td>NaN</td>\n",
       "      <td>48.631970</td>\n",
       "      <td>NaN</td>\n",
       "      <td>NaN</td>\n",
       "      <td>NaN</td>\n",
       "      <td>NaN</td>\n",
       "      <td>NaN</td>\n",
       "      <td>NaN</td>\n",
       "      <td>NaN</td>\n",
       "      <td>NaN</td>\n",
       "    </tr>\n",
       "    <tr>\n",
       "      <th>std</th>\n",
       "      <td>NaN</td>\n",
       "      <td>NaN</td>\n",
       "      <td>NaN</td>\n",
       "      <td>NaN</td>\n",
       "      <td>NaN</td>\n",
       "      <td>NaN</td>\n",
       "      <td>NaN</td>\n",
       "      <td>NaN</td>\n",
       "      <td>NaN</td>\n",
       "      <td>NaN</td>\n",
       "      <td>11.842966</td>\n",
       "      <td>NaN</td>\n",
       "      <td>NaN</td>\n",
       "      <td>NaN</td>\n",
       "      <td>NaN</td>\n",
       "      <td>NaN</td>\n",
       "      <td>NaN</td>\n",
       "      <td>NaN</td>\n",
       "      <td>NaN</td>\n",
       "    </tr>\n",
       "    <tr>\n",
       "      <th>min</th>\n",
       "      <td>NaN</td>\n",
       "      <td>NaN</td>\n",
       "      <td>NaN</td>\n",
       "      <td>NaN</td>\n",
       "      <td>NaN</td>\n",
       "      <td>NaN</td>\n",
       "      <td>NaN</td>\n",
       "      <td>NaN</td>\n",
       "      <td>NaN</td>\n",
       "      <td>NaN</td>\n",
       "      <td>22.000000</td>\n",
       "      <td>NaN</td>\n",
       "      <td>NaN</td>\n",
       "      <td>NaN</td>\n",
       "      <td>NaN</td>\n",
       "      <td>NaN</td>\n",
       "      <td>NaN</td>\n",
       "      <td>NaN</td>\n",
       "      <td>NaN</td>\n",
       "    </tr>\n",
       "    <tr>\n",
       "      <th>25%</th>\n",
       "      <td>NaN</td>\n",
       "      <td>NaN</td>\n",
       "      <td>NaN</td>\n",
       "      <td>NaN</td>\n",
       "      <td>NaN</td>\n",
       "      <td>NaN</td>\n",
       "      <td>NaN</td>\n",
       "      <td>NaN</td>\n",
       "      <td>NaN</td>\n",
       "      <td>NaN</td>\n",
       "      <td>40.000000</td>\n",
       "      <td>NaN</td>\n",
       "      <td>NaN</td>\n",
       "      <td>NaN</td>\n",
       "      <td>NaN</td>\n",
       "      <td>NaN</td>\n",
       "      <td>NaN</td>\n",
       "      <td>NaN</td>\n",
       "      <td>NaN</td>\n",
       "    </tr>\n",
       "    <tr>\n",
       "      <th>50%</th>\n",
       "      <td>NaN</td>\n",
       "      <td>NaN</td>\n",
       "      <td>NaN</td>\n",
       "      <td>NaN</td>\n",
       "      <td>NaN</td>\n",
       "      <td>NaN</td>\n",
       "      <td>NaN</td>\n",
       "      <td>NaN</td>\n",
       "      <td>NaN</td>\n",
       "      <td>NaN</td>\n",
       "      <td>48.000000</td>\n",
       "      <td>NaN</td>\n",
       "      <td>NaN</td>\n",
       "      <td>NaN</td>\n",
       "      <td>NaN</td>\n",
       "      <td>NaN</td>\n",
       "      <td>NaN</td>\n",
       "      <td>NaN</td>\n",
       "      <td>NaN</td>\n",
       "    </tr>\n",
       "    <tr>\n",
       "      <th>75%</th>\n",
       "      <td>NaN</td>\n",
       "      <td>NaN</td>\n",
       "      <td>NaN</td>\n",
       "      <td>NaN</td>\n",
       "      <td>NaN</td>\n",
       "      <td>NaN</td>\n",
       "      <td>NaN</td>\n",
       "      <td>NaN</td>\n",
       "      <td>NaN</td>\n",
       "      <td>NaN</td>\n",
       "      <td>58.000000</td>\n",
       "      <td>NaN</td>\n",
       "      <td>NaN</td>\n",
       "      <td>NaN</td>\n",
       "      <td>NaN</td>\n",
       "      <td>NaN</td>\n",
       "      <td>NaN</td>\n",
       "      <td>NaN</td>\n",
       "      <td>NaN</td>\n",
       "    </tr>\n",
       "    <tr>\n",
       "      <th>max</th>\n",
       "      <td>NaN</td>\n",
       "      <td>NaN</td>\n",
       "      <td>NaN</td>\n",
       "      <td>NaN</td>\n",
       "      <td>NaN</td>\n",
       "      <td>NaN</td>\n",
       "      <td>NaN</td>\n",
       "      <td>NaN</td>\n",
       "      <td>NaN</td>\n",
       "      <td>NaN</td>\n",
       "      <td>77.000000</td>\n",
       "      <td>NaN</td>\n",
       "      <td>NaN</td>\n",
       "      <td>NaN</td>\n",
       "      <td>NaN</td>\n",
       "      <td>NaN</td>\n",
       "      <td>NaN</td>\n",
       "      <td>NaN</td>\n",
       "      <td>NaN</td>\n",
       "    </tr>\n",
       "  </tbody>\n",
       "</table>\n",
       "</div>"
      ],
      "text/plain": [
       "              Date   Time    Comp            Round   Day Venue Result    GF  \\\n",
       "count         7206   7198    7206             7206  7206  7206   7206  7206   \n",
       "unique        1615     56       4               22     7     3      3    20   \n",
       "top     2019-11-24  15:30  Liga 1  Torneo Apertura   Sun  Home      L     1   \n",
       "freq            18   1532    3656             2908  2052  3600   2713  2434   \n",
       "mean           NaN    NaN     NaN              NaN   NaN   NaN    NaN   NaN   \n",
       "std            NaN    NaN     NaN              NaN   NaN   NaN    NaN   NaN   \n",
       "min            NaN    NaN     NaN              NaN   NaN   NaN    NaN   NaN   \n",
       "25%            NaN    NaN     NaN              NaN   NaN   NaN    NaN   NaN   \n",
       "50%            NaN    NaN     NaN              NaN   NaN   NaN    NaN   NaN   \n",
       "75%            NaN    NaN     NaN              NaN   NaN   NaN    NaN   NaN   \n",
       "max            NaN    NaN     NaN              NaN   NaN   NaN    NaN   NaN   \n",
       "\n",
       "          GA          Opponent        Poss Attendance          Captain  \\\n",
       "count   7206              7206  269.000000       3324             5550   \n",
       "unique    22               141         NaN       1447              332   \n",
       "top        1  Sporting Cristal         NaN        100  Bernardo Cuesta   \n",
       "freq    2443               416         NaN         24              186   \n",
       "mean     NaN               NaN   48.631970        NaN              NaN   \n",
       "std      NaN               NaN   11.842966        NaN              NaN   \n",
       "min      NaN               NaN   22.000000        NaN              NaN   \n",
       "25%      NaN               NaN   40.000000        NaN              NaN   \n",
       "50%      NaN               NaN   48.000000        NaN              NaN   \n",
       "75%      NaN               NaN   58.000000        NaN              NaN   \n",
       "max      NaN               NaN   77.000000        NaN              NaN   \n",
       "\n",
       "       Formation Opp Formation       Referee  Match Report       Notes  \\\n",
       "count       5331          5331          6688          7206         280   \n",
       "unique        22            20           169             1          69   \n",
       "top      4-2-3-1       4-2-3-1  Joel Alarcón  Match Report  Leg 1 of 2   \n",
       "freq        2483          2480           426          7206         116   \n",
       "mean         NaN           NaN           NaN           NaN         NaN   \n",
       "std          NaN           NaN           NaN           NaN         NaN   \n",
       "min          NaN           NaN           NaN           NaN         NaN   \n",
       "25%          NaN           NaN           NaN           NaN         NaN   \n",
       "50%          NaN           NaN           NaN           NaN         NaN   \n",
       "75%          NaN           NaN           NaN           NaN         NaN   \n",
       "max          NaN           NaN           NaN           NaN         NaN   \n",
       "\n",
       "                    Team  \n",
       "count               7206  \n",
       "unique                35  \n",
       "top     Sporting Cristal  \n",
       "freq                 480  \n",
       "mean                 NaN  \n",
       "std                  NaN  \n",
       "min                  NaN  \n",
       "25%                  NaN  \n",
       "50%                  NaN  \n",
       "75%                  NaN  \n",
       "max                  NaN  "
      ]
     },
     "execution_count": 467,
     "metadata": {},
     "output_type": "execute_result"
    }
   ],
   "source": [
    "df.describe(include='all')"
   ]
  },
  {
   "cell_type": "markdown",
   "id": "8a58c8a7-f736-4ac3-af1d-adc426e00ae3",
   "metadata": {},
   "source": [
    "### Columna 'Date' y 'Time'"
   ]
  },
  {
   "cell_type": "code",
   "execution_count": 468,
   "id": "4698ad40-3bec-4290-939c-3b39f9d735c9",
   "metadata": {},
   "outputs": [
    {
     "data": {
      "text/plain": [
       "dtype('O')"
      ]
     },
     "execution_count": 468,
     "metadata": {},
     "output_type": "execute_result"
    }
   ],
   "source": [
    "df['Date'].dtype"
   ]
  },
  {
   "cell_type": "code",
   "execution_count": 469,
   "id": "f24e48d7-7c47-419c-94fc-2ecb00329778",
   "metadata": {},
   "outputs": [
    {
     "data": {
      "text/html": [
       "<div>\n",
       "<style scoped>\n",
       "    .dataframe tbody tr th:only-of-type {\n",
       "        vertical-align: middle;\n",
       "    }\n",
       "\n",
       "    .dataframe tbody tr th {\n",
       "        vertical-align: top;\n",
       "    }\n",
       "\n",
       "    .dataframe thead th {\n",
       "        text-align: right;\n",
       "    }\n",
       "</style>\n",
       "<table border=\"1\" class=\"dataframe\">\n",
       "  <thead>\n",
       "    <tr style=\"text-align: right;\">\n",
       "      <th></th>\n",
       "      <th>Date</th>\n",
       "      <th>Time</th>\n",
       "      <th>Comp</th>\n",
       "      <th>Round</th>\n",
       "      <th>Day</th>\n",
       "      <th>Venue</th>\n",
       "      <th>Result</th>\n",
       "      <th>GF</th>\n",
       "      <th>GA</th>\n",
       "      <th>Opponent</th>\n",
       "      <th>Poss</th>\n",
       "      <th>Attendance</th>\n",
       "      <th>Captain</th>\n",
       "      <th>Formation</th>\n",
       "      <th>Opp Formation</th>\n",
       "      <th>Referee</th>\n",
       "      <th>Match Report</th>\n",
       "      <th>Notes</th>\n",
       "      <th>Team</th>\n",
       "    </tr>\n",
       "  </thead>\n",
       "  <tbody>\n",
       "    <tr>\n",
       "      <th>30</th>\n",
       "      <td>2014-12-13</td>\n",
       "      <td>NaN</td>\n",
       "      <td>Descentralizado</td>\n",
       "      <td>Championship play-off</td>\n",
       "      <td>Sat</td>\n",
       "      <td>Home</td>\n",
       "      <td>D</td>\n",
       "      <td>2</td>\n",
       "      <td>2</td>\n",
       "      <td>Sporting Cristal</td>\n",
       "      <td>NaN</td>\n",
       "      <td>NaN</td>\n",
       "      <td>NaN</td>\n",
       "      <td>NaN</td>\n",
       "      <td>NaN</td>\n",
       "      <td>NaN</td>\n",
       "      <td>Match Report</td>\n",
       "      <td>NaN</td>\n",
       "      <td>Juan Aurich</td>\n",
       "    </tr>\n",
       "    <tr>\n",
       "      <th>31</th>\n",
       "      <td>2014-12-16</td>\n",
       "      <td>NaN</td>\n",
       "      <td>Descentralizado</td>\n",
       "      <td>Championship play-off</td>\n",
       "      <td>Tue</td>\n",
       "      <td>Away</td>\n",
       "      <td>D</td>\n",
       "      <td>0</td>\n",
       "      <td>0</td>\n",
       "      <td>Sporting Cristal</td>\n",
       "      <td>NaN</td>\n",
       "      <td>NaN</td>\n",
       "      <td>NaN</td>\n",
       "      <td>NaN</td>\n",
       "      <td>NaN</td>\n",
       "      <td>NaN</td>\n",
       "      <td>Match Report</td>\n",
       "      <td>NaN</td>\n",
       "      <td>Juan Aurich</td>\n",
       "    </tr>\n",
       "    <tr>\n",
       "      <th>32</th>\n",
       "      <td>2014-12-20</td>\n",
       "      <td>NaN</td>\n",
       "      <td>Descentralizado</td>\n",
       "      <td>Championship play-off</td>\n",
       "      <td>Sat</td>\n",
       "      <td>Neutral</td>\n",
       "      <td>L</td>\n",
       "      <td>2</td>\n",
       "      <td>3</td>\n",
       "      <td>Sporting Cristal</td>\n",
       "      <td>NaN</td>\n",
       "      <td>NaN</td>\n",
       "      <td>NaN</td>\n",
       "      <td>NaN</td>\n",
       "      <td>NaN</td>\n",
       "      <td>NaN</td>\n",
       "      <td>Match Report</td>\n",
       "      <td>Required Extra Time</td>\n",
       "      <td>Juan Aurich</td>\n",
       "    </tr>\n",
       "    <tr>\n",
       "      <th>357</th>\n",
       "      <td>2014-12-03</td>\n",
       "      <td>NaN</td>\n",
       "      <td>Descentralizado</td>\n",
       "      <td>Clausura play-off</td>\n",
       "      <td>Wed</td>\n",
       "      <td>Neutral</td>\n",
       "      <td>L</td>\n",
       "      <td>0</td>\n",
       "      <td>1</td>\n",
       "      <td>Sporting Cristal</td>\n",
       "      <td>NaN</td>\n",
       "      <td>NaN</td>\n",
       "      <td>NaN</td>\n",
       "      <td>NaN</td>\n",
       "      <td>NaN</td>\n",
       "      <td>NaN</td>\n",
       "      <td>Match Report</td>\n",
       "      <td>NaN</td>\n",
       "      <td>Alianza Lima</td>\n",
       "    </tr>\n",
       "    <tr>\n",
       "      <th>422</th>\n",
       "      <td>2014-12-03</td>\n",
       "      <td>NaN</td>\n",
       "      <td>Descentralizado</td>\n",
       "      <td>Clausura play-off</td>\n",
       "      <td>Wed</td>\n",
       "      <td>Neutral</td>\n",
       "      <td>W</td>\n",
       "      <td>1</td>\n",
       "      <td>0</td>\n",
       "      <td>Alianza Lima</td>\n",
       "      <td>NaN</td>\n",
       "      <td>NaN</td>\n",
       "      <td>NaN</td>\n",
       "      <td>NaN</td>\n",
       "      <td>NaN</td>\n",
       "      <td>NaN</td>\n",
       "      <td>Match Report</td>\n",
       "      <td>NaN</td>\n",
       "      <td>Sporting Cristal</td>\n",
       "    </tr>\n",
       "    <tr>\n",
       "      <th>423</th>\n",
       "      <td>2014-12-13</td>\n",
       "      <td>NaN</td>\n",
       "      <td>Descentralizado</td>\n",
       "      <td>Championship play-off</td>\n",
       "      <td>Sat</td>\n",
       "      <td>Away</td>\n",
       "      <td>D</td>\n",
       "      <td>2</td>\n",
       "      <td>2</td>\n",
       "      <td>Juan Aurich</td>\n",
       "      <td>NaN</td>\n",
       "      <td>NaN</td>\n",
       "      <td>NaN</td>\n",
       "      <td>NaN</td>\n",
       "      <td>NaN</td>\n",
       "      <td>NaN</td>\n",
       "      <td>Match Report</td>\n",
       "      <td>NaN</td>\n",
       "      <td>Sporting Cristal</td>\n",
       "    </tr>\n",
       "    <tr>\n",
       "      <th>424</th>\n",
       "      <td>2014-12-16</td>\n",
       "      <td>NaN</td>\n",
       "      <td>Descentralizado</td>\n",
       "      <td>Championship play-off</td>\n",
       "      <td>Tue</td>\n",
       "      <td>Home</td>\n",
       "      <td>D</td>\n",
       "      <td>0</td>\n",
       "      <td>0</td>\n",
       "      <td>Juan Aurich</td>\n",
       "      <td>NaN</td>\n",
       "      <td>NaN</td>\n",
       "      <td>NaN</td>\n",
       "      <td>NaN</td>\n",
       "      <td>NaN</td>\n",
       "      <td>NaN</td>\n",
       "      <td>Match Report</td>\n",
       "      <td>NaN</td>\n",
       "      <td>Sporting Cristal</td>\n",
       "    </tr>\n",
       "    <tr>\n",
       "      <th>425</th>\n",
       "      <td>2014-12-20</td>\n",
       "      <td>NaN</td>\n",
       "      <td>Descentralizado</td>\n",
       "      <td>Championship play-off</td>\n",
       "      <td>Sat</td>\n",
       "      <td>Neutral</td>\n",
       "      <td>W</td>\n",
       "      <td>3</td>\n",
       "      <td>2</td>\n",
       "      <td>Juan Aurich</td>\n",
       "      <td>NaN</td>\n",
       "      <td>NaN</td>\n",
       "      <td>NaN</td>\n",
       "      <td>NaN</td>\n",
       "      <td>NaN</td>\n",
       "      <td>NaN</td>\n",
       "      <td>Match Report</td>\n",
       "      <td>Required Extra Time</td>\n",
       "      <td>Sporting Cristal</td>\n",
       "    </tr>\n",
       "  </tbody>\n",
       "</table>\n",
       "</div>"
      ],
      "text/plain": [
       "           Date Time             Comp                  Round  Day    Venue  \\\n",
       "30   2014-12-13  NaN  Descentralizado  Championship play-off  Sat     Home   \n",
       "31   2014-12-16  NaN  Descentralizado  Championship play-off  Tue     Away   \n",
       "32   2014-12-20  NaN  Descentralizado  Championship play-off  Sat  Neutral   \n",
       "357  2014-12-03  NaN  Descentralizado      Clausura play-off  Wed  Neutral   \n",
       "422  2014-12-03  NaN  Descentralizado      Clausura play-off  Wed  Neutral   \n",
       "423  2014-12-13  NaN  Descentralizado  Championship play-off  Sat     Away   \n",
       "424  2014-12-16  NaN  Descentralizado  Championship play-off  Tue     Home   \n",
       "425  2014-12-20  NaN  Descentralizado  Championship play-off  Sat  Neutral   \n",
       "\n",
       "    Result GF GA          Opponent  Poss Attendance Captain Formation  \\\n",
       "30       D  2  2  Sporting Cristal   NaN        NaN     NaN       NaN   \n",
       "31       D  0  0  Sporting Cristal   NaN        NaN     NaN       NaN   \n",
       "32       L  2  3  Sporting Cristal   NaN        NaN     NaN       NaN   \n",
       "357      L  0  1  Sporting Cristal   NaN        NaN     NaN       NaN   \n",
       "422      W  1  0      Alianza Lima   NaN        NaN     NaN       NaN   \n",
       "423      D  2  2       Juan Aurich   NaN        NaN     NaN       NaN   \n",
       "424      D  0  0       Juan Aurich   NaN        NaN     NaN       NaN   \n",
       "425      W  3  2       Juan Aurich   NaN        NaN     NaN       NaN   \n",
       "\n",
       "    Opp Formation Referee  Match Report                Notes              Team  \n",
       "30            NaN     NaN  Match Report                  NaN       Juan Aurich  \n",
       "31            NaN     NaN  Match Report                  NaN       Juan Aurich  \n",
       "32            NaN     NaN  Match Report  Required Extra Time       Juan Aurich  \n",
       "357           NaN     NaN  Match Report                  NaN      Alianza Lima  \n",
       "422           NaN     NaN  Match Report                  NaN  Sporting Cristal  \n",
       "423           NaN     NaN  Match Report                  NaN  Sporting Cristal  \n",
       "424           NaN     NaN  Match Report                  NaN  Sporting Cristal  \n",
       "425           NaN     NaN  Match Report  Required Extra Time  Sporting Cristal  "
      ]
     },
     "execution_count": 469,
     "metadata": {},
     "output_type": "execute_result"
    }
   ],
   "source": [
    "df[df['Time'].isnull()]"
   ]
  },
  {
   "cell_type": "markdown",
   "id": "4d372a2d-177f-4f81-a2f2-4f4c1ac083f4",
   "metadata": {},
   "source": [
    "Columnas que deberían juntarse para volverse de tipo `datetimens`.\n",
    "\n",
    "Además, Time tiene valores pérdidos en ciertos partidos, por lo tanto, se deberán imputar con los valores reales de aquellos partidos."
   ]
  },
  {
   "cell_type": "markdown",
   "id": "6590937b-1b93-4370-aa7d-86b90b7ba0db",
   "metadata": {},
   "source": [
    "### Columna 'Comp'"
   ]
  },
  {
   "cell_type": "code",
   "execution_count": 470,
   "id": "6a06cf39-430a-4d83-8828-ccfbb4856b43",
   "metadata": {},
   "outputs": [
    {
     "data": {
      "text/plain": [
       "array(['Descentralizado', 'Sudamericana', 'Libertadores', 'Liga 1'],\n",
       "      dtype=object)"
      ]
     },
     "execution_count": 470,
     "metadata": {},
     "output_type": "execute_result"
    }
   ],
   "source": [
    "df['Comp'].unique()"
   ]
  },
  {
   "cell_type": "code",
   "execution_count": 471,
   "id": "db266156-bab7-4d65-ad76-3ff72083a4df",
   "metadata": {},
   "outputs": [
    {
     "data": {
      "image/png": "[encoded data removed]",
      "text/plain": [
       "<Figure size 640x480 with 1 Axes>"
      ]
     },
     "metadata": {},
     "output_type": "display_data"
    }
   ],
   "source": [
    "ax = sns.histplot(df, y='Comp');"
   ]
  },
  {
   "cell_type": "markdown",
   "id": "21745654-24b3-417e-94a0-2f312daeb52f",
   "metadata": {},
   "source": [
    "Solo nos concentraremos en la liga local peruana. Por lo tanto, se ignorará los torneos como 'Sudamericana' y 'Libertadores'."
   ]
  },
  {
   "cell_type": "markdown",
   "id": "fa8c6c8d-89e8-4012-b7fb-4433a1fc619f",
   "metadata": {},
   "source": [
    "## Columna 'Round'"
   ]
  },
  {
   "cell_type": "code",
   "execution_count": 472,
   "id": "337a57df-4d3c-45a2-9906-6489e141499e",
   "metadata": {},
   "outputs": [
    {
     "data": {
      "text/plain": [
       "array(['Torneo Apertura', 'Torneo Clausura', 'Championship play-off',\n",
       "       'First stage', 'Second stage', 'Round of 16', 'Quarter-finals',\n",
       "       'Clausura play-off', 'Relegation play-off', 'Liguillas',\n",
       "       'Semi-finals', 'Finals', 'Third-place play-off',\n",
       "       'Torneo de Verano Regular Season', 'Group stage',\n",
       "       'Torneo de Verano Finals', 'Second qualifying stage',\n",
       "       'First qualifying stage', 'Third qualifying stage', 'Group Stage',\n",
       "       'Final', 'Knockout round play-offs'], dtype=object)"
      ]
     },
     "execution_count": 472,
     "metadata": {},
     "output_type": "execute_result"
    }
   ],
   "source": [
    "df['Round'].unique()"
   ]
  },
  {
   "cell_type": "code",
   "execution_count": 473,
   "id": "96f9fe58-a29a-4404-b792-fd7cf8ad8fa4",
   "metadata": {},
   "outputs": [],
   "source": [
    "df_local_comp = df[(df['Comp'] == 'Liga 1') | (df['Comp'] == 'Descentralizado')]"
   ]
  },
  {
   "cell_type": "code",
   "execution_count": 474,
   "id": "9e84ab81-386b-47b2-8770-949aac80880f",
   "metadata": {},
   "outputs": [
    {
     "data": {
      "text/html": [
       "<div>\n",
       "<style scoped>\n",
       "    .dataframe tbody tr th:only-of-type {\n",
       "        vertical-align: middle;\n",
       "    }\n",
       "\n",
       "    .dataframe tbody tr th {\n",
       "        vertical-align: top;\n",
       "    }\n",
       "\n",
       "    .dataframe thead th {\n",
       "        text-align: right;\n",
       "    }\n",
       "</style>\n",
       "<table border=\"1\" class=\"dataframe\">\n",
       "  <thead>\n",
       "    <tr style=\"text-align: right;\">\n",
       "      <th></th>\n",
       "      <th>Date</th>\n",
       "      <th>Time</th>\n",
       "      <th>Comp</th>\n",
       "      <th>Round</th>\n",
       "      <th>Day</th>\n",
       "      <th>Venue</th>\n",
       "      <th>Result</th>\n",
       "      <th>GF</th>\n",
       "      <th>GA</th>\n",
       "      <th>Opponent</th>\n",
       "      <th>Poss</th>\n",
       "      <th>Attendance</th>\n",
       "      <th>Captain</th>\n",
       "      <th>Formation</th>\n",
       "      <th>Opp Formation</th>\n",
       "      <th>Referee</th>\n",
       "      <th>Match Report</th>\n",
       "      <th>Notes</th>\n",
       "      <th>Team</th>\n",
       "    </tr>\n",
       "  </thead>\n",
       "  <tbody>\n",
       "    <tr>\n",
       "      <th>30</th>\n",
       "      <td>2014-12-13</td>\n",
       "      <td>NaN</td>\n",
       "      <td>Descentralizado</td>\n",
       "      <td>Championship play-off</td>\n",
       "      <td>Sat</td>\n",
       "      <td>Home</td>\n",
       "      <td>D</td>\n",
       "      <td>2</td>\n",
       "      <td>2</td>\n",
       "      <td>Sporting Cristal</td>\n",
       "      <td>NaN</td>\n",
       "      <td>NaN</td>\n",
       "      <td>NaN</td>\n",
       "      <td>NaN</td>\n",
       "      <td>NaN</td>\n",
       "      <td>NaN</td>\n",
       "      <td>Match Report</td>\n",
       "      <td>NaN</td>\n",
       "      <td>Juan Aurich</td>\n",
       "    </tr>\n",
       "    <tr>\n",
       "      <th>31</th>\n",
       "      <td>2014-12-16</td>\n",
       "      <td>NaN</td>\n",
       "      <td>Descentralizado</td>\n",
       "      <td>Championship play-off</td>\n",
       "      <td>Tue</td>\n",
       "      <td>Away</td>\n",
       "      <td>D</td>\n",
       "      <td>0</td>\n",
       "      <td>0</td>\n",
       "      <td>Sporting Cristal</td>\n",
       "      <td>NaN</td>\n",
       "      <td>NaN</td>\n",
       "      <td>NaN</td>\n",
       "      <td>NaN</td>\n",
       "      <td>NaN</td>\n",
       "      <td>NaN</td>\n",
       "      <td>Match Report</td>\n",
       "      <td>NaN</td>\n",
       "      <td>Juan Aurich</td>\n",
       "    </tr>\n",
       "    <tr>\n",
       "      <th>32</th>\n",
       "      <td>2014-12-20</td>\n",
       "      <td>NaN</td>\n",
       "      <td>Descentralizado</td>\n",
       "      <td>Championship play-off</td>\n",
       "      <td>Sat</td>\n",
       "      <td>Neutral</td>\n",
       "      <td>L</td>\n",
       "      <td>2</td>\n",
       "      <td>3</td>\n",
       "      <td>Sporting Cristal</td>\n",
       "      <td>NaN</td>\n",
       "      <td>NaN</td>\n",
       "      <td>NaN</td>\n",
       "      <td>NaN</td>\n",
       "      <td>NaN</td>\n",
       "      <td>NaN</td>\n",
       "      <td>Match Report</td>\n",
       "      <td>Required Extra Time</td>\n",
       "      <td>Juan Aurich</td>\n",
       "    </tr>\n",
       "    <tr>\n",
       "      <th>423</th>\n",
       "      <td>2014-12-13</td>\n",
       "      <td>NaN</td>\n",
       "      <td>Descentralizado</td>\n",
       "      <td>Championship play-off</td>\n",
       "      <td>Sat</td>\n",
       "      <td>Away</td>\n",
       "      <td>D</td>\n",
       "      <td>2</td>\n",
       "      <td>2</td>\n",
       "      <td>Juan Aurich</td>\n",
       "      <td>NaN</td>\n",
       "      <td>NaN</td>\n",
       "      <td>NaN</td>\n",
       "      <td>NaN</td>\n",
       "      <td>NaN</td>\n",
       "      <td>NaN</td>\n",
       "      <td>Match Report</td>\n",
       "      <td>NaN</td>\n",
       "      <td>Sporting Cristal</td>\n",
       "    </tr>\n",
       "    <tr>\n",
       "      <th>424</th>\n",
       "      <td>2014-12-16</td>\n",
       "      <td>NaN</td>\n",
       "      <td>Descentralizado</td>\n",
       "      <td>Championship play-off</td>\n",
       "      <td>Tue</td>\n",
       "      <td>Home</td>\n",
       "      <td>D</td>\n",
       "      <td>0</td>\n",
       "      <td>0</td>\n",
       "      <td>Juan Aurich</td>\n",
       "      <td>NaN</td>\n",
       "      <td>NaN</td>\n",
       "      <td>NaN</td>\n",
       "      <td>NaN</td>\n",
       "      <td>NaN</td>\n",
       "      <td>NaN</td>\n",
       "      <td>Match Report</td>\n",
       "      <td>NaN</td>\n",
       "      <td>Sporting Cristal</td>\n",
       "    </tr>\n",
       "    <tr>\n",
       "      <th>425</th>\n",
       "      <td>2014-12-20</td>\n",
       "      <td>NaN</td>\n",
       "      <td>Descentralizado</td>\n",
       "      <td>Championship play-off</td>\n",
       "      <td>Sat</td>\n",
       "      <td>Neutral</td>\n",
       "      <td>W</td>\n",
       "      <td>3</td>\n",
       "      <td>2</td>\n",
       "      <td>Juan Aurich</td>\n",
       "      <td>NaN</td>\n",
       "      <td>NaN</td>\n",
       "      <td>NaN</td>\n",
       "      <td>NaN</td>\n",
       "      <td>NaN</td>\n",
       "      <td>NaN</td>\n",
       "      <td>Match Report</td>\n",
       "      <td>Required Extra Time</td>\n",
       "      <td>Sporting Cristal</td>\n",
       "    </tr>\n",
       "  </tbody>\n",
       "</table>\n",
       "</div>"
      ],
      "text/plain": [
       "           Date Time             Comp                  Round  Day    Venue  \\\n",
       "30   2014-12-13  NaN  Descentralizado  Championship play-off  Sat     Home   \n",
       "31   2014-12-16  NaN  Descentralizado  Championship play-off  Tue     Away   \n",
       "32   2014-12-20  NaN  Descentralizado  Championship play-off  Sat  Neutral   \n",
       "423  2014-12-13  NaN  Descentralizado  Championship play-off  Sat     Away   \n",
       "424  2014-12-16  NaN  Descentralizado  Championship play-off  Tue     Home   \n",
       "425  2014-12-20  NaN  Descentralizado  Championship play-off  Sat  Neutral   \n",
       "\n",
       "    Result GF GA          Opponent  Poss Attendance Captain Formation  \\\n",
       "30       D  2  2  Sporting Cristal   NaN        NaN     NaN       NaN   \n",
       "31       D  0  0  Sporting Cristal   NaN        NaN     NaN       NaN   \n",
       "32       L  2  3  Sporting Cristal   NaN        NaN     NaN       NaN   \n",
       "423      D  2  2       Juan Aurich   NaN        NaN     NaN       NaN   \n",
       "424      D  0  0       Juan Aurich   NaN        NaN     NaN       NaN   \n",
       "425      W  3  2       Juan Aurich   NaN        NaN     NaN       NaN   \n",
       "\n",
       "    Opp Formation Referee  Match Report                Notes              Team  \n",
       "30            NaN     NaN  Match Report                  NaN       Juan Aurich  \n",
       "31            NaN     NaN  Match Report                  NaN       Juan Aurich  \n",
       "32            NaN     NaN  Match Report  Required Extra Time       Juan Aurich  \n",
       "423           NaN     NaN  Match Report                  NaN  Sporting Cristal  \n",
       "424           NaN     NaN  Match Report                  NaN  Sporting Cristal  \n",
       "425           NaN     NaN  Match Report  Required Extra Time  Sporting Cristal  "
      ]
     },
     "execution_count": 474,
     "metadata": {},
     "output_type": "execute_result"
    }
   ],
   "source": [
    "df_local_comp[df_local_comp['Round'] == 'Championship play-off']"
   ]
  },
  {
   "cell_type": "code",
   "execution_count": 475,
   "id": "53f47f0c-8e54-4525-a9dd-c4d3ee29b9a0",
   "metadata": {},
   "outputs": [
    {
     "data": {
      "image/png": "[encoded data removed]",
      "text/plain": [
       "<Figure size 640x480 with 1 Axes>"
      ]
     },
     "metadata": {},
     "output_type": "display_data"
    }
   ],
   "source": [
    "sns.histplot(df_local_comp, y='Round');"
   ]
  },
  {
   "cell_type": "markdown",
   "id": "78b2bcb9-dc68-4fdb-b283-6cd7a50d14b8",
   "metadata": {},
   "source": [
    "Debido a la gran cantidad de tipo de competencias, lo ideal sería agruparlas en un grupo más pequeño que represente la etapa en la que se encuentran:\n",
    "- Regular Season: Torneo Apertura, Torneo Clausura, Liguillas, Torneo de Verano Regular Season, Group Stage\n",
    "- Finals: Championship play-off, Clausura play-off, Relegation play-off, Semi-finals, Finals, Third-place play-off, Torneo de Verano Finals, Final"
   ]
  },
  {
   "cell_type": "markdown",
   "id": "66301152-5091-4706-b1d7-f79375153125",
   "metadata": {},
   "source": [
    "## Columna 'Day'"
   ]
  },
  {
   "cell_type": "markdown",
   "id": "bdecb407-b01b-488a-a4f6-77aa32528a8c",
   "metadata": {},
   "source": [
    "La columna debe ser reemplazada por la conversión a `datetimens` de las columnas `Date` y `Time`."
   ]
  },
  {
   "cell_type": "markdown",
   "id": "632271e6-f944-42e4-b40e-851630f56fc4",
   "metadata": {},
   "source": [
    "## Columna 'Venue'"
   ]
  },
  {
   "cell_type": "code",
   "execution_count": 476,
   "id": "c4dd24c7-35ef-4b1f-a451-392783f03494",
   "metadata": {},
   "outputs": [
    {
     "data": {
      "image/png": "[encoded data removed]",
      "text/plain": [
       "<Figure size 640x480 with 1 Axes>"
      ]
     },
     "metadata": {},
     "output_type": "display_data"
    }
   ],
   "source": [
    "sns.histplot(df, x='Venue');"
   ]
  },
  {
   "cell_type": "code",
   "execution_count": 477,
   "id": "bbd723e0-840e-45e5-b15a-e4006cec48c2",
   "metadata": {},
   "outputs": [
    {
     "data": {
      "text/html": [
       "<div>\n",
       "<style scoped>\n",
       "    .dataframe tbody tr th:only-of-type {\n",
       "        vertical-align: middle;\n",
       "    }\n",
       "\n",
       "    .dataframe tbody tr th {\n",
       "        vertical-align: top;\n",
       "    }\n",
       "\n",
       "    .dataframe thead th {\n",
       "        text-align: right;\n",
       "    }\n",
       "</style>\n",
       "<table border=\"1\" class=\"dataframe\">\n",
       "  <thead>\n",
       "    <tr style=\"text-align: right;\">\n",
       "      <th></th>\n",
       "      <th>Date</th>\n",
       "      <th>Time</th>\n",
       "      <th>Comp</th>\n",
       "      <th>Round</th>\n",
       "      <th>Day</th>\n",
       "      <th>Venue</th>\n",
       "      <th>Result</th>\n",
       "      <th>GF</th>\n",
       "      <th>GA</th>\n",
       "      <th>Opponent</th>\n",
       "      <th>Poss</th>\n",
       "      <th>Attendance</th>\n",
       "      <th>Captain</th>\n",
       "      <th>Formation</th>\n",
       "      <th>Opp Formation</th>\n",
       "      <th>Referee</th>\n",
       "      <th>Match Report</th>\n",
       "      <th>Notes</th>\n",
       "      <th>Team</th>\n",
       "    </tr>\n",
       "  </thead>\n",
       "  <tbody>\n",
       "    <tr>\n",
       "      <th>32</th>\n",
       "      <td>2014-12-20</td>\n",
       "      <td>NaN</td>\n",
       "      <td>Descentralizado</td>\n",
       "      <td>Championship play-off</td>\n",
       "      <td>Sat</td>\n",
       "      <td>Neutral</td>\n",
       "      <td>L</td>\n",
       "      <td>2</td>\n",
       "      <td>3</td>\n",
       "      <td>Sporting Cristal</td>\n",
       "      <td>NaN</td>\n",
       "      <td>NaN</td>\n",
       "      <td>NaN</td>\n",
       "      <td>NaN</td>\n",
       "      <td>NaN</td>\n",
       "      <td>NaN</td>\n",
       "      <td>Match Report</td>\n",
       "      <td>Required Extra Time</td>\n",
       "      <td>Juan Aurich</td>\n",
       "    </tr>\n",
       "    <tr>\n",
       "      <th>357</th>\n",
       "      <td>2014-12-03</td>\n",
       "      <td>NaN</td>\n",
       "      <td>Descentralizado</td>\n",
       "      <td>Clausura play-off</td>\n",
       "      <td>Wed</td>\n",
       "      <td>Neutral</td>\n",
       "      <td>L</td>\n",
       "      <td>0</td>\n",
       "      <td>1</td>\n",
       "      <td>Sporting Cristal</td>\n",
       "      <td>NaN</td>\n",
       "      <td>NaN</td>\n",
       "      <td>NaN</td>\n",
       "      <td>NaN</td>\n",
       "      <td>NaN</td>\n",
       "      <td>NaN</td>\n",
       "      <td>Match Report</td>\n",
       "      <td>NaN</td>\n",
       "      <td>Alianza Lima</td>\n",
       "    </tr>\n",
       "    <tr>\n",
       "      <th>422</th>\n",
       "      <td>2014-12-03</td>\n",
       "      <td>NaN</td>\n",
       "      <td>Descentralizado</td>\n",
       "      <td>Clausura play-off</td>\n",
       "      <td>Wed</td>\n",
       "      <td>Neutral</td>\n",
       "      <td>W</td>\n",
       "      <td>1</td>\n",
       "      <td>0</td>\n",
       "      <td>Alianza Lima</td>\n",
       "      <td>NaN</td>\n",
       "      <td>NaN</td>\n",
       "      <td>NaN</td>\n",
       "      <td>NaN</td>\n",
       "      <td>NaN</td>\n",
       "      <td>NaN</td>\n",
       "      <td>Match Report</td>\n",
       "      <td>NaN</td>\n",
       "      <td>Sporting Cristal</td>\n",
       "    </tr>\n",
       "    <tr>\n",
       "      <th>425</th>\n",
       "      <td>2014-12-20</td>\n",
       "      <td>NaN</td>\n",
       "      <td>Descentralizado</td>\n",
       "      <td>Championship play-off</td>\n",
       "      <td>Sat</td>\n",
       "      <td>Neutral</td>\n",
       "      <td>W</td>\n",
       "      <td>3</td>\n",
       "      <td>2</td>\n",
       "      <td>Juan Aurich</td>\n",
       "      <td>NaN</td>\n",
       "      <td>NaN</td>\n",
       "      <td>NaN</td>\n",
       "      <td>NaN</td>\n",
       "      <td>NaN</td>\n",
       "      <td>NaN</td>\n",
       "      <td>Match Report</td>\n",
       "      <td>Required Extra Time</td>\n",
       "      <td>Sporting Cristal</td>\n",
       "    </tr>\n",
       "    <tr>\n",
       "      <th>456</th>\n",
       "      <td>2014-12-04</td>\n",
       "      <td>15:00</td>\n",
       "      <td>Descentralizado</td>\n",
       "      <td>Relegation play-off</td>\n",
       "      <td>Thu</td>\n",
       "      <td>Neutral</td>\n",
       "      <td>W</td>\n",
       "      <td>1</td>\n",
       "      <td>0</td>\n",
       "      <td>Los Caimanes</td>\n",
       "      <td>NaN</td>\n",
       "      <td>NaN</td>\n",
       "      <td>NaN</td>\n",
       "      <td>NaN</td>\n",
       "      <td>NaN</td>\n",
       "      <td>NaN</td>\n",
       "      <td>Match Report</td>\n",
       "      <td>Required Extra Time</td>\n",
       "      <td>Sport Huancayo</td>\n",
       "    </tr>\n",
       "    <tr>\n",
       "      <th>517</th>\n",
       "      <td>2014-12-04</td>\n",
       "      <td>15:00</td>\n",
       "      <td>Descentralizado</td>\n",
       "      <td>Relegation play-off</td>\n",
       "      <td>Thu</td>\n",
       "      <td>Neutral</td>\n",
       "      <td>L</td>\n",
       "      <td>0</td>\n",
       "      <td>1</td>\n",
       "      <td>Sport Huancayo</td>\n",
       "      <td>NaN</td>\n",
       "      <td>NaN</td>\n",
       "      <td>NaN</td>\n",
       "      <td>NaN</td>\n",
       "      <td>NaN</td>\n",
       "      <td>NaN</td>\n",
       "      <td>Match Report</td>\n",
       "      <td>Required Extra Time</td>\n",
       "      <td>Los Caimanes</td>\n",
       "    </tr>\n",
       "  </tbody>\n",
       "</table>\n",
       "</div>"
      ],
      "text/plain": [
       "           Date   Time             Comp                  Round  Day    Venue  \\\n",
       "32   2014-12-20    NaN  Descentralizado  Championship play-off  Sat  Neutral   \n",
       "357  2014-12-03    NaN  Descentralizado      Clausura play-off  Wed  Neutral   \n",
       "422  2014-12-03    NaN  Descentralizado      Clausura play-off  Wed  Neutral   \n",
       "425  2014-12-20    NaN  Descentralizado  Championship play-off  Sat  Neutral   \n",
       "456  2014-12-04  15:00  Descentralizado    Relegation play-off  Thu  Neutral   \n",
       "517  2014-12-04  15:00  Descentralizado    Relegation play-off  Thu  Neutral   \n",
       "\n",
       "    Result GF GA          Opponent  Poss Attendance Captain Formation  \\\n",
       "32       L  2  3  Sporting Cristal   NaN        NaN     NaN       NaN   \n",
       "357      L  0  1  Sporting Cristal   NaN        NaN     NaN       NaN   \n",
       "422      W  1  0      Alianza Lima   NaN        NaN     NaN       NaN   \n",
       "425      W  3  2       Juan Aurich   NaN        NaN     NaN       NaN   \n",
       "456      W  1  0      Los Caimanes   NaN        NaN     NaN       NaN   \n",
       "517      L  0  1    Sport Huancayo   NaN        NaN     NaN       NaN   \n",
       "\n",
       "    Opp Formation Referee  Match Report                Notes              Team  \n",
       "32            NaN     NaN  Match Report  Required Extra Time       Juan Aurich  \n",
       "357           NaN     NaN  Match Report                  NaN      Alianza Lima  \n",
       "422           NaN     NaN  Match Report                  NaN  Sporting Cristal  \n",
       "425           NaN     NaN  Match Report  Required Extra Time  Sporting Cristal  \n",
       "456           NaN     NaN  Match Report  Required Extra Time    Sport Huancayo  \n",
       "517           NaN     NaN  Match Report  Required Extra Time      Los Caimanes  "
      ]
     },
     "execution_count": 477,
     "metadata": {},
     "output_type": "execute_result"
    }
   ],
   "source": [
    "df[df['Venue'] == 'Neutral']"
   ]
  },
  {
   "cell_type": "markdown",
   "id": "82085e3f-9c14-4e13-b802-e05d939b6616",
   "metadata": {},
   "source": [
    "Debido a que lo que queremos realizar con este dataset es un clasificador que determine si el equipo Local ganará el partido o no, no nos sirve los partidos en locaciones Neutrales, por lo tanto, los __eliminaremos__."
   ]
  },
  {
   "cell_type": "markdown",
   "id": "501a001e-8791-416b-be5b-16d234402098",
   "metadata": {},
   "source": [
    "## Columna 'Result' "
   ]
  },
  {
   "cell_type": "code",
   "execution_count": 478,
   "id": "e69c5f73-766c-4e21-bb16-80979775b647",
   "metadata": {},
   "outputs": [
    {
     "data": {
      "image/png": "[encoded data removed]",
      "text/plain": [
       "<Figure size 640x480 with 1 Axes>"
      ]
     },
     "metadata": {},
     "output_type": "display_data"
    }
   ],
   "source": [
    "sns.histplot(df, x='Result');"
   ]
  },
  {
   "cell_type": "markdown",
   "id": "e702d299-d9cd-4d4b-a225-dae10b9f2669",
   "metadata": {},
   "source": [
    "En una etapa del proceso más avanzado, la columna deberá cambiar de valores para que sea un target binario.\n",
    "- Result = 1: Equipo local gana\n",
    "- Result = 0: Equipo local no gana"
   ]
  },
  {
   "cell_type": "markdown",
   "id": "74b9f445-0f14-4fc8-9d67-5ff7ffbaa223",
   "metadata": {},
   "source": [
    "## Columna 'GF', 'GA'"
   ]
  },
  {
   "cell_type": "code",
   "execution_count": 479,
   "id": "8abb4ff5-7736-4423-8d0b-7a690f8fefd8",
   "metadata": {},
   "outputs": [
    {
     "data": {
      "image/png": "[encoded data removed]",
      "text/plain": [
       "<Figure size 640x480 with 1 Axes>"
      ]
     },
     "metadata": {},
     "output_type": "display_data"
    }
   ],
   "source": [
    "sns.histplot(df_local_comp, y='GF');"
   ]
  },
  {
   "cell_type": "code",
   "execution_count": 480,
   "id": "e76c5dcc-1625-4068-894d-95bde01ca6aa",
   "metadata": {},
   "outputs": [
    {
     "data": {
      "text/html": [
       "<div>\n",
       "<style scoped>\n",
       "    .dataframe tbody tr th:only-of-type {\n",
       "        vertical-align: middle;\n",
       "    }\n",
       "\n",
       "    .dataframe tbody tr th {\n",
       "        vertical-align: top;\n",
       "    }\n",
       "\n",
       "    .dataframe thead th {\n",
       "        text-align: right;\n",
       "    }\n",
       "</style>\n",
       "<table border=\"1\" class=\"dataframe\">\n",
       "  <thead>\n",
       "    <tr style=\"text-align: right;\">\n",
       "      <th></th>\n",
       "      <th>Date</th>\n",
       "      <th>Time</th>\n",
       "      <th>Comp</th>\n",
       "      <th>Round</th>\n",
       "      <th>Day</th>\n",
       "      <th>Venue</th>\n",
       "      <th>Result</th>\n",
       "      <th>GF</th>\n",
       "      <th>GA</th>\n",
       "      <th>Opponent</th>\n",
       "      <th>Poss</th>\n",
       "      <th>Attendance</th>\n",
       "      <th>Captain</th>\n",
       "      <th>Formation</th>\n",
       "      <th>Opp Formation</th>\n",
       "      <th>Referee</th>\n",
       "      <th>Match Report</th>\n",
       "      <th>Notes</th>\n",
       "      <th>Team</th>\n",
       "    </tr>\n",
       "  </thead>\n",
       "  <tbody>\n",
       "    <tr>\n",
       "      <th>722</th>\n",
       "      <td>2016-12-04</td>\n",
       "      <td>16:00</td>\n",
       "      <td>Descentralizado</td>\n",
       "      <td>Semi-finals</td>\n",
       "      <td>Sun</td>\n",
       "      <td>Away</td>\n",
       "      <td>L</td>\n",
       "      <td>0(2)</td>\n",
       "      <td>1(3)</td>\n",
       "      <td>Sporting Cristal</td>\n",
       "      <td>NaN</td>\n",
       "      <td>19,604</td>\n",
       "      <td>NaN</td>\n",
       "      <td>NaN</td>\n",
       "      <td>NaN</td>\n",
       "      <td>Miguel Santiváñez</td>\n",
       "      <td>Match Report</td>\n",
       "      <td>Leg 2 of 2; Sporting Cristal won; Sporting Cri...</td>\n",
       "      <td>Deportivo Municipal</td>\n",
       "    </tr>\n",
       "  </tbody>\n",
       "</table>\n",
       "</div>"
      ],
      "text/plain": [
       "           Date   Time             Comp        Round  Day Venue Result    GF  \\\n",
       "722  2016-12-04  16:00  Descentralizado  Semi-finals  Sun  Away      L  0(2)   \n",
       "\n",
       "       GA          Opponent  Poss Attendance Captain Formation Opp Formation  \\\n",
       "722  1(3)  Sporting Cristal   NaN     19,604     NaN       NaN           NaN   \n",
       "\n",
       "               Referee  Match Report  \\\n",
       "722  Miguel Santiváñez  Match Report   \n",
       "\n",
       "                                                 Notes                 Team  \n",
       "722  Leg 2 of 2; Sporting Cristal won; Sporting Cri...  Deportivo Municipal  "
      ]
     },
     "execution_count": 480,
     "metadata": {},
     "output_type": "execute_result"
    }
   ],
   "source": [
    "df[df['GF'] == '0(2)']"
   ]
  },
  {
   "cell_type": "markdown",
   "id": "dadc2f7b-a9ef-4754-acf5-8fe32a99845d",
   "metadata": {},
   "source": [
    "Después de analizar la fuente, los valores dentro de los paréntesis son goles realizados en la etapa de penales del partido.\n",
    "Como no nos interesa el resultado de esa etapa, sino del partido de 90 minutos, ignoraremos los goles de penales."
   ]
  },
  {
   "cell_type": "markdown",
   "id": "1002fff4-60d3-4761-9bc6-4aeddf3677ad",
   "metadata": {},
   "source": [
    "## Columna 'Team' y 'Opponent'"
   ]
  },
  {
   "cell_type": "code",
   "execution_count": 481,
   "id": "283b109a-82de-4757-8e79-1acd52e802a9",
   "metadata": {},
   "outputs": [],
   "source": [
    "opp = set(df_local_comp['Opponent'].unique().tolist())\n",
    "tm = set(df_local_comp['Team'].unique().tolist())"
   ]
  },
  {
   "cell_type": "code",
   "execution_count": 482,
   "id": "8b606b7d-45c3-4ece-b971-6b397c125f73",
   "metadata": {},
   "outputs": [
    {
     "data": {
      "text/plain": [
       "{'Alianza Atletico',\n",
       " 'Alianza Universidad',\n",
       " 'Atletico Grau',\n",
       " 'Carlos A Mannucci',\n",
       " 'Defensor La Bocana',\n",
       " 'Deportivo Municipal',\n",
       " 'Leon de Huanuco',\n",
       " 'San Simon',\n",
       " 'Union Comercio',\n",
       " 'Universidad Cesar Vallejo',\n",
       " 'Universidad San Martin',\n",
       " 'Universidad Tecnica de Cajamarca'}"
      ]
     },
     "execution_count": 482,
     "metadata": {},
     "output_type": "execute_result"
    }
   ],
   "source": [
    "tm - opp"
   ]
  },
  {
   "cell_type": "code",
   "execution_count": 483,
   "id": "4d4811ec-712b-46c2-a04c-dea6c00fe091",
   "metadata": {},
   "outputs": [
    {
     "data": {
      "text/plain": [
       "{'Alianza Atlético',\n",
       " 'Alianza Univ',\n",
       " 'Atlético Grau',\n",
       " 'Comerciantes',\n",
       " 'Dep Municipal',\n",
       " 'La Bocana',\n",
       " 'León Huánuco',\n",
       " 'Mannucci',\n",
       " 'San Simón',\n",
       " 'U César Vallejo',\n",
       " 'USMP',\n",
       " 'UTC',\n",
       " 'Unión Comercio'}"
      ]
     },
     "execution_count": 483,
     "metadata": {},
     "output_type": "execute_result"
    }
   ],
   "source": [
    "opp - tm"
   ]
  },
  {
   "cell_type": "code",
   "execution_count": 484,
   "id": "5cb22cf8-0e1a-456e-9d9e-940eeef87c1d",
   "metadata": {},
   "outputs": [
    {
     "data": {
      "text/plain": [
       "(36, 35)"
      ]
     },
     "execution_count": 484,
     "metadata": {},
     "output_type": "execute_result"
    }
   ],
   "source": [
    "len(opp), len(tm)"
   ]
  },
  {
   "cell_type": "code",
   "execution_count": 485,
   "id": "fe526c77-0249-4a6f-ae7e-cdf82391a287",
   "metadata": {},
   "outputs": [
    {
     "data": {
      "text/plain": [
       "{'ADT Tarma',\n",
       " 'Alianza Atlético',\n",
       " 'Alianza Lima',\n",
       " 'Alianza Univ',\n",
       " 'Atlético Grau',\n",
       " 'Ayacucho',\n",
       " 'Binacional',\n",
       " 'CDC Santa Rosa',\n",
       " 'Cantolao',\n",
       " 'Carlos Stein',\n",
       " 'Cienciano',\n",
       " 'Comerciantes',\n",
       " 'Comerciantes Unidos',\n",
       " 'Cusco',\n",
       " 'Dep Municipal',\n",
       " 'Deportivo Garcilaso',\n",
       " 'Juan Aurich',\n",
       " 'La Bocana',\n",
       " 'León Huánuco',\n",
       " 'Llacuabamba',\n",
       " 'Los Caimanes',\n",
       " 'Mannucci',\n",
       " 'Melgar',\n",
       " 'Pirata',\n",
       " 'Real Garcilaso',\n",
       " 'San Simón',\n",
       " 'Sport Boys',\n",
       " 'Sport Huancayo',\n",
       " 'Sport Loreto',\n",
       " 'Sport Rosario',\n",
       " 'Sporting Cristal',\n",
       " 'U César Vallejo',\n",
       " 'USMP',\n",
       " 'UTC',\n",
       " 'Universitario',\n",
       " 'Unión Comercio'}"
      ]
     },
     "execution_count": 485,
     "metadata": {},
     "output_type": "execute_result"
    }
   ],
   "source": [
    "opp"
   ]
  },
  {
   "cell_type": "markdown",
   "id": "1ba13e22-5397-429f-8f6e-3adf61845c5b",
   "metadata": {},
   "source": [
    "Después de analizar los nombres, se concluye que se deben estandarizar los nombres para evitar problemas.\n",
    "\n",
    "Además, dentro de la columna `Opponent` existe una duplicidad con el equipo _Comerciantes Unidos_, por lo que se debe también corregir ese caso."
   ]
  },
  {
   "cell_type": "markdown",
   "id": "f4b5b621-ffbd-450d-90b4-cf40c7e2d935",
   "metadata": {},
   "source": [
    "## Columna 'Poss'"
   ]
  },
  {
   "cell_type": "code",
   "execution_count": 486,
   "id": "e6114ec8-5a5f-441a-a3bc-263242483747",
   "metadata": {},
   "outputs": [
    {
     "data": {
      "text/plain": [
       "np.float64(1.0)"
      ]
     },
     "execution_count": 486,
     "metadata": {},
     "output_type": "execute_result"
    }
   ],
   "source": [
    "df_local_comp['Poss'].isnull().sum() / df_local_comp.shape[0]"
   ]
  },
  {
   "cell_type": "markdown",
   "id": "4ba1b007-9448-4640-8a72-ab07e98d577a",
   "metadata": {},
   "source": [
    "Para el torneo local, esta columna tiene valores nulos. Por lo tanto, debe __eliminarse__."
   ]
  },
  {
   "cell_type": "markdown",
   "id": "448c9d64-8045-4979-bdb9-c8be747a9c15",
   "metadata": {},
   "source": [
    "## Columna 'Attendance'"
   ]
  },
  {
   "cell_type": "code",
   "execution_count": 487,
   "id": "5c51d161-463b-4893-a759-013fbc6b616f",
   "metadata": {},
   "outputs": [
    {
     "data": {
      "text/plain": [
       "np.float64(0.5261313868613139)"
      ]
     },
     "execution_count": 487,
     "metadata": {},
     "output_type": "execute_result"
    }
   ],
   "source": [
    "df_local_comp['Attendance'].isnull().sum() / df_local_comp.shape[0]"
   ]
  },
  {
   "cell_type": "markdown",
   "id": "d5cc93ae-8551-4442-be2a-8e32c15c61cf",
   "metadata": {},
   "source": [
    "Para el torneo local, la columna tiene alrededor del 50% de nulos en los registros. Por lo tanto, debe __eliminarse__."
   ]
  },
  {
   "cell_type": "markdown",
   "id": "1939d7ad-7768-4f8f-b852-9e09a226f29b",
   "metadata": {},
   "source": [
    "## Columna 'Captain'"
   ]
  },
  {
   "cell_type": "code",
   "execution_count": 488,
   "id": "2fbed46f-e4c5-402c-8c17-b8e5a4a901f6",
   "metadata": {},
   "outputs": [
    {
     "data": {
      "text/plain": [
       "np.float64(0.23036496350364963)"
      ]
     },
     "execution_count": 488,
     "metadata": {},
     "output_type": "execute_result"
    }
   ],
   "source": [
    "df_local_comp['Captain'].isnull().sum() / df_local_comp.shape[0]"
   ]
  },
  {
   "cell_type": "code",
   "execution_count": 489,
   "id": "1bc8a11e-3d44-460c-a2f2-bae7bd67eed5",
   "metadata": {},
   "outputs": [
    {
     "data": {
      "text/plain": [
       "(331,)"
      ]
     },
     "execution_count": 489,
     "metadata": {},
     "output_type": "execute_result"
    }
   ],
   "source": [
    "df_local_comp['Captain'].unique().shape"
   ]
  },
  {
   "cell_type": "markdown",
   "id": "50e347cd-1fd1-4736-89f0-7cf308f1b15a",
   "metadata": {},
   "source": [
    "Para el torneo local, la columna tiene alrededor del 20% de nulos, por lo que no merece ser eliminada.\n",
    "Sin embargo, los valores son nombres de jugadores, lo cual es un valor que a principio no es muy útil para la predicción.\n",
    "Además, existen 331 valores únicos, lo que lo convierte en una columna difícil de trabajar."
   ]
  },
  {
   "cell_type": "markdown",
   "id": "5ac95ce6-2f1f-4d7b-9b42-323072b1d0d7",
   "metadata": {},
   "source": [
    "## Columna 'Formation'"
   ]
  },
  {
   "cell_type": "code",
   "execution_count": 490,
   "id": "d1ea0a92-9366-4733-b4f9-64abe9cd5dbd",
   "metadata": {},
   "outputs": [
    {
     "data": {
      "text/plain": [
       "np.float64(0.26496350364963506)"
      ]
     },
     "execution_count": 490,
     "metadata": {},
     "output_type": "execute_result"
    }
   ],
   "source": [
    "df_local_comp['Formation'].isnull().sum() / df_local_comp.shape[0]"
   ]
  },
  {
   "cell_type": "code",
   "execution_count": 491,
   "id": "5f26c933-45f4-4dc3-bdae-acc3ecde04c2",
   "metadata": {},
   "outputs": [
    {
     "data": {
      "text/plain": [
       "array([nan, '4-1-4-1', '3-5-2', '4-5-1', '4-3-3', '4-2-3-1', '3-4-1-2',\n",
       "       '3-4-3', '4-1-3-2', '4-4-2', '4-4-1-1', '4-3-1-2', '5-4-1',\n",
       "       '5-3-2', '4-2-2-2', '4-3-2-1', '3-2-4-1', '4-4-2◆', '3-1-4-2',\n",
       "       '3-5-1-1', '3-3-3-1', '4-2-4'], dtype=object)"
      ]
     },
     "execution_count": 491,
     "metadata": {},
     "output_type": "execute_result"
    }
   ],
   "source": [
    "fm = df_local_comp['Formation'].unique()\n",
    "fm"
   ]
  },
  {
   "cell_type": "code",
   "execution_count": 492,
   "id": "dd007999-5c89-44aa-bff9-d332ff740322",
   "metadata": {},
   "outputs": [
    {
     "data": {
      "text/plain": [
       "(22,)"
      ]
     },
     "execution_count": 492,
     "metadata": {},
     "output_type": "execute_result"
    }
   ],
   "source": [
    "fm.shape"
   ]
  },
  {
   "cell_type": "markdown",
   "id": "1628f028-1059-4889-9a6b-7696e826cf00",
   "metadata": {},
   "source": [
    "La columna tiene cerca del 26% de valores como nulos, sin embargo, tiene 22 valores únicos, lo que lo hace complicado de trabajar.\n",
    "Además, es una columna que en un primer momento no aporta demasiado valor a la predicción en base al conocimiento del dominio.\n",
    "\n",
    "Por lo tanto, se __eliminará__."
   ]
  },
  {
   "cell_type": "markdown",
   "id": "23c8341e-0683-4979-99ba-ccd79851be35",
   "metadata": {},
   "source": [
    "## Columna 'Opp Formation'"
   ]
  },
  {
   "cell_type": "code",
   "execution_count": 493,
   "id": "508f2339-a899-4b95-9435-36788f9bb413",
   "metadata": {},
   "outputs": [
    {
     "data": {
      "text/plain": [
       "np.float64(0.26496350364963506)"
      ]
     },
     "execution_count": 493,
     "metadata": {},
     "output_type": "execute_result"
    }
   ],
   "source": [
    "df_local_comp['Opp Formation'].isnull().sum() / df_local_comp.shape[0]"
   ]
  },
  {
   "cell_type": "code",
   "execution_count": 494,
   "id": "8cda2ea4-40ca-491d-a6da-b5f73b23383e",
   "metadata": {},
   "outputs": [
    {
     "data": {
      "text/plain": [
       "array([nan, '4-3-1-2', '4-2-3-1', '5-3-2', '4-2-2-2', '4-3-3', '4-5-1',\n",
       "       '4-1-4-1', '4-4-2', '4-4-1-1', '3-4-3', '3-4-1-2', '3-5-2',\n",
       "       '5-4-1', '4-3-2-1', '3-2-4-1', '4-1-3-2', '3-1-4-2', '3-5-1-1',\n",
       "       '3-3-3-1', '4-2-4'], dtype=object)"
      ]
     },
     "execution_count": 494,
     "metadata": {},
     "output_type": "execute_result"
    }
   ],
   "source": [
    "ofm = df_local_comp['Opp Formation'].unique()\n",
    "ofm"
   ]
  },
  {
   "cell_type": "code",
   "execution_count": 495,
   "id": "1f903fbc-5e76-4850-a6da-30a83c701475",
   "metadata": {},
   "outputs": [
    {
     "data": {
      "text/plain": [
       "(21,)"
      ]
     },
     "execution_count": 495,
     "metadata": {},
     "output_type": "execute_result"
    }
   ],
   "source": [
    "ofm.shape"
   ]
  },
  {
   "cell_type": "markdown",
   "id": "4d88b00b-f63c-4294-a30f-338a5407cd2f",
   "metadata": {},
   "source": [
    "La columna tiene cerca del 26% de valores como nulos, sin embargo, tiene 22 valores únicos, lo que lo hace complicado de trabajar.\n",
    "Además, es una columna que en un primer momento no aporta demasiado valor a la predicción en base al conocimiento del dominio.\n",
    "\n",
    "Por lo tanto, se __eliminará__."
   ]
  },
  {
   "cell_type": "markdown",
   "id": "0e92a896-65a3-4c88-ad2c-25b28ceb09d1",
   "metadata": {},
   "source": [
    "## Columna 'Referee'"
   ]
  },
  {
   "cell_type": "markdown",
   "id": "164849f9-f604-484c-b67a-5dfbc0d87602",
   "metadata": {},
   "source": [
    "Esta columna contiene los nombres de los árbitros de los partidos, lo que no ofrece demasiado valor para la predicción. Por lo tanto, se __eliminará__."
   ]
  },
  {
   "cell_type": "markdown",
   "id": "96d7a6bc-1cfa-4da0-bcd9-73c4d4917e83",
   "metadata": {},
   "source": [
    "## Columna 'Match Report'"
   ]
  },
  {
   "cell_type": "code",
   "execution_count": 496,
   "id": "adda3f2a-893d-4960-be34-86e81268bee0",
   "metadata": {},
   "outputs": [
    {
     "data": {
      "text/plain": [
       "array(['Match Report'], dtype=object)"
      ]
     },
     "execution_count": 496,
     "metadata": {},
     "output_type": "execute_result"
    }
   ],
   "source": [
    "df_local_comp['Match Report'].unique()"
   ]
  },
  {
   "cell_type": "markdown",
   "id": "01246400-a41a-4e17-ba23-b7bddaa05f2d",
   "metadata": {},
   "source": [
    "Esta columna no aporta valor para la predicción. Se __eliminará__."
   ]
  },
  {
   "cell_type": "markdown",
   "id": "64659b64-2629-4a85-86d4-9b5ab1fc5b2d",
   "metadata": {},
   "source": [
    "## Columna 'Notes'"
   ]
  },
  {
   "cell_type": "code",
   "execution_count": 497,
   "id": "026c7acb-9238-4fc8-abcd-fd284ccb9768",
   "metadata": {},
   "outputs": [
    {
     "name": "stdout",
     "output_type": "stream",
     "text": [
      "<class 'pandas.core.series.Series'>\n",
      "Index: 6850 entries, 0 to 7205\n",
      "Series name: Notes\n",
      "Non-Null Count  Dtype \n",
      "--------------  ----- \n",
      "122 non-null    object\n",
      "dtypes: object(1)\n",
      "memory usage: 107.0+ KB\n"
     ]
    }
   ],
   "source": [
    "df_local_comp['Notes'].info()"
   ]
  },
  {
   "cell_type": "code",
   "execution_count": 498,
   "id": "93cad3fe-2d98-4f38-b86c-f3ced25c204e",
   "metadata": {},
   "outputs": [
    {
     "data": {
      "text/plain": [
       "np.float64(0.9821897810218978)"
      ]
     },
     "execution_count": 498,
     "metadata": {},
     "output_type": "execute_result"
    }
   ],
   "source": [
    "df_local_comp['Notes'].isnull().sum() / df_local_comp.shape[0]"
   ]
  },
  {
   "cell_type": "markdown",
   "id": "749b2634-0032-4bd9-bbec-9360362eb20f",
   "metadata": {},
   "source": [
    "La columna será __eliminada__, pues no aporta valor a la predicción, además de que tiene cerca del 98% de valores nulos."
   ]
  },
  {
   "cell_type": "markdown",
   "id": "755fc2ae-1114-4a41-a861-7b1b2fda244f",
   "metadata": {},
   "source": [
    "# Limpiando la data"
   ]
  },
  {
   "cell_type": "markdown",
   "id": "b0230df3-412a-4214-b249-47bb39b0aa76",
   "metadata": {},
   "source": [
    "## Manejando las fechas de los partidos"
   ]
  },
  {
   "cell_type": "code",
   "execution_count": 499,
   "id": "9f47c42e-aa66-4743-a6c0-d25abb33e15e",
   "metadata": {},
   "outputs": [
    {
     "data": {
      "text/html": [
       "<div>\n",
       "<style scoped>\n",
       "    .dataframe tbody tr th:only-of-type {\n",
       "        vertical-align: middle;\n",
       "    }\n",
       "\n",
       "    .dataframe tbody tr th {\n",
       "        vertical-align: top;\n",
       "    }\n",
       "\n",
       "    .dataframe thead th {\n",
       "        text-align: right;\n",
       "    }\n",
       "</style>\n",
       "<table border=\"1\" class=\"dataframe\">\n",
       "  <thead>\n",
       "    <tr style=\"text-align: right;\">\n",
       "      <th></th>\n",
       "      <th>Date</th>\n",
       "      <th>Time</th>\n",
       "      <th>Comp</th>\n",
       "      <th>Round</th>\n",
       "      <th>Day</th>\n",
       "      <th>Venue</th>\n",
       "      <th>Result</th>\n",
       "      <th>GF</th>\n",
       "      <th>GA</th>\n",
       "      <th>Opponent</th>\n",
       "      <th>Poss</th>\n",
       "      <th>Attendance</th>\n",
       "      <th>Captain</th>\n",
       "      <th>Formation</th>\n",
       "      <th>Opp Formation</th>\n",
       "      <th>Referee</th>\n",
       "      <th>Match Report</th>\n",
       "      <th>Notes</th>\n",
       "      <th>Team</th>\n",
       "    </tr>\n",
       "  </thead>\n",
       "  <tbody>\n",
       "    <tr>\n",
       "      <th>30</th>\n",
       "      <td>2014-12-13</td>\n",
       "      <td>NaN</td>\n",
       "      <td>Descentralizado</td>\n",
       "      <td>Championship play-off</td>\n",
       "      <td>Sat</td>\n",
       "      <td>Home</td>\n",
       "      <td>D</td>\n",
       "      <td>2</td>\n",
       "      <td>2</td>\n",
       "      <td>Sporting Cristal</td>\n",
       "      <td>NaN</td>\n",
       "      <td>NaN</td>\n",
       "      <td>NaN</td>\n",
       "      <td>NaN</td>\n",
       "      <td>NaN</td>\n",
       "      <td>NaN</td>\n",
       "      <td>Match Report</td>\n",
       "      <td>NaN</td>\n",
       "      <td>Juan Aurich</td>\n",
       "    </tr>\n",
       "    <tr>\n",
       "      <th>31</th>\n",
       "      <td>2014-12-16</td>\n",
       "      <td>NaN</td>\n",
       "      <td>Descentralizado</td>\n",
       "      <td>Championship play-off</td>\n",
       "      <td>Tue</td>\n",
       "      <td>Away</td>\n",
       "      <td>D</td>\n",
       "      <td>0</td>\n",
       "      <td>0</td>\n",
       "      <td>Sporting Cristal</td>\n",
       "      <td>NaN</td>\n",
       "      <td>NaN</td>\n",
       "      <td>NaN</td>\n",
       "      <td>NaN</td>\n",
       "      <td>NaN</td>\n",
       "      <td>NaN</td>\n",
       "      <td>Match Report</td>\n",
       "      <td>NaN</td>\n",
       "      <td>Juan Aurich</td>\n",
       "    </tr>\n",
       "    <tr>\n",
       "      <th>423</th>\n",
       "      <td>2014-12-13</td>\n",
       "      <td>NaN</td>\n",
       "      <td>Descentralizado</td>\n",
       "      <td>Championship play-off</td>\n",
       "      <td>Sat</td>\n",
       "      <td>Away</td>\n",
       "      <td>D</td>\n",
       "      <td>2</td>\n",
       "      <td>2</td>\n",
       "      <td>Juan Aurich</td>\n",
       "      <td>NaN</td>\n",
       "      <td>NaN</td>\n",
       "      <td>NaN</td>\n",
       "      <td>NaN</td>\n",
       "      <td>NaN</td>\n",
       "      <td>NaN</td>\n",
       "      <td>Match Report</td>\n",
       "      <td>NaN</td>\n",
       "      <td>Sporting Cristal</td>\n",
       "    </tr>\n",
       "    <tr>\n",
       "      <th>424</th>\n",
       "      <td>2014-12-16</td>\n",
       "      <td>NaN</td>\n",
       "      <td>Descentralizado</td>\n",
       "      <td>Championship play-off</td>\n",
       "      <td>Tue</td>\n",
       "      <td>Home</td>\n",
       "      <td>D</td>\n",
       "      <td>0</td>\n",
       "      <td>0</td>\n",
       "      <td>Juan Aurich</td>\n",
       "      <td>NaN</td>\n",
       "      <td>NaN</td>\n",
       "      <td>NaN</td>\n",
       "      <td>NaN</td>\n",
       "      <td>NaN</td>\n",
       "      <td>NaN</td>\n",
       "      <td>Match Report</td>\n",
       "      <td>NaN</td>\n",
       "      <td>Sporting Cristal</td>\n",
       "    </tr>\n",
       "  </tbody>\n",
       "</table>\n",
       "</div>"
      ],
      "text/plain": [
       "           Date Time             Comp                  Round  Day Venue  \\\n",
       "30   2014-12-13  NaN  Descentralizado  Championship play-off  Sat  Home   \n",
       "31   2014-12-16  NaN  Descentralizado  Championship play-off  Tue  Away   \n",
       "423  2014-12-13  NaN  Descentralizado  Championship play-off  Sat  Away   \n",
       "424  2014-12-16  NaN  Descentralizado  Championship play-off  Tue  Home   \n",
       "\n",
       "    Result GF GA          Opponent  Poss Attendance Captain Formation  \\\n",
       "30       D  2  2  Sporting Cristal   NaN        NaN     NaN       NaN   \n",
       "31       D  0  0  Sporting Cristal   NaN        NaN     NaN       NaN   \n",
       "423      D  2  2       Juan Aurich   NaN        NaN     NaN       NaN   \n",
       "424      D  0  0       Juan Aurich   NaN        NaN     NaN       NaN   \n",
       "\n",
       "    Opp Formation Referee  Match Report Notes              Team  \n",
       "30            NaN     NaN  Match Report   NaN       Juan Aurich  \n",
       "31            NaN     NaN  Match Report   NaN       Juan Aurich  \n",
       "423           NaN     NaN  Match Report   NaN  Sporting Cristal  \n",
       "424           NaN     NaN  Match Report   NaN  Sporting Cristal  "
      ]
     },
     "execution_count": 499,
     "metadata": {},
     "output_type": "execute_result"
    }
   ],
   "source": [
    "df_time_null = df[(df['Time'].isnull()) & (df['Venue'] != 'Neutral')]\n",
    "df_time_null"
   ]
  },
  {
   "cell_type": "code",
   "execution_count": 500,
   "id": "cf04b407-e2a7-44a5-b803-2e83437a1c42",
   "metadata": {},
   "outputs": [],
   "source": [
    "df_time_null.iloc[[0, 2], 1] = '15:45'\n",
    "df_time_null.iloc[[1, 3], 1] = '20:00'\n",
    "df.loc[df_time_null.index] = df_time_null"
   ]
  },
  {
   "cell_type": "code",
   "execution_count": 501,
   "id": "791276fe-d6b5-408f-9d41-3122b976466a",
   "metadata": {},
   "outputs": [],
   "source": [
    "datetime = df['Date'] + ' ' + df['Time']\n",
    "df['DateTime'] = pd.to_datetime(datetime, format='%Y-%m-%d %H:%M')"
   ]
  },
  {
   "cell_type": "code",
   "execution_count": 502,
   "id": "4dbb6596-97b7-4d63-91a8-c10347688974",
   "metadata": {},
   "outputs": [],
   "source": [
    "df['Day'] = df['DateTime'].dt.dayofweek"
   ]
  },
  {
   "cell_type": "code",
   "execution_count": 503,
   "id": "f189348a-d2c3-436f-a0d2-c6599b9cdb81",
   "metadata": {},
   "outputs": [
    {
     "data": {
      "text/html": [
       "<div>\n",
       "<style scoped>\n",
       "    .dataframe tbody tr th:only-of-type {\n",
       "        vertical-align: middle;\n",
       "    }\n",
       "\n",
       "    .dataframe tbody tr th {\n",
       "        vertical-align: top;\n",
       "    }\n",
       "\n",
       "    .dataframe thead th {\n",
       "        text-align: right;\n",
       "    }\n",
       "</style>\n",
       "<table border=\"1\" class=\"dataframe\">\n",
       "  <thead>\n",
       "    <tr style=\"text-align: right;\">\n",
       "      <th></th>\n",
       "      <th>Comp</th>\n",
       "      <th>Round</th>\n",
       "      <th>Day</th>\n",
       "      <th>Venue</th>\n",
       "      <th>Result</th>\n",
       "      <th>GF</th>\n",
       "      <th>GA</th>\n",
       "      <th>Opponent</th>\n",
       "      <th>Poss</th>\n",
       "      <th>Attendance</th>\n",
       "      <th>Captain</th>\n",
       "      <th>Formation</th>\n",
       "      <th>Opp Formation</th>\n",
       "      <th>Referee</th>\n",
       "      <th>Match Report</th>\n",
       "      <th>Notes</th>\n",
       "      <th>Team</th>\n",
       "      <th>DateTime</th>\n",
       "    </tr>\n",
       "  </thead>\n",
       "  <tbody>\n",
       "    <tr>\n",
       "      <th>0</th>\n",
       "      <td>Descentralizado</td>\n",
       "      <td>Torneo Apertura</td>\n",
       "      <td>5.0</td>\n",
       "      <td>Home</td>\n",
       "      <td>W</td>\n",
       "      <td>2</td>\n",
       "      <td>1</td>\n",
       "      <td>San Simón</td>\n",
       "      <td>NaN</td>\n",
       "      <td>1,877</td>\n",
       "      <td>NaN</td>\n",
       "      <td>NaN</td>\n",
       "      <td>NaN</td>\n",
       "      <td>Fernando Legario</td>\n",
       "      <td>Match Report</td>\n",
       "      <td>NaN</td>\n",
       "      <td>Juan Aurich</td>\n",
       "      <td>2014-06-07 18:00:00</td>\n",
       "    </tr>\n",
       "    <tr>\n",
       "      <th>1</th>\n",
       "      <td>Descentralizado</td>\n",
       "      <td>Torneo Apertura</td>\n",
       "      <td>5.0</td>\n",
       "      <td>Away</td>\n",
       "      <td>L</td>\n",
       "      <td>0</td>\n",
       "      <td>2</td>\n",
       "      <td>U César Vallejo</td>\n",
       "      <td>NaN</td>\n",
       "      <td>1,375</td>\n",
       "      <td>NaN</td>\n",
       "      <td>NaN</td>\n",
       "      <td>NaN</td>\n",
       "      <td>Luis Garay Evia</td>\n",
       "      <td>Match Report</td>\n",
       "      <td>NaN</td>\n",
       "      <td>Juan Aurich</td>\n",
       "      <td>2014-06-14 16:00:00</td>\n",
       "    </tr>\n",
       "    <tr>\n",
       "      <th>2</th>\n",
       "      <td>Descentralizado</td>\n",
       "      <td>Torneo Apertura</td>\n",
       "      <td>5.0</td>\n",
       "      <td>Home</td>\n",
       "      <td>W</td>\n",
       "      <td>2</td>\n",
       "      <td>1</td>\n",
       "      <td>León Huánuco</td>\n",
       "      <td>NaN</td>\n",
       "      <td>1,683</td>\n",
       "      <td>NaN</td>\n",
       "      <td>NaN</td>\n",
       "      <td>NaN</td>\n",
       "      <td>Diego Haro</td>\n",
       "      <td>Match Report</td>\n",
       "      <td>NaN</td>\n",
       "      <td>Juan Aurich</td>\n",
       "      <td>2014-06-21 15:45:00</td>\n",
       "    </tr>\n",
       "    <tr>\n",
       "      <th>3</th>\n",
       "      <td>Descentralizado</td>\n",
       "      <td>Torneo Apertura</td>\n",
       "      <td>6.0</td>\n",
       "      <td>Away</td>\n",
       "      <td>D</td>\n",
       "      <td>0</td>\n",
       "      <td>0</td>\n",
       "      <td>Alianza Lima</td>\n",
       "      <td>NaN</td>\n",
       "      <td>6,119</td>\n",
       "      <td>NaN</td>\n",
       "      <td>NaN</td>\n",
       "      <td>NaN</td>\n",
       "      <td>Luis Garay Evia</td>\n",
       "      <td>Match Report</td>\n",
       "      <td>NaN</td>\n",
       "      <td>Juan Aurich</td>\n",
       "      <td>2014-06-29 16:00:00</td>\n",
       "    </tr>\n",
       "    <tr>\n",
       "      <th>4</th>\n",
       "      <td>Descentralizado</td>\n",
       "      <td>Torneo Apertura</td>\n",
       "      <td>5.0</td>\n",
       "      <td>Home</td>\n",
       "      <td>W</td>\n",
       "      <td>6</td>\n",
       "      <td>0</td>\n",
       "      <td>Sport Huancayo</td>\n",
       "      <td>NaN</td>\n",
       "      <td>1,366</td>\n",
       "      <td>NaN</td>\n",
       "      <td>NaN</td>\n",
       "      <td>NaN</td>\n",
       "      <td>Miguel Santiváñez</td>\n",
       "      <td>Match Report</td>\n",
       "      <td>NaN</td>\n",
       "      <td>Juan Aurich</td>\n",
       "      <td>2014-07-05 17:30:00</td>\n",
       "    </tr>\n",
       "  </tbody>\n",
       "</table>\n",
       "</div>"
      ],
      "text/plain": [
       "              Comp            Round  Day Venue Result GF GA         Opponent  \\\n",
       "0  Descentralizado  Torneo Apertura  5.0  Home      W  2  1        San Simón   \n",
       "1  Descentralizado  Torneo Apertura  5.0  Away      L  0  2  U César Vallejo   \n",
       "2  Descentralizado  Torneo Apertura  5.0  Home      W  2  1     León Huánuco   \n",
       "3  Descentralizado  Torneo Apertura  6.0  Away      D  0  0     Alianza Lima   \n",
       "4  Descentralizado  Torneo Apertura  5.0  Home      W  6  0   Sport Huancayo   \n",
       "\n",
       "   Poss Attendance Captain Formation Opp Formation            Referee  \\\n",
       "0   NaN      1,877     NaN       NaN           NaN   Fernando Legario   \n",
       "1   NaN      1,375     NaN       NaN           NaN    Luis Garay Evia   \n",
       "2   NaN      1,683     NaN       NaN           NaN         Diego Haro   \n",
       "3   NaN      6,119     NaN       NaN           NaN    Luis Garay Evia   \n",
       "4   NaN      1,366     NaN       NaN           NaN  Miguel Santiváñez   \n",
       "\n",
       "   Match Report Notes         Team            DateTime  \n",
       "0  Match Report   NaN  Juan Aurich 2014-06-07 18:00:00  \n",
       "1  Match Report   NaN  Juan Aurich 2014-06-14 16:00:00  \n",
       "2  Match Report   NaN  Juan Aurich 2014-06-21 15:45:00  \n",
       "3  Match Report   NaN  Juan Aurich 2014-06-29 16:00:00  \n",
       "4  Match Report   NaN  Juan Aurich 2014-07-05 17:30:00  "
      ]
     },
     "execution_count": 503,
     "metadata": {},
     "output_type": "execute_result"
    }
   ],
   "source": [
    "df.drop(['Date', 'Time'], axis=1, inplace=True)\n",
    "df.head()"
   ]
  },
  {
   "cell_type": "markdown",
   "id": "333f4624-1b11-45bb-882a-79173ebb903d",
   "metadata": {},
   "source": [
    "## Ajustando la compentencia"
   ]
  },
  {
   "cell_type": "code",
   "execution_count": 504,
   "id": "3e51d15c-721f-4d01-9ba0-2f5bb8f089d0",
   "metadata": {},
   "outputs": [
    {
     "data": {
      "text/plain": [
       "array(['Liga 1'], dtype=object)"
      ]
     },
     "execution_count": 504,
     "metadata": {},
     "output_type": "execute_result"
    }
   ],
   "source": [
    "df['Comp'] = df['Comp'].replace({'Descentralizado': 'Liga 1'})\n",
    "df = df[df['Comp'] == 'Liga 1']\n",
    "df['Comp'].unique()"
   ]
  },
  {
   "cell_type": "code",
   "execution_count": 505,
   "id": "afe157fd-4043-4033-a4e3-3a9a34b0c4da",
   "metadata": {},
   "outputs": [
    {
     "data": {
      "text/plain": [
       "(6850, 18)"
      ]
     },
     "execution_count": 505,
     "metadata": {},
     "output_type": "execute_result"
    }
   ],
   "source": [
    "df.shape"
   ]
  },
  {
   "cell_type": "markdown",
   "id": "f33bb18c-c665-4423-a12d-0a6dcabc7140",
   "metadata": {},
   "source": [
    "## Ajustando la columna Round"
   ]
  },
  {
   "cell_type": "code",
   "execution_count": 506,
   "id": "fd88b662-e3ec-4d22-878f-70db3692d915",
   "metadata": {},
   "outputs": [],
   "source": [
    "regular_season = ['Torneo Apertura', 'Torneo Clausura', 'Liguillas', 'Torneo de Verano Regular Season', 'Group Stage']\n",
    "df['Round'] = df['Round'].replace(to_replace=regular_season, value='Regular Season')"
   ]
  },
  {
   "cell_type": "code",
   "execution_count": 507,
   "id": "f913a1d5-41c4-42e5-9d42-49841c1633d3",
   "metadata": {},
   "outputs": [],
   "source": [
    "finals = ['Championship play-off', 'Clausura play-off', 'Relegation play-off', 'Semi-finals', 'Finals', 'Third-place play-off', 'Torneo de Verano Finals', 'Final']\n",
    "df['Round'] = df['Round'].replace(to_replace=finals, value='Finals')"
   ]
  },
  {
   "cell_type": "code",
   "execution_count": 508,
   "id": "ea3fa076-a3ba-40df-a01e-97bd85db3874",
   "metadata": {},
   "outputs": [
    {
     "data": {
      "text/plain": [
       "array(['Regular Season', 'Finals'], dtype=object)"
      ]
     },
     "execution_count": 508,
     "metadata": {},
     "output_type": "execute_result"
    }
   ],
   "source": [
    "df['Round'].unique()"
   ]
  },
  {
   "cell_type": "markdown",
   "id": "fc09c369-7a9c-47b9-b9c5-841906f89144",
   "metadata": {},
   "source": [
    "## Eliminamos partidos neutrales"
   ]
  },
  {
   "cell_type": "code",
   "execution_count": 509,
   "id": "a2cceec6-5e0b-4c28-9e98-80485c13ff6a",
   "metadata": {},
   "outputs": [
    {
     "data": {
      "text/plain": [
       "array(['Home', 'Away'], dtype=object)"
      ]
     },
     "execution_count": 509,
     "metadata": {},
     "output_type": "execute_result"
    }
   ],
   "source": [
    "df = df.drop(df[df['Venue'] == 'Neutral'].index).reset_index(drop=True)\n",
    "df['Venue'].unique()"
   ]
  },
  {
   "cell_type": "code",
   "execution_count": 510,
   "id": "07ba977c-8f1e-480e-9af5-37161c486bde",
   "metadata": {},
   "outputs": [
    {
     "data": {
      "text/plain": [
       "(6844, 18)"
      ]
     },
     "execution_count": 510,
     "metadata": {},
     "output_type": "execute_result"
    }
   ],
   "source": [
    "df.shape"
   ]
  },
  {
   "cell_type": "markdown",
   "id": "895b897e-cac9-46d4-8394-66a6e6370de7",
   "metadata": {},
   "source": [
    "## Ajustamos los goles"
   ]
  },
  {
   "cell_type": "code",
   "execution_count": 511,
   "id": "144f4d56-bda7-4f1c-8e4e-d126496e5b64",
   "metadata": {},
   "outputs": [],
   "source": [
    "# Se tratará como empate y se ignorará los goles de penales\n",
    "def get_goals(row):\n",
    "    row['GF'] = row['GF'].split('(')[0].strip()\n",
    "    row['GA'] = row['GA'].split('(')[0].strip()\n",
    "    return row\n",
    "df = df.apply(get_goals, axis=1)\n",
    "df['GF'] = df['GF'].astype(int)\n",
    "df['GA'] = df['GA'].astype(int)"
   ]
  },
  {
   "cell_type": "code",
   "execution_count": 512,
   "id": "0c60c38d-a436-48b8-a0ae-1a7a8863276e",
   "metadata": {},
   "outputs": [
    {
     "data": {
      "image/png": "[encoded data removed]",
      "text/plain": [
       "<Figure size 640x480 with 1 Axes>"
      ]
     },
     "metadata": {},
     "output_type": "display_data"
    }
   ],
   "source": [
    "sns.histplot(df, x='GF');"
   ]
  },
  {
   "cell_type": "code",
   "execution_count": 513,
   "id": "59662647-e5e2-4b22-9aa9-811c8b008133",
   "metadata": {},
   "outputs": [
    {
     "data": {
      "text/plain": [
       "count    6844.000000\n",
       "mean        1.327148\n",
       "std         1.196377\n",
       "min         0.000000\n",
       "25%         0.000000\n",
       "50%         1.000000\n",
       "75%         2.000000\n",
       "max        12.000000\n",
       "Name: GF, dtype: float64"
      ]
     },
     "execution_count": 513,
     "metadata": {},
     "output_type": "execute_result"
    }
   ],
   "source": [
    "df['GF'].describe()"
   ]
  },
  {
   "cell_type": "markdown",
   "id": "e13377e5-8863-433d-899e-54952d308a55",
   "metadata": {},
   "source": [
    "## Resolviendo inconsistencias en los nombres"
   ]
  },
  {
   "cell_type": "code",
   "execution_count": 514,
   "id": "3813317c-6ce2-4bcf-a772-ab001283a334",
   "metadata": {},
   "outputs": [],
   "source": [
    "team_dict = {\n",
    "    'Alianza Atletico': 'Alianza Atlético',\n",
    "    'Alianza Univ': 'Alianza Universidad',\n",
    "    'Atletico Grau': 'Atlético Grau',\n",
    "    'Mannucci': 'Carlos A Mannucci',\n",
    "    'La Bocana': 'Defensor La Bocana',\n",
    "    'Dep Municipal': 'Deportivo Municipal',\n",
    "    'Leon de Huanuco': 'León Huánuco',\n",
    "    'San Simon': 'San Simón',\n",
    "    'U César Vallejo': 'Universidad César Vallejo',\n",
    "    'Universidad Cesar Vallejo': 'Universidad César Vallejo',\n",
    "    'Union Comercio':'Unión Comercio',\n",
    "    'USMP': 'Universidad San Martin',\n",
    "    'UTC':'Universidad Técnica de Cajamarca',\n",
    "    'Universidad Tecnica de Cajamarca': 'Universidad Técnica de Cajamarca',\n",
    "    'Comerciantes': 'Comerciantes Unidos',\n",
    "}"
   ]
  },
  {
   "cell_type": "code",
   "execution_count": 515,
   "id": "811dd02e-1553-4b0e-b44e-44145be95bb9",
   "metadata": {},
   "outputs": [],
   "source": [
    "df['Team'] = df['Team'].replace(team_dict)\n",
    "df['Opponent'] = df['Opponent'].replace(team_dict)"
   ]
  },
  {
   "cell_type": "code",
   "execution_count": 516,
   "id": "e77286ab-7683-4d35-95a6-9d2d39daf79f",
   "metadata": {},
   "outputs": [],
   "source": [
    "opp = set(df['Opponent'].unique().tolist())\n",
    "tm = set(df['Team'].unique().tolist())"
   ]
  },
  {
   "cell_type": "code",
   "execution_count": 517,
   "id": "51dbd8f8-1054-4c5a-a5da-e3ee84ed9fd6",
   "metadata": {},
   "outputs": [
    {
     "data": {
      "text/plain": [
       "(set(), set(), 35, 35)"
      ]
     },
     "execution_count": 517,
     "metadata": {},
     "output_type": "execute_result"
    }
   ],
   "source": [
    "tm - opp, opp - tm, len(tm), len(opp)"
   ]
  },
  {
   "cell_type": "markdown",
   "id": "351ed615-451c-4703-89ef-5271ab2ea482",
   "metadata": {},
   "source": [
    "## Analizamos partidos duplicados\n",
    "Debido a la naturaleza del dataset, el cual contiene todos los partidos por equipo, se tienen partidos duplicados.\n",
    "Ejemplo:\n",
    "\n",
    "- Universitario vs Alianza Lima: De este partido se tiene el registro de Univeristario en una fila y el de Alianza en otra.\n",
    "\n",
    "Por lo tanto, debemos reducir el dataset para que exista un registro por partido con el equipo local y equipo visitante."
   ]
  },
  {
   "cell_type": "code",
   "execution_count": 518,
   "id": "8e3f9483-db0e-416d-a819-7b58260d3027",
   "metadata": {},
   "outputs": [],
   "source": [
    "inv = {'M': 'M', 'W': 'L', 'L': 'W', 'D': 'D'}"
   ]
  },
  {
   "cell_type": "code",
   "execution_count": 519,
   "id": "e81024b9-3440-4cb2-9549-d267d25d7971",
   "metadata": {},
   "outputs": [],
   "source": [
    "def parse_matches(row) -> pd.Series:\n",
    "    if row['Venue'] == 'Home':\n",
    "        row['Home Team'] = row['Team']\n",
    "        row['Away Team'] = row['Opponent']\n",
    "    else:\n",
    "        row['Home Team'] = row['Opponent']\n",
    "        row['Away Team'] = row['Team']\n",
    "        # Swap goals for away matches\n",
    "        row['GF'], row['GA'] = row['GA'], row['GF']\n",
    "        # Invert result for away matches\n",
    "        row['Result'] = inv[row['Result']]\n",
    "\n",
    "    return row\n",
    "\n",
    "df = (df.apply(parse_matches, axis=1)  # type: ignore\n",
    "      # Remove duplicate matches\n",
    "      .drop_duplicates(subset=['DateTime', 'Home Team', 'Away Team'],\n",
    "                       ignore_index=True)\n",
    "      # Sort matches by date and time\n",
    "      .sort_values(['DateTime'], axis=0, ignore_index=True)\n",
    "     )"
   ]
  },
  {
   "cell_type": "code",
   "execution_count": 520,
   "id": "1b2b3cd8-ca71-42be-a807-02f1e028193c",
   "metadata": {},
   "outputs": [
    {
     "data": {
      "text/plain": [
       "(3422, 20)"
      ]
     },
     "execution_count": 520,
     "metadata": {},
     "output_type": "execute_result"
    }
   ],
   "source": [
    "df.shape"
   ]
  },
  {
   "cell_type": "markdown",
   "id": "9c924104-42bf-481c-9387-5c3d6847bfed",
   "metadata": {},
   "source": [
    "## Dropeamos las columnas que no aportan valor"
   ]
  },
  {
   "cell_type": "code",
   "execution_count": 521,
   "id": "0a4ef182-fbf8-4b1c-8bf9-b7e3e861a2e0",
   "metadata": {},
   "outputs": [
    {
     "data": {
      "text/plain": [
       "(3422, 9)"
      ]
     },
     "execution_count": 521,
     "metadata": {},
     "output_type": "execute_result"
    }
   ],
   "source": [
    "cols = ['Comp', 'Opponent', 'Team', 'Poss', 'Attendance', 'Captain', 'Formation', 'Opp Formation', 'Referee', 'Match Report', 'Notes']\n",
    "df = df.drop(cols, axis=1)\n",
    "df.shape"
   ]
  },
  {
   "cell_type": "code",
   "execution_count": 522,
   "id": "3bbd558c-423e-4e53-ad5a-7cc716ff9e88",
   "metadata": {},
   "outputs": [
    {
     "name": "stdout",
     "output_type": "stream",
     "text": [
      "<class 'pandas.core.frame.DataFrame'>\n",
      "RangeIndex: 3422 entries, 0 to 3421\n",
      "Data columns (total 9 columns):\n",
      " #   Column     Non-Null Count  Dtype         \n",
      "---  ------     --------------  -----         \n",
      " 0   Round      3422 non-null   object        \n",
      " 1   Day        3422 non-null   float64       \n",
      " 2   Venue      3422 non-null   object        \n",
      " 3   Result     3422 non-null   object        \n",
      " 4   GF         3422 non-null   int64         \n",
      " 5   GA         3422 non-null   int64         \n",
      " 6   DateTime   3422 non-null   datetime64[ns]\n",
      " 7   Home Team  3422 non-null   object        \n",
      " 8   Away Team  3422 non-null   object        \n",
      "dtypes: datetime64[ns](1), float64(1), int64(2), object(5)\n",
      "memory usage: 240.7+ KB\n"
     ]
    }
   ],
   "source": [
    "df.info()"
   ]
  },
  {
   "cell_type": "markdown",
   "id": "ab538790-20d7-4c51-8e1c-fa26ddd2d630",
   "metadata": {},
   "source": [
    "# Añadiendo Features"
   ]
  },
  {
   "cell_type": "markdown",
   "id": "37c7b85b-4d49-4927-b95e-da0537b7afd6",
   "metadata": {},
   "source": [
    "## Cuántos goles marcados tiene el equipo local y visitante antes de cada partido?"
   ]
  },
  {
   "cell_type": "code",
   "execution_count": 523,
   "id": "09897162-08c7-478c-8ebb-d5311349ad21",
   "metadata": {},
   "outputs": [],
   "source": [
    "def get_goals_scored_conceded(df: pd.DataFrame) -> pd.DataFrame:\n",
    "    \"\"\"Permite calcular los goles que cada equipo marcó y recibió antes de cada partido de temporada.\n",
    "\n",
    "    Parámetros\n",
    "    ----------\n",
    "    df: DataFrame\n",
    "        Dataframe del que se obtiene los datos\n",
    "        \n",
    "    Retorna\n",
    "    -------\n",
    "    DataFrame:\n",
    "        DataFrame con nuevas columnas añadidas:\n",
    "        'HTGS' (Home Team Goals Scored),\n",
    "        'ATGS' (Away Teams Goals Scored), \n",
    "        'HTGC' (Home Team Goals Conceded) y \n",
    "        'ATGC' (Away Teams Goals Conceded).\n",
    "    \"\"\"\n",
    "    # Columna útil para la agrupación por temporadas\n",
    "    df['year'] = df['DateTime'].dt.year\n",
    "    # DataFrame con los goles de los equipos locales en sus respectivos años\n",
    "    df_home = df[['year', 'Home Team', 'GF', 'GA']].rename(columns={'year':'year','Home Team': 'Team', 'GF': 'Goals_scored', 'GA': 'Goals_Conceded'})\n",
    "    df_home['Venue'] = 'Home'\n",
    "    \n",
    "    # DataFrame con los goles de los equipo visitantes en sus respectivos años\n",
    "    df_away = df[['year', 'Away Team', 'GA', 'GF']].rename(columns={'year':'year','Away Team': 'Team', 'GA': 'Goals_scored', 'GF': 'Goals_Conceded'})\n",
    "    df_away['Venue'] = 'Away'\n",
    "    \n",
    "    # Concatenamos para tenerlos todos en un solo DataFrame largo\n",
    "    df_largo = pd.concat([df_home, df_away])\n",
    "    # Ordenamos por índice para que los partidos estén ordenados\n",
    "    df_largo = df_largo.sort_index()\n",
    "\n",
    "    # Creamos el dataframe de goles acumulados\n",
    "    df_largo['GS'] = (df_largo\n",
    "                      # Agrupamos mediante el año y el equipo y obtenemos la columna 'Goals Scored'\n",
    "                      .groupby(['year', 'Team'])['Goals_scored']\n",
    "                      # Shifteamos en 1 periodo para que la suma acumulativa comience en 0\n",
    "                     .shift(fill_value=0)\n",
    "                      # Volvemos a agrupar debido a que pandas olvida que había agrupado despues de shiftear\n",
    "                     .groupby([df_largo['year'], df_largo['Team']])\n",
    "                      # Realizamos la suma acumulativa por grupo (año y equipo)\n",
    "                     .cumsum());\n",
    "\n",
    "    df_largo['GC'] = (df_largo\n",
    "                      .groupby(['year', 'Team'])['Goals_Conceded']\n",
    "                      .shift(fill_value=0)\n",
    "                      .groupby([df_largo['year'], df_largo['Team']])\n",
    "                      .cumsum());\n",
    "\n",
    "    # Pivoteamos para que los valores de la columna Venue (Away y Home), sean las columnas\n",
    "    # y que la data de cada fila sean los goles acumulados (GS)\n",
    "    # El orden será en base al índice (partido)\n",
    "    df_pivot_gs = df_largo.pivot(columns='Venue', values='GS')\n",
    "    df_pivot_gc = df_largo.pivot(columns='Venue', values='GC')\n",
    "    \n",
    "    df_pivot_gs.columns = ['ATGS', 'HTGS']\n",
    "    df_pivot_gc.columns = ['ATGC', 'HTGC']\n",
    "\n",
    "    # Concatemamos (ordenando las columnas) y retornamos el nuevo DataFrame\n",
    "    return (pd.concat([df, df_pivot_gs[['HTGS', 'ATGS']], df_pivot_gc[['HTGC', 'ATGC']]], axis=1)\n",
    "           .drop('year', axis=1))"
   ]
  },
  {
   "cell_type": "code",
   "execution_count": 524,
   "id": "3cc4a222-f8c2-48e3-9b43-9f6087e14a36",
   "metadata": {},
   "outputs": [],
   "source": [
    "df = get_goals_scored_conceded(df)"
   ]
  },
  {
   "cell_type": "markdown",
   "id": "b247ab37-65f9-4e76-afa7-ecbc20b308b4",
   "metadata": {},
   "source": [
    "Revisamos si la acumulación de goles está correcto verificando a solo un equipo."
   ]
  },
  {
   "cell_type": "code",
   "execution_count": 525,
   "id": "a5d859ff-cecc-47fd-95e6-364e0e2a7a8c",
   "metadata": {},
   "outputs": [
    {
     "data": {
      "text/html": [
       "<div>\n",
       "<style scoped>\n",
       "    .dataframe tbody tr th:only-of-type {\n",
       "        vertical-align: middle;\n",
       "    }\n",
       "\n",
       "    .dataframe tbody tr th {\n",
       "        vertical-align: top;\n",
       "    }\n",
       "\n",
       "    .dataframe thead th {\n",
       "        text-align: right;\n",
       "    }\n",
       "</style>\n",
       "<table border=\"1\" class=\"dataframe\">\n",
       "  <thead>\n",
       "    <tr style=\"text-align: right;\">\n",
       "      <th></th>\n",
       "      <th>Round</th>\n",
       "      <th>Day</th>\n",
       "      <th>Venue</th>\n",
       "      <th>Result</th>\n",
       "      <th>GF</th>\n",
       "      <th>GA</th>\n",
       "      <th>DateTime</th>\n",
       "      <th>Home Team</th>\n",
       "      <th>Away Team</th>\n",
       "      <th>HTGS</th>\n",
       "      <th>ATGS</th>\n",
       "      <th>HTGC</th>\n",
       "      <th>ATGC</th>\n",
       "    </tr>\n",
       "  </thead>\n",
       "  <tbody>\n",
       "    <tr>\n",
       "      <th>3</th>\n",
       "      <td>Regular Season</td>\n",
       "      <td>5.0</td>\n",
       "      <td>Home</td>\n",
       "      <td>D</td>\n",
       "      <td>0</td>\n",
       "      <td>0</td>\n",
       "      <td>2014-06-07 20:10:00</td>\n",
       "      <td>Melgar</td>\n",
       "      <td>Cienciano</td>\n",
       "      <td>0</td>\n",
       "      <td>0</td>\n",
       "      <td>0</td>\n",
       "      <td>0</td>\n",
       "    </tr>\n",
       "    <tr>\n",
       "      <th>11</th>\n",
       "      <td>Regular Season</td>\n",
       "      <td>5.0</td>\n",
       "      <td>Away</td>\n",
       "      <td>L</td>\n",
       "      <td>1</td>\n",
       "      <td>2</td>\n",
       "      <td>2014-06-14 13:15:00</td>\n",
       "      <td>Sporting Cristal</td>\n",
       "      <td>Melgar</td>\n",
       "      <td>1</td>\n",
       "      <td>0</td>\n",
       "      <td>1</td>\n",
       "      <td>0</td>\n",
       "    </tr>\n",
       "    <tr>\n",
       "      <th>17</th>\n",
       "      <td>Regular Season</td>\n",
       "      <td>5.0</td>\n",
       "      <td>Home</td>\n",
       "      <td>W</td>\n",
       "      <td>3</td>\n",
       "      <td>0</td>\n",
       "      <td>2014-06-21 11:00:00</td>\n",
       "      <td>Melgar</td>\n",
       "      <td>Los Caimanes</td>\n",
       "      <td>2</td>\n",
       "      <td>0</td>\n",
       "      <td>1</td>\n",
       "      <td>4</td>\n",
       "    </tr>\n",
       "    <tr>\n",
       "      <th>28</th>\n",
       "      <td>Regular Season</td>\n",
       "      <td>6.0</td>\n",
       "      <td>Away</td>\n",
       "      <td>L</td>\n",
       "      <td>0</td>\n",
       "      <td>2</td>\n",
       "      <td>2014-06-29 11:00:00</td>\n",
       "      <td>Unión Comercio</td>\n",
       "      <td>Melgar</td>\n",
       "      <td>6</td>\n",
       "      <td>5</td>\n",
       "      <td>1</td>\n",
       "      <td>1</td>\n",
       "    </tr>\n",
       "    <tr>\n",
       "      <th>33</th>\n",
       "      <td>Regular Season</td>\n",
       "      <td>5.0</td>\n",
       "      <td>Home</td>\n",
       "      <td>D</td>\n",
       "      <td>2</td>\n",
       "      <td>2</td>\n",
       "      <td>2014-07-05 12:30:00</td>\n",
       "      <td>Melgar</td>\n",
       "      <td>Universidad Técnica de Cajamarca</td>\n",
       "      <td>7</td>\n",
       "      <td>2</td>\n",
       "      <td>1</td>\n",
       "      <td>5</td>\n",
       "    </tr>\n",
       "    <tr>\n",
       "      <th>41</th>\n",
       "      <td>Regular Season</td>\n",
       "      <td>4.0</td>\n",
       "      <td>Home</td>\n",
       "      <td>D</td>\n",
       "      <td>1</td>\n",
       "      <td>1</td>\n",
       "      <td>2014-07-11 19:30:00</td>\n",
       "      <td>Melgar</td>\n",
       "      <td>León Huánuco</td>\n",
       "      <td>9</td>\n",
       "      <td>8</td>\n",
       "      <td>3</td>\n",
       "      <td>9</td>\n",
       "    </tr>\n",
       "    <tr>\n",
       "      <th>53</th>\n",
       "      <td>Regular Season</td>\n",
       "      <td>2.0</td>\n",
       "      <td>Away</td>\n",
       "      <td>L</td>\n",
       "      <td>1</td>\n",
       "      <td>2</td>\n",
       "      <td>2014-07-16 20:00:00</td>\n",
       "      <td>Universitario</td>\n",
       "      <td>Melgar</td>\n",
       "      <td>10</td>\n",
       "      <td>10</td>\n",
       "      <td>5</td>\n",
       "      <td>4</td>\n",
       "    </tr>\n",
       "    <tr>\n",
       "      <th>63</th>\n",
       "      <td>Regular Season</td>\n",
       "      <td>0.0</td>\n",
       "      <td>Home</td>\n",
       "      <td>D</td>\n",
       "      <td>2</td>\n",
       "      <td>2</td>\n",
       "      <td>2014-07-21 15:30:00</td>\n",
       "      <td>Melgar</td>\n",
       "      <td>Ayacucho</td>\n",
       "      <td>12</td>\n",
       "      <td>11</td>\n",
       "      <td>5</td>\n",
       "      <td>8</td>\n",
       "    </tr>\n",
       "    <tr>\n",
       "      <th>65</th>\n",
       "      <td>Regular Season</td>\n",
       "      <td>4.0</td>\n",
       "      <td>Away</td>\n",
       "      <td>D</td>\n",
       "      <td>1</td>\n",
       "      <td>1</td>\n",
       "      <td>2014-07-25 11:00:00</td>\n",
       "      <td>Real Garcilaso</td>\n",
       "      <td>Melgar</td>\n",
       "      <td>8</td>\n",
       "      <td>14</td>\n",
       "      <td>9</td>\n",
       "      <td>7</td>\n",
       "    </tr>\n",
       "    <tr>\n",
       "      <th>77</th>\n",
       "      <td>Regular Season</td>\n",
       "      <td>3.0</td>\n",
       "      <td>Home</td>\n",
       "      <td>W</td>\n",
       "      <td>2</td>\n",
       "      <td>1</td>\n",
       "      <td>2014-07-31 13:15:00</td>\n",
       "      <td>Melgar</td>\n",
       "      <td>Universidad San Martin</td>\n",
       "      <td>15</td>\n",
       "      <td>14</td>\n",
       "      <td>8</td>\n",
       "      <td>8</td>\n",
       "    </tr>\n",
       "  </tbody>\n",
       "</table>\n",
       "</div>"
      ],
      "text/plain": [
       "             Round  Day Venue Result  GF  GA            DateTime  \\\n",
       "3   Regular Season  5.0  Home      D   0   0 2014-06-07 20:10:00   \n",
       "11  Regular Season  5.0  Away      L   1   2 2014-06-14 13:15:00   \n",
       "17  Regular Season  5.0  Home      W   3   0 2014-06-21 11:00:00   \n",
       "28  Regular Season  6.0  Away      L   0   2 2014-06-29 11:00:00   \n",
       "33  Regular Season  5.0  Home      D   2   2 2014-07-05 12:30:00   \n",
       "41  Regular Season  4.0  Home      D   1   1 2014-07-11 19:30:00   \n",
       "53  Regular Season  2.0  Away      L   1   2 2014-07-16 20:00:00   \n",
       "63  Regular Season  0.0  Home      D   2   2 2014-07-21 15:30:00   \n",
       "65  Regular Season  4.0  Away      D   1   1 2014-07-25 11:00:00   \n",
       "77  Regular Season  3.0  Home      W   2   1 2014-07-31 13:15:00   \n",
       "\n",
       "           Home Team                         Away Team  HTGS  ATGS  HTGC  ATGC  \n",
       "3             Melgar                         Cienciano     0     0     0     0  \n",
       "11  Sporting Cristal                            Melgar     1     0     1     0  \n",
       "17            Melgar                      Los Caimanes     2     0     1     4  \n",
       "28    Unión Comercio                            Melgar     6     5     1     1  \n",
       "33            Melgar  Universidad Técnica de Cajamarca     7     2     1     5  \n",
       "41            Melgar                      León Huánuco     9     8     3     9  \n",
       "53     Universitario                            Melgar    10    10     5     4  \n",
       "63            Melgar                          Ayacucho    12    11     5     8  \n",
       "65    Real Garcilaso                            Melgar     8    14     9     7  \n",
       "77            Melgar            Universidad San Martin    15    14     8     8  "
      ]
     },
     "execution_count": 525,
     "metadata": {},
     "output_type": "execute_result"
    }
   ],
   "source": [
    "team = 'Melgar'\n",
    "df[(df['Home Team'] == team) | (df['Away Team'] == team)].head(10)"
   ]
  },
  {
   "cell_type": "markdown",
   "id": "887d372a-1d7a-4604-a681-d60e27a792ed",
   "metadata": {},
   "source": [
    "## Cuál es la diferencia de goles que tiene el equipo local y visitante antes de cada partido?"
   ]
  },
  {
   "cell_type": "code",
   "execution_count": 526,
   "id": "4d6fc181-d658-4e20-bb16-08a600757827",
   "metadata": {},
   "outputs": [],
   "source": [
    "# Home Team Goals Difference\n",
    "df['HTGD'] = df['HTGS'] - df['HTGC']\n",
    "\n",
    "# Away Team Goals Difference\n",
    "df['ATGD'] = df['ATGS'] - df['ATGC']"
   ]
  },
  {
   "cell_type": "code",
   "execution_count": 527,
   "id": "8350b5aa-a303-42db-bc35-17a8ca5ffcd2",
   "metadata": {},
   "outputs": [
    {
     "data": {
      "text/html": [
       "<div>\n",
       "<style scoped>\n",
       "    .dataframe tbody tr th:only-of-type {\n",
       "        vertical-align: middle;\n",
       "    }\n",
       "\n",
       "    .dataframe tbody tr th {\n",
       "        vertical-align: top;\n",
       "    }\n",
       "\n",
       "    .dataframe thead th {\n",
       "        text-align: right;\n",
       "    }\n",
       "</style>\n",
       "<table border=\"1\" class=\"dataframe\">\n",
       "  <thead>\n",
       "    <tr style=\"text-align: right;\">\n",
       "      <th></th>\n",
       "      <th>Round</th>\n",
       "      <th>Day</th>\n",
       "      <th>Venue</th>\n",
       "      <th>Result</th>\n",
       "      <th>GF</th>\n",
       "      <th>GA</th>\n",
       "      <th>DateTime</th>\n",
       "      <th>Home Team</th>\n",
       "      <th>Away Team</th>\n",
       "      <th>HTGS</th>\n",
       "      <th>ATGS</th>\n",
       "      <th>HTGC</th>\n",
       "      <th>ATGC</th>\n",
       "      <th>HTGD</th>\n",
       "      <th>ATGD</th>\n",
       "    </tr>\n",
       "  </thead>\n",
       "  <tbody>\n",
       "    <tr>\n",
       "      <th>3</th>\n",
       "      <td>Regular Season</td>\n",
       "      <td>5.0</td>\n",
       "      <td>Home</td>\n",
       "      <td>D</td>\n",
       "      <td>0</td>\n",
       "      <td>0</td>\n",
       "      <td>2014-06-07 20:10:00</td>\n",
       "      <td>Melgar</td>\n",
       "      <td>Cienciano</td>\n",
       "      <td>0</td>\n",
       "      <td>0</td>\n",
       "      <td>0</td>\n",
       "      <td>0</td>\n",
       "      <td>0</td>\n",
       "      <td>0</td>\n",
       "    </tr>\n",
       "    <tr>\n",
       "      <th>11</th>\n",
       "      <td>Regular Season</td>\n",
       "      <td>5.0</td>\n",
       "      <td>Away</td>\n",
       "      <td>L</td>\n",
       "      <td>1</td>\n",
       "      <td>2</td>\n",
       "      <td>2014-06-14 13:15:00</td>\n",
       "      <td>Sporting Cristal</td>\n",
       "      <td>Melgar</td>\n",
       "      <td>1</td>\n",
       "      <td>0</td>\n",
       "      <td>1</td>\n",
       "      <td>0</td>\n",
       "      <td>0</td>\n",
       "      <td>0</td>\n",
       "    </tr>\n",
       "    <tr>\n",
       "      <th>17</th>\n",
       "      <td>Regular Season</td>\n",
       "      <td>5.0</td>\n",
       "      <td>Home</td>\n",
       "      <td>W</td>\n",
       "      <td>3</td>\n",
       "      <td>0</td>\n",
       "      <td>2014-06-21 11:00:00</td>\n",
       "      <td>Melgar</td>\n",
       "      <td>Los Caimanes</td>\n",
       "      <td>2</td>\n",
       "      <td>0</td>\n",
       "      <td>1</td>\n",
       "      <td>4</td>\n",
       "      <td>1</td>\n",
       "      <td>-4</td>\n",
       "    </tr>\n",
       "    <tr>\n",
       "      <th>28</th>\n",
       "      <td>Regular Season</td>\n",
       "      <td>6.0</td>\n",
       "      <td>Away</td>\n",
       "      <td>L</td>\n",
       "      <td>0</td>\n",
       "      <td>2</td>\n",
       "      <td>2014-06-29 11:00:00</td>\n",
       "      <td>Unión Comercio</td>\n",
       "      <td>Melgar</td>\n",
       "      <td>6</td>\n",
       "      <td>5</td>\n",
       "      <td>1</td>\n",
       "      <td>1</td>\n",
       "      <td>5</td>\n",
       "      <td>4</td>\n",
       "    </tr>\n",
       "    <tr>\n",
       "      <th>33</th>\n",
       "      <td>Regular Season</td>\n",
       "      <td>5.0</td>\n",
       "      <td>Home</td>\n",
       "      <td>D</td>\n",
       "      <td>2</td>\n",
       "      <td>2</td>\n",
       "      <td>2014-07-05 12:30:00</td>\n",
       "      <td>Melgar</td>\n",
       "      <td>Universidad Técnica de Cajamarca</td>\n",
       "      <td>7</td>\n",
       "      <td>2</td>\n",
       "      <td>1</td>\n",
       "      <td>5</td>\n",
       "      <td>6</td>\n",
       "      <td>-3</td>\n",
       "    </tr>\n",
       "    <tr>\n",
       "      <th>41</th>\n",
       "      <td>Regular Season</td>\n",
       "      <td>4.0</td>\n",
       "      <td>Home</td>\n",
       "      <td>D</td>\n",
       "      <td>1</td>\n",
       "      <td>1</td>\n",
       "      <td>2014-07-11 19:30:00</td>\n",
       "      <td>Melgar</td>\n",
       "      <td>León Huánuco</td>\n",
       "      <td>9</td>\n",
       "      <td>8</td>\n",
       "      <td>3</td>\n",
       "      <td>9</td>\n",
       "      <td>6</td>\n",
       "      <td>-1</td>\n",
       "    </tr>\n",
       "    <tr>\n",
       "      <th>53</th>\n",
       "      <td>Regular Season</td>\n",
       "      <td>2.0</td>\n",
       "      <td>Away</td>\n",
       "      <td>L</td>\n",
       "      <td>1</td>\n",
       "      <td>2</td>\n",
       "      <td>2014-07-16 20:00:00</td>\n",
       "      <td>Universitario</td>\n",
       "      <td>Melgar</td>\n",
       "      <td>10</td>\n",
       "      <td>10</td>\n",
       "      <td>5</td>\n",
       "      <td>4</td>\n",
       "      <td>5</td>\n",
       "      <td>6</td>\n",
       "    </tr>\n",
       "    <tr>\n",
       "      <th>63</th>\n",
       "      <td>Regular Season</td>\n",
       "      <td>0.0</td>\n",
       "      <td>Home</td>\n",
       "      <td>D</td>\n",
       "      <td>2</td>\n",
       "      <td>2</td>\n",
       "      <td>2014-07-21 15:30:00</td>\n",
       "      <td>Melgar</td>\n",
       "      <td>Ayacucho</td>\n",
       "      <td>12</td>\n",
       "      <td>11</td>\n",
       "      <td>5</td>\n",
       "      <td>8</td>\n",
       "      <td>7</td>\n",
       "      <td>3</td>\n",
       "    </tr>\n",
       "    <tr>\n",
       "      <th>65</th>\n",
       "      <td>Regular Season</td>\n",
       "      <td>4.0</td>\n",
       "      <td>Away</td>\n",
       "      <td>D</td>\n",
       "      <td>1</td>\n",
       "      <td>1</td>\n",
       "      <td>2014-07-25 11:00:00</td>\n",
       "      <td>Real Garcilaso</td>\n",
       "      <td>Melgar</td>\n",
       "      <td>8</td>\n",
       "      <td>14</td>\n",
       "      <td>9</td>\n",
       "      <td>7</td>\n",
       "      <td>-1</td>\n",
       "      <td>7</td>\n",
       "    </tr>\n",
       "    <tr>\n",
       "      <th>77</th>\n",
       "      <td>Regular Season</td>\n",
       "      <td>3.0</td>\n",
       "      <td>Home</td>\n",
       "      <td>W</td>\n",
       "      <td>2</td>\n",
       "      <td>1</td>\n",
       "      <td>2014-07-31 13:15:00</td>\n",
       "      <td>Melgar</td>\n",
       "      <td>Universidad San Martin</td>\n",
       "      <td>15</td>\n",
       "      <td>14</td>\n",
       "      <td>8</td>\n",
       "      <td>8</td>\n",
       "      <td>7</td>\n",
       "      <td>6</td>\n",
       "    </tr>\n",
       "  </tbody>\n",
       "</table>\n",
       "</div>"
      ],
      "text/plain": [
       "             Round  Day Venue Result  GF  GA            DateTime  \\\n",
       "3   Regular Season  5.0  Home      D   0   0 2014-06-07 20:10:00   \n",
       "11  Regular Season  5.0  Away      L   1   2 2014-06-14 13:15:00   \n",
       "17  Regular Season  5.0  Home      W   3   0 2014-06-21 11:00:00   \n",
       "28  Regular Season  6.0  Away      L   0   2 2014-06-29 11:00:00   \n",
       "33  Regular Season  5.0  Home      D   2   2 2014-07-05 12:30:00   \n",
       "41  Regular Season  4.0  Home      D   1   1 2014-07-11 19:30:00   \n",
       "53  Regular Season  2.0  Away      L   1   2 2014-07-16 20:00:00   \n",
       "63  Regular Season  0.0  Home      D   2   2 2014-07-21 15:30:00   \n",
       "65  Regular Season  4.0  Away      D   1   1 2014-07-25 11:00:00   \n",
       "77  Regular Season  3.0  Home      W   2   1 2014-07-31 13:15:00   \n",
       "\n",
       "           Home Team                         Away Team  HTGS  ATGS  HTGC  \\\n",
       "3             Melgar                         Cienciano     0     0     0   \n",
       "11  Sporting Cristal                            Melgar     1     0     1   \n",
       "17            Melgar                      Los Caimanes     2     0     1   \n",
       "28    Unión Comercio                            Melgar     6     5     1   \n",
       "33            Melgar  Universidad Técnica de Cajamarca     7     2     1   \n",
       "41            Melgar                      León Huánuco     9     8     3   \n",
       "53     Universitario                            Melgar    10    10     5   \n",
       "63            Melgar                          Ayacucho    12    11     5   \n",
       "65    Real Garcilaso                            Melgar     8    14     9   \n",
       "77            Melgar            Universidad San Martin    15    14     8   \n",
       "\n",
       "    ATGC  HTGD  ATGD  \n",
       "3      0     0     0  \n",
       "11     0     0     0  \n",
       "17     4     1    -4  \n",
       "28     1     5     4  \n",
       "33     5     6    -3  \n",
       "41     9     6    -1  \n",
       "53     4     5     6  \n",
       "63     8     7     3  \n",
       "65     7    -1     7  \n",
       "77     8     7     6  "
      ]
     },
     "execution_count": 527,
     "metadata": {},
     "output_type": "execute_result"
    }
   ],
   "source": [
    "team = 'Melgar'\n",
    "df[(df['Home Team'] == team) | (df['Away Team'] == team)].head(10)"
   ]
  },
  {
   "cell_type": "markdown",
   "id": "e0ea8aa7-cf78-41a8-a0bf-9a5de5c7f7f6",
   "metadata": {},
   "source": [
    "## Cuál es el ratio de gol por partido que tiene el equipo local y visitante antes de cada partido?"
   ]
  },
  {
   "cell_type": "code",
   "execution_count": 528,
   "id": "e37c589e-86d9-4d24-97ff-e8f219416cbe",
   "metadata": {},
   "outputs": [],
   "source": [
    "def get_match_week(df: pd.DataFrame) -> pd.DataFrame:\n",
    "    \"\"\"Función que calcula la semana de partido de cada partido\n",
    "\n",
    "    Parámetro\n",
    "    ---------\n",
    "    df: DataFrame con los datos a calcular\n",
    "\n",
    "    Retorna\n",
    "    -------\n",
    "    DataFrame: Mismo DataFrame con la columna 'MW' (Match Week) añadida\n",
    "    \"\"\"\n",
    "    df['year'] = df['DateTime'].dt.year\n",
    "    df_home = df[['year', 'Home Team']].rename(columns={'year': 'year', 'Home Team': 'Team'})\n",
    "    df_home['venue'] = 'Home'\n",
    "\n",
    "    df_away = df[['year', 'Away Team']].rename(columns={'year': 'year', 'Away Team': 'Team'})\n",
    "    df_away['venue'] = 'Away'\n",
    "\n",
    "    df_largo = pd.concat([df_home, df_away])\n",
    "    df_largo = df_largo.sort_index()\n",
    "    \n",
    "    # Numeramos cada aparición de cada grupo desde 1\n",
    "    df_largo['MW'] = (df_largo.groupby(['year', 'Team'])\n",
    "                      .cumcount() + 1\n",
    "                     )\n",
    "    # Obtenemos el match week del equipo local y visitante\n",
    "    df_pivot = df_largo.pivot(columns='venue', values='MW')\n",
    "    # Creamos la columna 'MW' con el valor más alto de cada fila\n",
    "    # Porque la diferencia puede deberse al descanso de un equipo en una fecha\n",
    "    # Pero la semana se jugó por lo que el retraso de partidos jugados no se debe contar\n",
    "    df_pivot['MW'] = df_pivot[['Away', 'Home']].max(axis=1)\n",
    "\n",
    "    return (pd.concat([df, df_pivot['MW']], axis=1)\n",
    "            .drop('year', axis=1))"
   ]
  },
  {
   "cell_type": "code",
   "execution_count": 529,
   "id": "98ee0537-5b5e-4f35-8eba-7f6871b83f42",
   "metadata": {},
   "outputs": [],
   "source": [
    "df = get_match_week(df)"
   ]
  },
  {
   "cell_type": "code",
   "execution_count": 530,
   "id": "c3712d1f-4b8b-4cdc-88de-3c1d173062e3",
   "metadata": {},
   "outputs": [],
   "source": [
    "# Rendimiento del equipo local y visitante con respectos a los goles marcados\n",
    "df['HTGSForm'] = df['HTGS'] / (df['MW'] - 1)\n",
    "df['ATGSForm'] = df['ATGS'] / (df['MW'] - 1)\n",
    "\n",
    "df['HTGSForm'] = df['HTGSForm'].fillna(0)\n",
    "df['ATGSForm'] = df['ATGSForm'].fillna(0)\n",
    "\n",
    "# Rendimiento del equipo local y visitante con respecto a los goles recibidos\n",
    "df['HTGCForm'] = df['HTGC'] / (df['MW'] - 1)\n",
    "df['ATGCForm'] = df['ATGC'] / (df['MW'] - 1)\n",
    "\n",
    "df['HTGCForm'] = df['HTGCForm'].fillna(0)\n",
    "df['ATGCForm'] = df['ATGCForm'].fillna(0)"
   ]
  },
  {
   "cell_type": "code",
   "execution_count": 531,
   "id": "cf392645-6f85-4c63-9fc2-d1add4a81aa9",
   "metadata": {},
   "outputs": [
    {
     "data": {
      "text/html": [
       "<div>\n",
       "<style scoped>\n",
       "    .dataframe tbody tr th:only-of-type {\n",
       "        vertical-align: middle;\n",
       "    }\n",
       "\n",
       "    .dataframe tbody tr th {\n",
       "        vertical-align: top;\n",
       "    }\n",
       "\n",
       "    .dataframe thead th {\n",
       "        text-align: right;\n",
       "    }\n",
       "</style>\n",
       "<table border=\"1\" class=\"dataframe\">\n",
       "  <thead>\n",
       "    <tr style=\"text-align: right;\">\n",
       "      <th></th>\n",
       "      <th>Round</th>\n",
       "      <th>Day</th>\n",
       "      <th>Venue</th>\n",
       "      <th>Result</th>\n",
       "      <th>GF</th>\n",
       "      <th>GA</th>\n",
       "      <th>DateTime</th>\n",
       "      <th>Home Team</th>\n",
       "      <th>Away Team</th>\n",
       "      <th>HTGS</th>\n",
       "      <th>ATGS</th>\n",
       "      <th>HTGC</th>\n",
       "      <th>ATGC</th>\n",
       "      <th>HTGD</th>\n",
       "      <th>ATGD</th>\n",
       "      <th>MW</th>\n",
       "      <th>HTGSForm</th>\n",
       "      <th>ATGSForm</th>\n",
       "      <th>HTGCForm</th>\n",
       "      <th>ATGCForm</th>\n",
       "    </tr>\n",
       "  </thead>\n",
       "  <tbody>\n",
       "    <tr>\n",
       "      <th>2775</th>\n",
       "      <td>Regular Season</td>\n",
       "      <td>5.0</td>\n",
       "      <td>Away</td>\n",
       "      <td>W</td>\n",
       "      <td>4</td>\n",
       "      <td>0</td>\n",
       "      <td>2023-02-04 15:30:00</td>\n",
       "      <td>Universitario</td>\n",
       "      <td>Cantolao</td>\n",
       "      <td>0</td>\n",
       "      <td>0</td>\n",
       "      <td>0</td>\n",
       "      <td>0</td>\n",
       "      <td>0</td>\n",
       "      <td>0</td>\n",
       "      <td>1</td>\n",
       "      <td>0.000000</td>\n",
       "      <td>0.000000</td>\n",
       "      <td>0.000000</td>\n",
       "      <td>0.0</td>\n",
       "    </tr>\n",
       "    <tr>\n",
       "      <th>2786</th>\n",
       "      <td>Regular Season</td>\n",
       "      <td>6.0</td>\n",
       "      <td>Home</td>\n",
       "      <td>W</td>\n",
       "      <td>1</td>\n",
       "      <td>0</td>\n",
       "      <td>2023-02-12 13:30:00</td>\n",
       "      <td>Unión Comercio</td>\n",
       "      <td>Universitario</td>\n",
       "      <td>1</td>\n",
       "      <td>4</td>\n",
       "      <td>2</td>\n",
       "      <td>0</td>\n",
       "      <td>-1</td>\n",
       "      <td>4</td>\n",
       "      <td>2</td>\n",
       "      <td>1.000000</td>\n",
       "      <td>4.000000</td>\n",
       "      <td>2.000000</td>\n",
       "      <td>0.0</td>\n",
       "    </tr>\n",
       "    <tr>\n",
       "      <th>2795</th>\n",
       "      <td>Regular Season</td>\n",
       "      <td>6.0</td>\n",
       "      <td>Away</td>\n",
       "      <td>L</td>\n",
       "      <td>1</td>\n",
       "      <td>2</td>\n",
       "      <td>2023-02-19 15:30:00</td>\n",
       "      <td>Universitario</td>\n",
       "      <td>Alianza Lima</td>\n",
       "      <td>4</td>\n",
       "      <td>2</td>\n",
       "      <td>1</td>\n",
       "      <td>3</td>\n",
       "      <td>3</td>\n",
       "      <td>-1</td>\n",
       "      <td>3</td>\n",
       "      <td>2.000000</td>\n",
       "      <td>1.000000</td>\n",
       "      <td>0.500000</td>\n",
       "      <td>1.5</td>\n",
       "    </tr>\n",
       "    <tr>\n",
       "      <th>2803</th>\n",
       "      <td>Regular Season</td>\n",
       "      <td>6.0</td>\n",
       "      <td>Home</td>\n",
       "      <td>W</td>\n",
       "      <td>2</td>\n",
       "      <td>0</td>\n",
       "      <td>2023-02-26 19:00:00</td>\n",
       "      <td>Carlos A Mannucci</td>\n",
       "      <td>Universitario</td>\n",
       "      <td>5</td>\n",
       "      <td>5</td>\n",
       "      <td>1</td>\n",
       "      <td>3</td>\n",
       "      <td>4</td>\n",
       "      <td>2</td>\n",
       "      <td>4</td>\n",
       "      <td>1.666667</td>\n",
       "      <td>1.666667</td>\n",
       "      <td>0.333333</td>\n",
       "      <td>1.0</td>\n",
       "    </tr>\n",
       "    <tr>\n",
       "      <th>2810</th>\n",
       "      <td>Regular Season</td>\n",
       "      <td>6.0</td>\n",
       "      <td>Away</td>\n",
       "      <td>W</td>\n",
       "      <td>1</td>\n",
       "      <td>0</td>\n",
       "      <td>2023-03-05 15:30:00</td>\n",
       "      <td>Universitario</td>\n",
       "      <td>Melgar</td>\n",
       "      <td>5</td>\n",
       "      <td>0</td>\n",
       "      <td>5</td>\n",
       "      <td>6</td>\n",
       "      <td>0</td>\n",
       "      <td>-6</td>\n",
       "      <td>5</td>\n",
       "      <td>1.250000</td>\n",
       "      <td>0.000000</td>\n",
       "      <td>1.250000</td>\n",
       "      <td>1.5</td>\n",
       "    </tr>\n",
       "  </tbody>\n",
       "</table>\n",
       "</div>"
      ],
      "text/plain": [
       "               Round  Day Venue Result  GF  GA            DateTime  \\\n",
       "2775  Regular Season  5.0  Away      W   4   0 2023-02-04 15:30:00   \n",
       "2786  Regular Season  6.0  Home      W   1   0 2023-02-12 13:30:00   \n",
       "2795  Regular Season  6.0  Away      L   1   2 2023-02-19 15:30:00   \n",
       "2803  Regular Season  6.0  Home      W   2   0 2023-02-26 19:00:00   \n",
       "2810  Regular Season  6.0  Away      W   1   0 2023-03-05 15:30:00   \n",
       "\n",
       "              Home Team      Away Team  HTGS  ATGS  HTGC  ATGC  HTGD  ATGD  \\\n",
       "2775      Universitario       Cantolao     0     0     0     0     0     0   \n",
       "2786     Unión Comercio  Universitario     1     4     2     0    -1     4   \n",
       "2795      Universitario   Alianza Lima     4     2     1     3     3    -1   \n",
       "2803  Carlos A Mannucci  Universitario     5     5     1     3     4     2   \n",
       "2810      Universitario         Melgar     5     0     5     6     0    -6   \n",
       "\n",
       "      MW  HTGSForm  ATGSForm  HTGCForm  ATGCForm  \n",
       "2775   1  0.000000  0.000000  0.000000       0.0  \n",
       "2786   2  1.000000  4.000000  2.000000       0.0  \n",
       "2795   3  2.000000  1.000000  0.500000       1.5  \n",
       "2803   4  1.666667  1.666667  0.333333       1.0  \n",
       "2810   5  1.250000  0.000000  1.250000       1.5  "
      ]
     },
     "execution_count": 531,
     "metadata": {},
     "output_type": "execute_result"
    }
   ],
   "source": [
    "team = 'Universitario'\n",
    "df[(df['DateTime'].dt.year == 2023) & ((df['Home Team'] == team) | (df['Away Team'] == team))].head()"
   ]
  },
  {
   "cell_type": "markdown",
   "id": "5cf07e9d-68b2-4ccf-bd1b-b32ba0d96104",
   "metadata": {},
   "source": [
    "# Modelando - Baseline"
   ]
  },
  {
   "cell_type": "markdown",
   "id": "e42a1b04-5d17-4e1e-a283-cb6829fb6dd7",
   "metadata": {},
   "source": [
    "## Preprocesamiento"
   ]
  },
  {
   "cell_type": "markdown",
   "id": "eda3cea1-26ec-4062-bc47-9f41b68cf2ec",
   "metadata": {},
   "source": [
    "### Función de preprocesamiento"
   ]
  },
  {
   "cell_type": "code",
   "execution_count": 532,
   "id": "06bbd31c-7579-40ab-addb-cc5ad5f4b696",
   "metadata": {},
   "outputs": [],
   "source": [
    "def get_preprocessing(df: pd.DataFrame) -> (pd.DataFrame, pd.DataFrame, pd.DataFrame, pd.DataFrame):\n",
    "    \"\"\"Función que realiza el preprocesamiento necesario a la data para entrenar\n",
    "    \n",
    "    Parámetro\n",
    "    =========\n",
    "    df: DataFrame con la data para preprocesar\n",
    "\n",
    "    Retorna\n",
    "    =======\n",
    "    X_train: DataFrame con el 80% de la data para realizar el entrenamiento\n",
    "    X_valid: DataFrame con el 20% de la data para realizar la validación\n",
    "    y_train: DataFrame con el 80% del target (Result)\n",
    "    y_valid: DataFrame con el 20% del target (Result)\n",
    "    \"\"\"\n",
    "    X = df.copy()\n",
    "    y = X.pop('Result')\n",
    "    \n",
    "    def home_team_win(result):\n",
    "        \"\"\"Función que transforma el valor de 'Result' a binario.\n",
    "\n",
    "        Retorna\n",
    "        =======\n",
    "        0: Si el equipo local no ganó\n",
    "        1: Si el equipo local ganó\n",
    "        \"\"\"\n",
    "        if result == 'W':\n",
    "            result = 1\n",
    "        else:\n",
    "            result = 0\n",
    "        return result\n",
    "\n",
    "    y = y.apply(home_team_win)\n",
    "\n",
    "    # Obtenemos las columnas numéricas y las object\n",
    "    object_columns = [cols for cols in X.columns if X[cols].dtype == 'object']\n",
    "    numeric_columns = [cols for cols in X.columns if X[cols].dtype != 'object']\n",
    "\n",
    "    # Eliminamos las columnas categóricas que tengan más de 10 valores únicos\n",
    "    drop_columns = [cols for cols in object_columns if X[cols].nunique() > 10]\n",
    "    \n",
    "    # Dropeamos columnas de ayuda y columnas categorícas con valore únicos altos (por ahora)\n",
    "    X.drop(['DateTime',  'GF', 'GA'] + drop_columns, axis=1, inplace=True)\n",
    "\n",
    "    # Dividimos el dataset en un set de entrenamiento y validación\n",
    "    X_train, X_valid, y_train, y_valid = train_test_split(X, y, train_size=0.8, test_size=0.2,\n",
    "                                                            random_state=69)\n",
    "\n",
    "    # Obtenemos nuevamente las columnas numéricas y categóricas después del dropeo\n",
    "    object_columns = [cols for cols in X.columns if X[cols].dtype == 'object']\n",
    "    numeric_columns = [cols for cols in X.columns if X[cols].dtype != 'object']\n",
    "\n",
    "    # Escalamos las columnas numéricas\n",
    "    scaler = StandardScaler().fit(X_train[numeric_columns])\n",
    "    X_train_scaled = scaler.transform(X_train[numeric_columns])\n",
    "    X_valid_scaled = scaler.transform(X_valid[numeric_columns])\n",
    "\n",
    "    # Realizamos One Hot Encoding a las columnas categóricas\n",
    "    dummies_train = pd.get_dummies(X_train[object_columns], dtype=float).reset_index(drop=True)\n",
    "    dummies_valid = pd.get_dummies(X_valid[object_columns], dtype=float).reset_index(drop=True)\n",
    "\n",
    "    # Concatenamos ambos DataFrames\n",
    "    X_train_full = pd.concat([pd.DataFrame(X_train_scaled), dummies_train],\n",
    "                             axis=1, ignore_index=True)\n",
    "    X_valid_full = pd.concat([pd.DataFrame(X_valid_scaled), dummies_valid],\n",
    "                             axis=1, ignore_index=True)\n",
    "\n",
    "    # Volvemos a asignar los nombres de las columnas\n",
    "    columns = numeric_columns + list(dummies_train.columns)\n",
    "    \n",
    "    X_train_full.columns = columns\n",
    "    X_valid_full.columns = columns\n",
    "    return X_train_full, X_valid_full, y_train, y_valid"
   ]
  },
  {
   "cell_type": "markdown",
   "id": "2dbcb377-fe76-445a-8776-ab58e4ece34a",
   "metadata": {},
   "source": [
    "## Entrenando"
   ]
  },
  {
   "cell_type": "code",
   "execution_count": 533,
   "id": "251c9faa-a688-46a1-8bda-0fddd79dd331",
   "metadata": {},
   "outputs": [],
   "source": [
    "X_train, X_valid, y_train, y_valid = get_preprocessing(df)"
   ]
  },
  {
   "cell_type": "code",
   "execution_count": 534,
   "id": "a860d482-ca6f-48fb-b25f-8b6248463c53",
   "metadata": {},
   "outputs": [
    {
     "data": {
      "text/html": [
       "<div>\n",
       "<style scoped>\n",
       "    .dataframe tbody tr th:only-of-type {\n",
       "        vertical-align: middle;\n",
       "    }\n",
       "\n",
       "    .dataframe tbody tr th {\n",
       "        vertical-align: top;\n",
       "    }\n",
       "\n",
       "    .dataframe thead th {\n",
       "        text-align: right;\n",
       "    }\n",
       "</style>\n",
       "<table border=\"1\" class=\"dataframe\">\n",
       "  <thead>\n",
       "    <tr style=\"text-align: right;\">\n",
       "      <th></th>\n",
       "      <th>Day</th>\n",
       "      <th>HTGS</th>\n",
       "      <th>ATGS</th>\n",
       "      <th>HTGC</th>\n",
       "      <th>ATGC</th>\n",
       "      <th>HTGD</th>\n",
       "      <th>ATGD</th>\n",
       "      <th>MW</th>\n",
       "      <th>HTGSForm</th>\n",
       "      <th>ATGSForm</th>\n",
       "      <th>HTGCForm</th>\n",
       "      <th>ATGCForm</th>\n",
       "      <th>Round_Finals</th>\n",
       "      <th>Round_Regular Season</th>\n",
       "      <th>Venue_Away</th>\n",
       "      <th>Venue_Home</th>\n",
       "    </tr>\n",
       "  </thead>\n",
       "  <tbody>\n",
       "    <tr>\n",
       "      <th>0</th>\n",
       "      <td>-1.592890</td>\n",
       "      <td>2.401935</td>\n",
       "      <td>1.534329</td>\n",
       "      <td>1.020823</td>\n",
       "      <td>0.978309</td>\n",
       "      <td>2.045360</td>\n",
       "      <td>0.833692</td>\n",
       "      <td>1.164165</td>\n",
       "      <td>1.508361</td>\n",
       "      <td>0.569159</td>\n",
       "      <td>0.021531</td>\n",
       "      <td>0.006400</td>\n",
       "      <td>1.0</td>\n",
       "      <td>0.0</td>\n",
       "      <td>1.0</td>\n",
       "      <td>0.0</td>\n",
       "    </tr>\n",
       "    <tr>\n",
       "      <th>1</th>\n",
       "      <td>-0.060468</td>\n",
       "      <td>-0.404848</td>\n",
       "      <td>-0.654758</td>\n",
       "      <td>-0.716233</td>\n",
       "      <td>0.107292</td>\n",
       "      <td>0.438364</td>\n",
       "      <td>-1.095369</td>\n",
       "      <td>-0.443779</td>\n",
       "      <td>0.077881</td>\n",
       "      <td>-0.555942</td>\n",
       "      <td>-0.676047</td>\n",
       "      <td>1.305780</td>\n",
       "      <td>0.0</td>\n",
       "      <td>1.0</td>\n",
       "      <td>0.0</td>\n",
       "      <td>1.0</td>\n",
       "    </tr>\n",
       "    <tr>\n",
       "      <th>2</th>\n",
       "      <td>-0.060468</td>\n",
       "      <td>-1.137053</td>\n",
       "      <td>-0.776373</td>\n",
       "      <td>-0.964384</td>\n",
       "      <td>-0.825941</td>\n",
       "      <td>-0.275857</td>\n",
       "      <td>0.044531</td>\n",
       "      <td>-0.890430</td>\n",
       "      <td>-1.269930</td>\n",
       "      <td>0.170686</td>\n",
       "      <td>-0.529933</td>\n",
       "      <td>-0.009357</td>\n",
       "      <td>0.0</td>\n",
       "      <td>1.0</td>\n",
       "      <td>1.0</td>\n",
       "      <td>0.0</td>\n",
       "    </tr>\n",
       "    <tr>\n",
       "      <th>3</th>\n",
       "      <td>-0.571275</td>\n",
       "      <td>1.669731</td>\n",
       "      <td>2.020793</td>\n",
       "      <td>1.206937</td>\n",
       "      <td>1.476033</td>\n",
       "      <td>0.706196</td>\n",
       "      <td>0.833692</td>\n",
       "      <td>2.146798</td>\n",
       "      <td>-0.106528</td>\n",
       "      <td>0.136084</td>\n",
       "      <td>-0.484707</td>\n",
       "      <td>-0.265227</td>\n",
       "      <td>0.0</td>\n",
       "      <td>1.0</td>\n",
       "      <td>0.0</td>\n",
       "      <td>1.0</td>\n",
       "    </tr>\n",
       "    <tr>\n",
       "      <th>4</th>\n",
       "      <td>-1.082083</td>\n",
       "      <td>-0.892984</td>\n",
       "      <td>-1.202029</td>\n",
       "      <td>-0.840309</td>\n",
       "      <td>-1.261450</td>\n",
       "      <td>-0.097302</td>\n",
       "      <td>0.044531</td>\n",
       "      <td>-1.069091</td>\n",
       "      <td>0.457546</td>\n",
       "      <td>-1.201833</td>\n",
       "      <td>0.736391</td>\n",
       "      <td>-1.474796</td>\n",
       "      <td>0.0</td>\n",
       "      <td>1.0</td>\n",
       "      <td>0.0</td>\n",
       "      <td>1.0</td>\n",
       "    </tr>\n",
       "  </tbody>\n",
       "</table>\n",
       "</div>"
      ],
      "text/plain": [
       "        Day      HTGS      ATGS      HTGC      ATGC      HTGD      ATGD  \\\n",
       "0 -1.592890  2.401935  1.534329  1.020823  0.978309  2.045360  0.833692   \n",
       "1 -0.060468 -0.404848 -0.654758 -0.716233  0.107292  0.438364 -1.095369   \n",
       "2 -0.060468 -1.137053 -0.776373 -0.964384 -0.825941 -0.275857  0.044531   \n",
       "3 -0.571275  1.669731  2.020793  1.206937  1.476033  0.706196  0.833692   \n",
       "4 -1.082083 -0.892984 -1.202029 -0.840309 -1.261450 -0.097302  0.044531   \n",
       "\n",
       "         MW  HTGSForm  ATGSForm  HTGCForm  ATGCForm  Round_Finals  \\\n",
       "0  1.164165  1.508361  0.569159  0.021531  0.006400           1.0   \n",
       "1 -0.443779  0.077881 -0.555942 -0.676047  1.305780           0.0   \n",
       "2 -0.890430 -1.269930  0.170686 -0.529933 -0.009357           0.0   \n",
       "3  2.146798 -0.106528  0.136084 -0.484707 -0.265227           0.0   \n",
       "4 -1.069091  0.457546 -1.201833  0.736391 -1.474796           0.0   \n",
       "\n",
       "   Round_Regular Season  Venue_Away  Venue_Home  \n",
       "0                   0.0         1.0         0.0  \n",
       "1                   1.0         0.0         1.0  \n",
       "2                   1.0         1.0         0.0  \n",
       "3                   1.0         0.0         1.0  \n",
       "4                   1.0         0.0         1.0  "
      ]
     },
     "execution_count": 534,
     "metadata": {},
     "output_type": "execute_result"
    }
   ],
   "source": [
    "X_train.head()"
   ]
  },
  {
   "cell_type": "markdown",
   "id": "c1221f30-943d-4b75-b3ad-79f7639f0f67",
   "metadata": {},
   "source": [
    "### Función para obtener el Accuracy del modelo"
   ]
  },
  {
   "cell_type": "code",
   "execution_count": 535,
   "id": "8bd057d4-e112-4a8c-b32f-d7a5ea8bc18f",
   "metadata": {},
   "outputs": [],
   "source": [
    "from sklearn.tree import DecisionTreeClassifier\n",
    "from sklearn.ensemble import RandomForestClassifier\n",
    "from sklearn.linear_model import LogisticRegression\n",
    "from sklearn.svm import SVC\n",
    "import xgboost as xgb\n",
    "\n",
    "def get_scores(X_train, X_valid, y_train, y_valid, random_state=69) -> dict():\n",
    "    \"\"\"Función que obtiene el Accuracy para los modelos Logistic Regression,\n",
    "    SVC, Decision Tree, RandomForest y XGBoost\n",
    "\n",
    "    Parámetros\n",
    "    ==========\n",
    "    X_train: Set de datos para entrenar los modelos\n",
    "    X_valid: Set de datos para validar los modelos\n",
    "    y_train: Set de valores del target para entrenar\n",
    "    y_valid: Set de valores del target para validar\n",
    "\n",
    "    Retorna\n",
    "    =======\n",
    "    score: Diccionario con el Accuracy de cada modelo\n",
    "    \"\"\"\n",
    "    classifiers = []\n",
    "\n",
    "    classifiers.append(LogisticRegression(random_state=random_state,\n",
    "                            solver='liblinear',\n",
    "                            penalty='l2'))\n",
    "\n",
    "    classifiers.append(SVC(kernel='linear',\n",
    "                 random_state=random_state))\n",
    "\n",
    "    classifiers.append(DecisionTreeClassifier(random_state=random_state,\n",
    "                                             criterion='gini'))\n",
    "\n",
    "    classifiers.append(RandomForestClassifier(n_estimators=50,\n",
    "                                             random_state=random_state))\n",
    "\n",
    "    classifiers.append(xgb.XGBClassifier(learning_rate=0.01,\n",
    "                                         objective='binary:logistic',\n",
    "                                         random_state=random_state))\n",
    "\n",
    "    # Diccionario que tendrá {\"Nombre del modelo\": valor del Accuracy del modelo con el set de validación}\n",
    "    scores = {clf.__class__.__name__: clf.fit(X_train, y_train).score(X_valid, y_valid) for clf in classifiers}\n",
    "\n",
    "    return scores"
   ]
  },
  {
   "cell_type": "code",
   "execution_count": 536,
   "id": "7b483bb8-92a4-4d15-bcd3-397f621f322f",
   "metadata": {},
   "outputs": [
    {
     "data": {
      "text/plain": [
       "{'LogisticRegression': 0.621897810218978,\n",
       " 'SVC': 0.6233576642335766,\n",
       " 'DecisionTreeClassifier': 0.5197080291970803,\n",
       " 'RandomForestClassifier': 0.5722627737226277,\n",
       " 'XGBClassifier': 0.6131386861313869}"
      ]
     },
     "execution_count": 536,
     "metadata": {},
     "output_type": "execute_result"
    }
   ],
   "source": [
    "scores_1 = get_scores(X_train, X_valid, y_train, y_valid)\n",
    "scores_1"
   ]
  },
  {
   "attachments": {},
   "cell_type": "markdown",
   "id": "952cab89-78b0-47eb-adad-e21cbed6198c",
   "metadata": {},
   "source": [
    "# Feature Engineering"
   ]
  },
  {
   "cell_type": "markdown",
   "id": "e3c18126-4548-4ca7-9c6c-64f06aace914",
   "metadata": {},
   "source": [
    "## Añadiendo más features"
   ]
  },
  {
   "cell_type": "markdown",
   "id": "2b102ce5-6a89-4860-946b-73f985b3ee13",
   "metadata": {},
   "source": [
    "### Con cuántos puntos llegan los equipos locales y visitante a cada partido?"
   ]
  },
  {
   "cell_type": "code",
   "execution_count": 537,
   "id": "fe83ec89-327e-4b09-9371-9f045830798b",
   "metadata": {},
   "outputs": [],
   "source": [
    "df_2 = df.copy()"
   ]
  },
  {
   "cell_type": "code",
   "execution_count": 538,
   "id": "75bbd89e-d86e-4728-bcbc-820e518cc6f8",
   "metadata": {},
   "outputs": [],
   "source": [
    "def which_points(row):\n",
    "    \"\"\"Función que permite calcular los puntos dependiendo de la localidad del equipo y el resultado del partido\n",
    "    \n",
    "       Parámetro \n",
    "       --------\n",
    "       row: Fila con los datos para realizar el cálculo\n",
    "\n",
    "       Retorna\n",
    "       -------\n",
    "       punto: 3 - Equipo gana, 1 - Equipo empata, 0 - Equipo pierde\n",
    "    \"\"\"\n",
    "    result = row['Result']\n",
    "    venue = row['venue']\n",
    "\n",
    "    if result == 'D':\n",
    "        return 1\n",
    "    if venue == 'Home':\n",
    "        if result == 'W':\n",
    "            return 3\n",
    "    else:\n",
    "        if result == 'L':\n",
    "            return 3\n",
    "    \n",
    "    return 0"
   ]
  },
  {
   "cell_type": "code",
   "execution_count": 539,
   "id": "739754c0-3082-4a3e-8a3b-6d09ed2d2681",
   "metadata": {},
   "outputs": [],
   "source": [
    "def get_points(df: pd.DataFrame) -> pd.DataFrame:\n",
    "    \"\"\"Función que calcula los puntos con los que el equipo local y visitante\n",
    "    llegan a cada partido.\n",
    "\n",
    "    Parámetro\n",
    "    ---------\n",
    "    df: DataFrame con los datos para calcular los puntos\n",
    "\n",
    "    Retorna\n",
    "    -------\n",
    "    df: DataFrame con las columnas HTP (Home Team Points) y ATP (Away Team Points)\n",
    "    \"\"\"\n",
    "    df['year'] = df['DateTime'].dt.year\n",
    "\n",
    "    df_home = df[['year', 'Home Team', 'Result']].rename(columns={'Home Team': 'Team'})\n",
    "    df_home['venue'] = 'Home'\n",
    "\n",
    "    df_away = df[['year', 'Away Team', 'Result']].rename(columns={'Away Team': 'Team'})\n",
    "    df_away['venue'] = 'Away'\n",
    "\n",
    "    df_large = pd.concat([df_home, df_away])\n",
    "    df_large = df_large.sort_index()\n",
    "\n",
    "    # Calculamos el punto de cada equipo que obtiene del partido\n",
    "    df_large['Points'] = df_large.apply(which_points, axis=1)\n",
    "\n",
    "    # Calculamos el acumulado con un periodo de retraso para que comiencen\n",
    "    # todas las temporadas con 0\n",
    "    df_large['AccPoints'] = (df_large\n",
    "                             .groupby(['year', 'Team'])['Points']\n",
    "                             .shift(fill_value=0)\n",
    "                             .groupby([df_large['year'], df_large['Team']])\n",
    "                             .cumsum()\n",
    "                            )\n",
    "    df_pivot = df_large.pivot(columns='venue', values='AccPoints')\n",
    "    df_pivot.columns = ['ATP', 'HTP']\n",
    "    return (pd.concat([df, df_pivot[['HTP', 'ATP']]], axis=1)\n",
    "           .drop('year', axis=1))"
   ]
  },
  {
   "cell_type": "code",
   "execution_count": 540,
   "id": "d1ea0769-af69-4349-a443-0872c23a0154",
   "metadata": {},
   "outputs": [],
   "source": [
    "df_2 = get_points(df_2)"
   ]
  },
  {
   "cell_type": "markdown",
   "id": "846a457c-30d4-4801-a521-4f50057c6ab3",
   "metadata": {},
   "source": [
    "### Cuál es la diferencia de puntos entre ambos equipos antes del partido"
   ]
  },
  {
   "cell_type": "code",
   "execution_count": 541,
   "id": "3527ca64-76d3-4cfd-a996-cb276cf70591",
   "metadata": {},
   "outputs": [],
   "source": [
    "df_2['PD'] = df_2['HTP'] - df_2['ATP']"
   ]
  },
  {
   "cell_type": "code",
   "execution_count": 542,
   "id": "1d3446cb-4f27-4851-a246-144be6cdb68d",
   "metadata": {},
   "outputs": [
    {
     "data": {
      "text/html": [
       "<div>\n",
       "<style scoped>\n",
       "    .dataframe tbody tr th:only-of-type {\n",
       "        vertical-align: middle;\n",
       "    }\n",
       "\n",
       "    .dataframe tbody tr th {\n",
       "        vertical-align: top;\n",
       "    }\n",
       "\n",
       "    .dataframe thead th {\n",
       "        text-align: right;\n",
       "    }\n",
       "</style>\n",
       "<table border=\"1\" class=\"dataframe\">\n",
       "  <thead>\n",
       "    <tr style=\"text-align: right;\">\n",
       "      <th></th>\n",
       "      <th>Round</th>\n",
       "      <th>Day</th>\n",
       "      <th>Venue</th>\n",
       "      <th>Result</th>\n",
       "      <th>GF</th>\n",
       "      <th>GA</th>\n",
       "      <th>DateTime</th>\n",
       "      <th>Home Team</th>\n",
       "      <th>Away Team</th>\n",
       "      <th>HTGS</th>\n",
       "      <th>...</th>\n",
       "      <th>HTGD</th>\n",
       "      <th>ATGD</th>\n",
       "      <th>MW</th>\n",
       "      <th>HTGSForm</th>\n",
       "      <th>ATGSForm</th>\n",
       "      <th>HTGCForm</th>\n",
       "      <th>ATGCForm</th>\n",
       "      <th>HTP</th>\n",
       "      <th>ATP</th>\n",
       "      <th>PD</th>\n",
       "    </tr>\n",
       "  </thead>\n",
       "  <tbody>\n",
       "    <tr>\n",
       "      <th>2777</th>\n",
       "      <td>Regular Season</td>\n",
       "      <td>6.0</td>\n",
       "      <td>Away</td>\n",
       "      <td>W</td>\n",
       "      <td>3</td>\n",
       "      <td>0</td>\n",
       "      <td>2023-02-05 10:00:00</td>\n",
       "      <td>Sporting Cristal</td>\n",
       "      <td>Alianza Lima</td>\n",
       "      <td>0</td>\n",
       "      <td>...</td>\n",
       "      <td>0</td>\n",
       "      <td>0</td>\n",
       "      <td>1</td>\n",
       "      <td>0.0</td>\n",
       "      <td>0.0</td>\n",
       "      <td>0.00</td>\n",
       "      <td>0.0</td>\n",
       "      <td>0</td>\n",
       "      <td>0</td>\n",
       "      <td>0</td>\n",
       "    </tr>\n",
       "    <tr>\n",
       "      <th>2788</th>\n",
       "      <td>Regular Season</td>\n",
       "      <td>6.0</td>\n",
       "      <td>Home</td>\n",
       "      <td>W</td>\n",
       "      <td>2</td>\n",
       "      <td>0</td>\n",
       "      <td>2023-02-12 16:00:00</td>\n",
       "      <td>Alianza Lima</td>\n",
       "      <td>Sport Boys</td>\n",
       "      <td>0</td>\n",
       "      <td>...</td>\n",
       "      <td>-3</td>\n",
       "      <td>1</td>\n",
       "      <td>2</td>\n",
       "      <td>0.0</td>\n",
       "      <td>2.0</td>\n",
       "      <td>3.00</td>\n",
       "      <td>1.0</td>\n",
       "      <td>0</td>\n",
       "      <td>3</td>\n",
       "      <td>-3</td>\n",
       "    </tr>\n",
       "    <tr>\n",
       "      <th>2795</th>\n",
       "      <td>Regular Season</td>\n",
       "      <td>6.0</td>\n",
       "      <td>Away</td>\n",
       "      <td>L</td>\n",
       "      <td>1</td>\n",
       "      <td>2</td>\n",
       "      <td>2023-02-19 15:30:00</td>\n",
       "      <td>Universitario</td>\n",
       "      <td>Alianza Lima</td>\n",
       "      <td>4</td>\n",
       "      <td>...</td>\n",
       "      <td>3</td>\n",
       "      <td>-1</td>\n",
       "      <td>3</td>\n",
       "      <td>2.0</td>\n",
       "      <td>1.0</td>\n",
       "      <td>0.50</td>\n",
       "      <td>1.5</td>\n",
       "      <td>3</td>\n",
       "      <td>3</td>\n",
       "      <td>0</td>\n",
       "    </tr>\n",
       "    <tr>\n",
       "      <th>2809</th>\n",
       "      <td>Regular Season</td>\n",
       "      <td>6.0</td>\n",
       "      <td>Away</td>\n",
       "      <td>L</td>\n",
       "      <td>0</td>\n",
       "      <td>1</td>\n",
       "      <td>2023-03-05 15:30:00</td>\n",
       "      <td>Universidad Técnica de Cajamarca</td>\n",
       "      <td>Alianza Lima</td>\n",
       "      <td>4</td>\n",
       "      <td>...</td>\n",
       "      <td>1</td>\n",
       "      <td>0</td>\n",
       "      <td>5</td>\n",
       "      <td>1.0</td>\n",
       "      <td>1.0</td>\n",
       "      <td>0.75</td>\n",
       "      <td>1.0</td>\n",
       "      <td>6</td>\n",
       "      <td>6</td>\n",
       "      <td>0</td>\n",
       "    </tr>\n",
       "    <tr>\n",
       "      <th>2814</th>\n",
       "      <td>Regular Season</td>\n",
       "      <td>5.0</td>\n",
       "      <td>Home</td>\n",
       "      <td>W</td>\n",
       "      <td>2</td>\n",
       "      <td>0</td>\n",
       "      <td>2023-03-11 20:00:00</td>\n",
       "      <td>Alianza Lima</td>\n",
       "      <td>Cusco</td>\n",
       "      <td>5</td>\n",
       "      <td>...</td>\n",
       "      <td>1</td>\n",
       "      <td>-2</td>\n",
       "      <td>6</td>\n",
       "      <td>1.0</td>\n",
       "      <td>1.4</td>\n",
       "      <td>0.80</td>\n",
       "      <td>1.8</td>\n",
       "      <td>9</td>\n",
       "      <td>9</td>\n",
       "      <td>0</td>\n",
       "    </tr>\n",
       "  </tbody>\n",
       "</table>\n",
       "<p>5 rows × 23 columns</p>\n",
       "</div>"
      ],
      "text/plain": [
       "               Round  Day Venue Result  GF  GA            DateTime  \\\n",
       "2777  Regular Season  6.0  Away      W   3   0 2023-02-05 10:00:00   \n",
       "2788  Regular Season  6.0  Home      W   2   0 2023-02-12 16:00:00   \n",
       "2795  Regular Season  6.0  Away      L   1   2 2023-02-19 15:30:00   \n",
       "2809  Regular Season  6.0  Away      L   0   1 2023-03-05 15:30:00   \n",
       "2814  Regular Season  5.0  Home      W   2   0 2023-03-11 20:00:00   \n",
       "\n",
       "                             Home Team     Away Team  HTGS  ...  HTGD  ATGD  \\\n",
       "2777                  Sporting Cristal  Alianza Lima     0  ...     0     0   \n",
       "2788                      Alianza Lima    Sport Boys     0  ...    -3     1   \n",
       "2795                     Universitario  Alianza Lima     4  ...     3    -1   \n",
       "2809  Universidad Técnica de Cajamarca  Alianza Lima     4  ...     1     0   \n",
       "2814                      Alianza Lima         Cusco     5  ...     1    -2   \n",
       "\n",
       "      MW  HTGSForm  ATGSForm  HTGCForm  ATGCForm  HTP  ATP  PD  \n",
       "2777   1       0.0       0.0      0.00       0.0    0    0   0  \n",
       "2788   2       0.0       2.0      3.00       1.0    0    3  -3  \n",
       "2795   3       2.0       1.0      0.50       1.5    3    3   0  \n",
       "2809   5       1.0       1.0      0.75       1.0    6    6   0  \n",
       "2814   6       1.0       1.4      0.80       1.8    9    9   0  \n",
       "\n",
       "[5 rows x 23 columns]"
      ]
     },
     "execution_count": 542,
     "metadata": {},
     "output_type": "execute_result"
    }
   ],
   "source": [
    "team = 'Alianza Lima'\n",
    "df_2[(df_2['DateTime'].dt.year == 2023) & ((df_2['Home Team'] == team) | (df_2['Away Team'] == team))].head()"
   ]
  },
  {
   "cell_type": "markdown",
   "id": "c5b2cb7f-d122-4b74-9462-402a7f246ee0",
   "metadata": {},
   "source": [
    "### Cuál es la forma del equipo mediante el promedio de puntos obtenidos por partido"
   ]
  },
  {
   "cell_type": "code",
   "execution_count": 543,
   "id": "f1362858-f864-4d29-b8b7-278aa4482007",
   "metadata": {},
   "outputs": [],
   "source": [
    "df_2['HTPForm'] = df_2['HTP'] / df_2['MW']\n",
    "df_2['ATPForm'] = df_2['ATP'] / df_2['MW']\n",
    "df_2['PDForm'] = df_2['HTPForm'] - df_2['ATPForm']"
   ]
  },
  {
   "cell_type": "markdown",
   "id": "5e5a1bf3-6c8f-46ff-a818-3f0a24e150e3",
   "metadata": {},
   "source": [
    "### Con cuántos partidos sin perder llegan los equipos locales y visitantes a cada partido?"
   ]
  },
  {
   "cell_type": "code",
   "execution_count": 544,
   "id": "4ad9e7bf-814a-4e84-8804-3ea22b3f083b",
   "metadata": {},
   "outputs": [],
   "source": [
    "def calculate_unbeaten_streaks(results):\n",
    "    u_streak = 0\n",
    "    unbeaten_list = []\n",
    "    \n",
    "    for res in results:\n",
    "        unbeaten_list.append(u_streak)\n",
    "        \n",
    "        if res != 'L':\n",
    "            u_streak += 1\n",
    "        else:\n",
    "            u_streak = 0\n",
    "        \n",
    "    return unbeaten_list"
   ]
  },
  {
   "cell_type": "code",
   "execution_count": 545,
   "id": "97dbd7d1-2e93-40e9-956a-ce87908739c1",
   "metadata": {},
   "outputs": [],
   "source": [
    "def calculate_losing_streaks(results):\n",
    "    l_streak = 0\n",
    "    losing_list = []\n",
    "    \n",
    "    for res in results:\n",
    "        losing_list.append(l_streak)\n",
    "        \n",
    "        if res != 'L':\n",
    "            l_streak = 0\n",
    "        else:\n",
    "            l_streak += 1\n",
    "        \n",
    "    return losing_list"
   ]
  },
  {
   "cell_type": "code",
   "execution_count": 546,
   "id": "58d1770d-fef5-4375-980a-6e59e5a8c899",
   "metadata": {},
   "outputs": [],
   "source": [
    "def get_streaks(df: pd.DataFrame) -> pd.DataFrame:\n",
    "    df_home = df[['Home Team', 'Result']].rename(columns={'Home Team': 'Team'})\n",
    "    df_home['venue'] = 'home'\n",
    "\n",
    "    df_away = df[['Away Team', 'Result']].rename(columns={'Away Team': 'Team'})\n",
    "    df_away['venue'] = 'away'\n",
    "\n",
    "    df_large = pd.concat([df_home, df_away])\n",
    "    df_large = df_large.sort_index()\n",
    "\n",
    "    inv = {'W': 'L', 'D': 'D', 'L': 'W'}\n",
    "\n",
    "    df_large['Result Team'] = df_large.apply(lambda r: r['Result'] if r['venue'] == 'home' else inv[r['Result']], axis=1)\n",
    "    \n",
    "    df_large['US'] = (df_large\n",
    "                           .groupby('Team')['Result Team']\n",
    "                           .transform(lambda serie: calculate_unbeaten_streaks(serie))\n",
    "                          )\n",
    "    df_large['LS'] = (df_large\n",
    "                           .groupby('Team')['Result Team']\n",
    "                           .transform(lambda serie: calculate_losing_streaks(serie))\n",
    "                          )\n",
    "\n",
    "    df_pivot_us = df_large.pivot(columns='venue', values='US')\n",
    "    df_pivot_us.columns = ['ATUS', 'HTUS']\n",
    "    \n",
    "    df_pivot_ls = df_large.pivot(columns='venue', values='LS')\n",
    "    df_pivot_ls.columns = ['ATLS', 'HTLS']\n",
    "\n",
    "    return (pd.concat([df, df_pivot_us[['HTUS', 'ATUS']], df_pivot_ls[['HTLS', 'ATLS']]], axis=1))"
   ]
  },
  {
   "cell_type": "code",
   "execution_count": 547,
   "id": "34d56b02-4b81-42dd-8d4b-1e5516dbaa43",
   "metadata": {},
   "outputs": [],
   "source": [
    "df_2 = get_streaks(df_2)"
   ]
  },
  {
   "cell_type": "code",
   "execution_count": 548,
   "id": "eca0a4e4-4314-4aa8-8efe-e6aa76a41ebf",
   "metadata": {},
   "outputs": [
    {
     "data": {
      "text/html": [
       "<div>\n",
       "<style scoped>\n",
       "    .dataframe tbody tr th:only-of-type {\n",
       "        vertical-align: middle;\n",
       "    }\n",
       "\n",
       "    .dataframe tbody tr th {\n",
       "        vertical-align: top;\n",
       "    }\n",
       "\n",
       "    .dataframe thead th {\n",
       "        text-align: right;\n",
       "    }\n",
       "</style>\n",
       "<table border=\"1\" class=\"dataframe\">\n",
       "  <thead>\n",
       "    <tr style=\"text-align: right;\">\n",
       "      <th></th>\n",
       "      <th>Round</th>\n",
       "      <th>Day</th>\n",
       "      <th>Venue</th>\n",
       "      <th>Result</th>\n",
       "      <th>GF</th>\n",
       "      <th>GA</th>\n",
       "      <th>DateTime</th>\n",
       "      <th>Home Team</th>\n",
       "      <th>Away Team</th>\n",
       "      <th>HTGS</th>\n",
       "      <th>...</th>\n",
       "      <th>HTP</th>\n",
       "      <th>ATP</th>\n",
       "      <th>PD</th>\n",
       "      <th>HTPForm</th>\n",
       "      <th>ATPForm</th>\n",
       "      <th>PDForm</th>\n",
       "      <th>HTUS</th>\n",
       "      <th>ATUS</th>\n",
       "      <th>HTLS</th>\n",
       "      <th>ATLS</th>\n",
       "    </tr>\n",
       "  </thead>\n",
       "  <tbody>\n",
       "    <tr>\n",
       "      <th>2775</th>\n",
       "      <td>Regular Season</td>\n",
       "      <td>5.0</td>\n",
       "      <td>Away</td>\n",
       "      <td>W</td>\n",
       "      <td>4</td>\n",
       "      <td>0</td>\n",
       "      <td>2023-02-04 15:30:00</td>\n",
       "      <td>Universitario</td>\n",
       "      <td>Cantolao</td>\n",
       "      <td>0</td>\n",
       "      <td>...</td>\n",
       "      <td>0</td>\n",
       "      <td>0</td>\n",
       "      <td>0</td>\n",
       "      <td>0.00</td>\n",
       "      <td>0.00</td>\n",
       "      <td>0.0</td>\n",
       "      <td>12</td>\n",
       "      <td>1</td>\n",
       "      <td>0</td>\n",
       "      <td>0</td>\n",
       "    </tr>\n",
       "    <tr>\n",
       "      <th>2786</th>\n",
       "      <td>Regular Season</td>\n",
       "      <td>6.0</td>\n",
       "      <td>Home</td>\n",
       "      <td>W</td>\n",
       "      <td>1</td>\n",
       "      <td>0</td>\n",
       "      <td>2023-02-12 13:30:00</td>\n",
       "      <td>Unión Comercio</td>\n",
       "      <td>Universitario</td>\n",
       "      <td>1</td>\n",
       "      <td>...</td>\n",
       "      <td>0</td>\n",
       "      <td>3</td>\n",
       "      <td>-3</td>\n",
       "      <td>0.00</td>\n",
       "      <td>1.50</td>\n",
       "      <td>-1.5</td>\n",
       "      <td>0</td>\n",
       "      <td>13</td>\n",
       "      <td>6</td>\n",
       "      <td>0</td>\n",
       "    </tr>\n",
       "    <tr>\n",
       "      <th>2795</th>\n",
       "      <td>Regular Season</td>\n",
       "      <td>6.0</td>\n",
       "      <td>Away</td>\n",
       "      <td>L</td>\n",
       "      <td>1</td>\n",
       "      <td>2</td>\n",
       "      <td>2023-02-19 15:30:00</td>\n",
       "      <td>Universitario</td>\n",
       "      <td>Alianza Lima</td>\n",
       "      <td>4</td>\n",
       "      <td>...</td>\n",
       "      <td>3</td>\n",
       "      <td>3</td>\n",
       "      <td>0</td>\n",
       "      <td>1.00</td>\n",
       "      <td>1.00</td>\n",
       "      <td>0.0</td>\n",
       "      <td>0</td>\n",
       "      <td>1</td>\n",
       "      <td>1</td>\n",
       "      <td>0</td>\n",
       "    </tr>\n",
       "    <tr>\n",
       "      <th>2803</th>\n",
       "      <td>Regular Season</td>\n",
       "      <td>6.0</td>\n",
       "      <td>Home</td>\n",
       "      <td>W</td>\n",
       "      <td>2</td>\n",
       "      <td>0</td>\n",
       "      <td>2023-02-26 19:00:00</td>\n",
       "      <td>Carlos A Mannucci</td>\n",
       "      <td>Universitario</td>\n",
       "      <td>5</td>\n",
       "      <td>...</td>\n",
       "      <td>7</td>\n",
       "      <td>3</td>\n",
       "      <td>4</td>\n",
       "      <td>1.75</td>\n",
       "      <td>0.75</td>\n",
       "      <td>1.0</td>\n",
       "      <td>3</td>\n",
       "      <td>0</td>\n",
       "      <td>0</td>\n",
       "      <td>2</td>\n",
       "    </tr>\n",
       "    <tr>\n",
       "      <th>2810</th>\n",
       "      <td>Regular Season</td>\n",
       "      <td>6.0</td>\n",
       "      <td>Away</td>\n",
       "      <td>W</td>\n",
       "      <td>1</td>\n",
       "      <td>0</td>\n",
       "      <td>2023-03-05 15:30:00</td>\n",
       "      <td>Universitario</td>\n",
       "      <td>Melgar</td>\n",
       "      <td>5</td>\n",
       "      <td>...</td>\n",
       "      <td>3</td>\n",
       "      <td>0</td>\n",
       "      <td>3</td>\n",
       "      <td>0.60</td>\n",
       "      <td>0.00</td>\n",
       "      <td>0.6</td>\n",
       "      <td>0</td>\n",
       "      <td>0</td>\n",
       "      <td>3</td>\n",
       "      <td>4</td>\n",
       "    </tr>\n",
       "  </tbody>\n",
       "</table>\n",
       "<p>5 rows × 30 columns</p>\n",
       "</div>"
      ],
      "text/plain": [
       "               Round  Day Venue Result  GF  GA            DateTime  \\\n",
       "2775  Regular Season  5.0  Away      W   4   0 2023-02-04 15:30:00   \n",
       "2786  Regular Season  6.0  Home      W   1   0 2023-02-12 13:30:00   \n",
       "2795  Regular Season  6.0  Away      L   1   2 2023-02-19 15:30:00   \n",
       "2803  Regular Season  6.0  Home      W   2   0 2023-02-26 19:00:00   \n",
       "2810  Regular Season  6.0  Away      W   1   0 2023-03-05 15:30:00   \n",
       "\n",
       "              Home Team      Away Team  HTGS  ...  HTP  ATP  PD  HTPForm  \\\n",
       "2775      Universitario       Cantolao     0  ...    0    0   0     0.00   \n",
       "2786     Unión Comercio  Universitario     1  ...    0    3  -3     0.00   \n",
       "2795      Universitario   Alianza Lima     4  ...    3    3   0     1.00   \n",
       "2803  Carlos A Mannucci  Universitario     5  ...    7    3   4     1.75   \n",
       "2810      Universitario         Melgar     5  ...    3    0   3     0.60   \n",
       "\n",
       "      ATPForm  PDForm  HTUS  ATUS  HTLS  ATLS  \n",
       "2775     0.00     0.0    12     1     0     0  \n",
       "2786     1.50    -1.5     0    13     6     0  \n",
       "2795     1.00     0.0     0     1     1     0  \n",
       "2803     0.75     1.0     3     0     0     2  \n",
       "2810     0.00     0.6     0     0     3     4  \n",
       "\n",
       "[5 rows x 30 columns]"
      ]
     },
     "execution_count": 548,
     "metadata": {},
     "output_type": "execute_result"
    }
   ],
   "source": [
    "team = 'Universitario'\n",
    "df_2[(df_2['DateTime'].dt.year == 2023) & ((df_2['Home Team'] == team) | (df_2['Away Team'] == team))].head()"
   ]
  },
  {
   "cell_type": "markdown",
   "id": "f6936696-8851-4f28-a9a9-f07fcc81849d",
   "metadata": {},
   "source": [
    "### Cuáles son los resultados de los últimos 5 partidos de los equipos locales y visitantes antes de cada partido?"
   ]
  },
  {
   "cell_type": "code",
   "execution_count": 549,
   "id": "2b963b07-364b-4ee5-b8d4-4d3993513ac8",
   "metadata": {},
   "outputs": [],
   "source": [
    "def get_5_last_games(df: pd.DataFrame):\n",
    "    \"\"\"Función que obtiene el resultado de los últimos 5 partidos de los equipos antes de cada partido\n",
    "\n",
    "    Parámetro\n",
    "    =========\n",
    "    df: DataFrame con la data para el análisis\n",
    "\n",
    "    Retorna\n",
    "    =======\n",
    "    df: DataFrame con las columnas LM_1, LM_2, ..., LM_5 que representan\n",
    "        a los resultados de los últimos 5 partidos jugados.\n",
    "    \"\"\"\n",
    "    df['year'] = df['DateTime'].dt.year\n",
    "\n",
    "    df_home = df[['year', 'Home Team', 'Result']].rename(columns={'Home Team': 'Team'})\n",
    "    df_home['Venue'] = 'home'\n",
    "\n",
    "    df_away = df[['year', 'Away Team', 'Result']].rename(columns={'Away Team': 'Team'})\n",
    "    df_away['Venue'] = 'away'\n",
    "\n",
    "    df_large = pd.concat([df_home, df_away])\n",
    "    df_large = df_large.sort_index()\n",
    "\n",
    "    # Resultado invertido para el equipo visitante\n",
    "    inv = {'W': 'L', 'D': 'D', 'L': 'W', 'M': 'M'}\n",
    "\n",
    "    for i in range(1, 6):\n",
    "        colname = 'LM_' + str(i)\n",
    "        df_large[colname] = (df_large.groupby(['year', 'Team'])\n",
    "                             # Corremos la data i periodos para tener los resultados de los i últimos partidos antes de cada partido\n",
    "                            .shift(i, fill_value='M')\n",
    "                             # En caso el equipo en cuestión sea visitante, se invierte el resultado\n",
    "                            .apply(lambda row: row['Result'] if row['Venue'] == 'home' else inv[row['Result']], axis=1))\n",
    "\n",
    "        df_pivot = df_large.pivot(columns='Venue', values=colname)\n",
    "        df_pivot.columns = ['A' + colname, 'H' + colname]\n",
    "\n",
    "        df = pd.concat([df, df_pivot[['H' + colname, 'A' + colname]]], axis=1)\n",
    "    \n",
    "    return df.drop('year', axis=1)"
   ]
  },
  {
   "cell_type": "code",
   "execution_count": 550,
   "id": "0f03c246-376d-4227-827a-4e0f592ff306",
   "metadata": {},
   "outputs": [],
   "source": [
    "df_2 = get_5_last_games(df_2)"
   ]
  },
  {
   "cell_type": "code",
   "execution_count": 551,
   "id": "8e5bd703-1286-41f0-b2bd-3f094f170f79",
   "metadata": {},
   "outputs": [
    {
     "data": {
      "text/html": [
       "<div>\n",
       "<style scoped>\n",
       "    .dataframe tbody tr th:only-of-type {\n",
       "        vertical-align: middle;\n",
       "    }\n",
       "\n",
       "    .dataframe tbody tr th {\n",
       "        vertical-align: top;\n",
       "    }\n",
       "\n",
       "    .dataframe thead th {\n",
       "        text-align: right;\n",
       "    }\n",
       "</style>\n",
       "<table border=\"1\" class=\"dataframe\">\n",
       "  <thead>\n",
       "    <tr style=\"text-align: right;\">\n",
       "      <th></th>\n",
       "      <th>Round</th>\n",
       "      <th>Day</th>\n",
       "      <th>Venue</th>\n",
       "      <th>Result</th>\n",
       "      <th>GF</th>\n",
       "      <th>GA</th>\n",
       "      <th>DateTime</th>\n",
       "      <th>Home Team</th>\n",
       "      <th>Away Team</th>\n",
       "      <th>HTGS</th>\n",
       "      <th>...</th>\n",
       "      <th>HLM_1</th>\n",
       "      <th>ALM_1</th>\n",
       "      <th>HLM_2</th>\n",
       "      <th>ALM_2</th>\n",
       "      <th>HLM_3</th>\n",
       "      <th>ALM_3</th>\n",
       "      <th>HLM_4</th>\n",
       "      <th>ALM_4</th>\n",
       "      <th>HLM_5</th>\n",
       "      <th>ALM_5</th>\n",
       "    </tr>\n",
       "  </thead>\n",
       "  <tbody>\n",
       "    <tr>\n",
       "      <th>2775</th>\n",
       "      <td>Regular Season</td>\n",
       "      <td>5.0</td>\n",
       "      <td>Away</td>\n",
       "      <td>W</td>\n",
       "      <td>4</td>\n",
       "      <td>0</td>\n",
       "      <td>2023-02-04 15:30:00</td>\n",
       "      <td>Universitario</td>\n",
       "      <td>Cantolao</td>\n",
       "      <td>0</td>\n",
       "      <td>...</td>\n",
       "      <td>M</td>\n",
       "      <td>M</td>\n",
       "      <td>M</td>\n",
       "      <td>M</td>\n",
       "      <td>M</td>\n",
       "      <td>M</td>\n",
       "      <td>M</td>\n",
       "      <td>M</td>\n",
       "      <td>M</td>\n",
       "      <td>M</td>\n",
       "    </tr>\n",
       "    <tr>\n",
       "      <th>2786</th>\n",
       "      <td>Regular Season</td>\n",
       "      <td>6.0</td>\n",
       "      <td>Home</td>\n",
       "      <td>W</td>\n",
       "      <td>1</td>\n",
       "      <td>0</td>\n",
       "      <td>2023-02-12 13:30:00</td>\n",
       "      <td>Unión Comercio</td>\n",
       "      <td>Universitario</td>\n",
       "      <td>1</td>\n",
       "      <td>...</td>\n",
       "      <td>L</td>\n",
       "      <td>W</td>\n",
       "      <td>M</td>\n",
       "      <td>M</td>\n",
       "      <td>M</td>\n",
       "      <td>M</td>\n",
       "      <td>M</td>\n",
       "      <td>M</td>\n",
       "      <td>M</td>\n",
       "      <td>M</td>\n",
       "    </tr>\n",
       "    <tr>\n",
       "      <th>2795</th>\n",
       "      <td>Regular Season</td>\n",
       "      <td>6.0</td>\n",
       "      <td>Away</td>\n",
       "      <td>L</td>\n",
       "      <td>1</td>\n",
       "      <td>2</td>\n",
       "      <td>2023-02-19 15:30:00</td>\n",
       "      <td>Universitario</td>\n",
       "      <td>Alianza Lima</td>\n",
       "      <td>4</td>\n",
       "      <td>...</td>\n",
       "      <td>L</td>\n",
       "      <td>W</td>\n",
       "      <td>W</td>\n",
       "      <td>L</td>\n",
       "      <td>M</td>\n",
       "      <td>M</td>\n",
       "      <td>M</td>\n",
       "      <td>M</td>\n",
       "      <td>M</td>\n",
       "      <td>M</td>\n",
       "    </tr>\n",
       "    <tr>\n",
       "      <th>2803</th>\n",
       "      <td>Regular Season</td>\n",
       "      <td>6.0</td>\n",
       "      <td>Home</td>\n",
       "      <td>W</td>\n",
       "      <td>2</td>\n",
       "      <td>0</td>\n",
       "      <td>2023-02-26 19:00:00</td>\n",
       "      <td>Carlos A Mannucci</td>\n",
       "      <td>Universitario</td>\n",
       "      <td>5</td>\n",
       "      <td>...</td>\n",
       "      <td>W</td>\n",
       "      <td>L</td>\n",
       "      <td>D</td>\n",
       "      <td>L</td>\n",
       "      <td>W</td>\n",
       "      <td>W</td>\n",
       "      <td>M</td>\n",
       "      <td>M</td>\n",
       "      <td>M</td>\n",
       "      <td>M</td>\n",
       "    </tr>\n",
       "    <tr>\n",
       "      <th>2810</th>\n",
       "      <td>Regular Season</td>\n",
       "      <td>6.0</td>\n",
       "      <td>Away</td>\n",
       "      <td>W</td>\n",
       "      <td>1</td>\n",
       "      <td>0</td>\n",
       "      <td>2023-03-05 15:30:00</td>\n",
       "      <td>Universitario</td>\n",
       "      <td>Melgar</td>\n",
       "      <td>5</td>\n",
       "      <td>...</td>\n",
       "      <td>L</td>\n",
       "      <td>L</td>\n",
       "      <td>L</td>\n",
       "      <td>L</td>\n",
       "      <td>L</td>\n",
       "      <td>L</td>\n",
       "      <td>W</td>\n",
       "      <td>M</td>\n",
       "      <td>M</td>\n",
       "      <td>M</td>\n",
       "    </tr>\n",
       "  </tbody>\n",
       "</table>\n",
       "<p>5 rows × 40 columns</p>\n",
       "</div>"
      ],
      "text/plain": [
       "               Round  Day Venue Result  GF  GA            DateTime  \\\n",
       "2775  Regular Season  5.0  Away      W   4   0 2023-02-04 15:30:00   \n",
       "2786  Regular Season  6.0  Home      W   1   0 2023-02-12 13:30:00   \n",
       "2795  Regular Season  6.0  Away      L   1   2 2023-02-19 15:30:00   \n",
       "2803  Regular Season  6.0  Home      W   2   0 2023-02-26 19:00:00   \n",
       "2810  Regular Season  6.0  Away      W   1   0 2023-03-05 15:30:00   \n",
       "\n",
       "              Home Team      Away Team  HTGS  ...  HLM_1  ALM_1  HLM_2  ALM_2  \\\n",
       "2775      Universitario       Cantolao     0  ...      M      M      M      M   \n",
       "2786     Unión Comercio  Universitario     1  ...      L      W      M      M   \n",
       "2795      Universitario   Alianza Lima     4  ...      L      W      W      L   \n",
       "2803  Carlos A Mannucci  Universitario     5  ...      W      L      D      L   \n",
       "2810      Universitario         Melgar     5  ...      L      L      L      L   \n",
       "\n",
       "      HLM_3  ALM_3  HLM_4  ALM_4  HLM_5  ALM_5  \n",
       "2775      M      M      M      M      M      M  \n",
       "2786      M      M      M      M      M      M  \n",
       "2795      M      M      M      M      M      M  \n",
       "2803      W      W      M      M      M      M  \n",
       "2810      L      L      W      M      M      M  \n",
       "\n",
       "[5 rows x 40 columns]"
      ]
     },
     "execution_count": 551,
     "metadata": {},
     "output_type": "execute_result"
    }
   ],
   "source": [
    "team = 'Universitario'\n",
    "df_2[(df_2['DateTime'].dt.year == 2023) & ((df_2['Home Team'] == team) | (df_2['Away Team'] == team))].head()"
   ]
  },
  {
   "cell_type": "markdown",
   "id": "53bddfd5-1a98-43e7-a379-bfcb6974bff8",
   "metadata": {},
   "source": [
    "## Selección de Features"
   ]
  },
  {
   "cell_type": "code",
   "execution_count": 552,
   "id": "88375749-5a70-4c6e-9aa9-4452ef047108",
   "metadata": {},
   "outputs": [],
   "source": [
    "X_train, X_valid, y_train, y_valid = get_preprocessing(df_2)"
   ]
  },
  {
   "cell_type": "code",
   "execution_count": 553,
   "id": "ffa95c7c-54b2-4c79-a07d-cc0785e675de",
   "metadata": {},
   "outputs": [
    {
     "data": {
      "text/plain": [
       "(2737, 66)"
      ]
     },
     "execution_count": 553,
     "metadata": {},
     "output_type": "execute_result"
    }
   ],
   "source": [
    "X_train.shape"
   ]
  },
  {
   "cell_type": "markdown",
   "id": "6690e444-8d42-48d6-b9f2-1820bbb98385",
   "metadata": {},
   "source": [
    "### Métodos de Filtro"
   ]
  },
  {
   "cell_type": "code",
   "execution_count": 554,
   "id": "71dbd361-aee8-4b61-b18f-8765f1e5faf9",
   "metadata": {},
   "outputs": [
    {
     "data": {
      "text/plain": [
       "(Index(['Day', 'HTGS', 'ATGS', 'HTGC', 'ATGC', 'HTGD', 'ATGD', 'MW', 'HTGSForm',\n",
       "        'ATGSForm', 'HTGCForm', 'ATGCForm', 'HTP', 'ATP', 'PD', 'HTPForm',\n",
       "        'ATPForm', 'PDForm', 'HTUS', 'ATUS', 'HTLS'],\n",
       "       dtype='object'),\n",
       " Index(['ATLS', 'Round_Finals', 'Round_Regular Season', 'Venue_Away',\n",
       "        'Venue_Home', 'HLM_1_D', 'HLM_1_L', 'HLM_1_M', 'HLM_1_W', 'ALM_1_D',\n",
       "        'ALM_1_L', 'ALM_1_M', 'ALM_1_W', 'HLM_2_D', 'HLM_2_L', 'HLM_2_M',\n",
       "        'HLM_2_W', 'ALM_2_D', 'ALM_2_L', 'ALM_2_M', 'ALM_2_W', 'HLM_3_D',\n",
       "        'HLM_3_L', 'HLM_3_M', 'HLM_3_W', 'ALM_3_D', 'ALM_3_L', 'ALM_3_M',\n",
       "        'ALM_3_W', 'HLM_4_D', 'HLM_4_L', 'HLM_4_M', 'HLM_4_W', 'ALM_4_D',\n",
       "        'ALM_4_L', 'ALM_4_M', 'ALM_4_W', 'HLM_5_D', 'HLM_5_L', 'HLM_5_M',\n",
       "        'HLM_5_W', 'ALM_5_D', 'ALM_5_L', 'ALM_5_M', 'ALM_5_W'],\n",
       "       dtype='object'))"
      ]
     },
     "execution_count": 554,
     "metadata": {},
     "output_type": "execute_result"
    }
   ],
   "source": [
    "# Obtenemos las filas que son numéricas vs las codificadas\n",
    "num_cols = X_train.columns[:-45]\n",
    "obj_cols = X_train.columns[-45:]\n",
    "num_cols, obj_cols"
   ]
  },
  {
   "cell_type": "code",
   "execution_count": 555,
   "id": "4a47e7a4-2284-4b09-8458-dd51a6a72673",
   "metadata": {},
   "outputs": [
    {
     "data": {
      "text/plain": [
       "[True,\n",
       " True,\n",
       " True,\n",
       " True,\n",
       " True,\n",
       " True,\n",
       " True,\n",
       " True,\n",
       " False,\n",
       " False,\n",
       " False,\n",
       " False,\n",
       " True,\n",
       " True,\n",
       " True,\n",
       " False,\n",
       " False,\n",
       " False,\n",
       " True,\n",
       " True,\n",
       " True]"
      ]
     },
     "execution_count": 555,
     "metadata": {},
     "output_type": "execute_result"
    }
   ],
   "source": [
    "# Máscara de features que son Discretos vs los Continuos\n",
    "discrete_features = [not col.endswith('Form') for col in num_cols]\n",
    "discrete_features"
   ]
  },
  {
   "cell_type": "markdown",
   "id": "6c5f81b2-2d08-4837-99df-5b1960230f4e",
   "metadata": {},
   "source": [
    "#### Varianza"
   ]
  },
  {
   "cell_type": "code",
   "execution_count": 556,
   "id": "99348fc5-6a2b-4482-9e10-0af7c212bbc2",
   "metadata": {},
   "outputs": [],
   "source": [
    "from sklearn.feature_selection import VarianceThreshold\n",
    "\n",
    "selector = VarianceThreshold()\n",
    "selector.fit_transform(X_train[num_cols])\n",
    "# Obtenemos los indices de los features elegidos por la Varianza\n",
    "indices = selector.get_support(indices=True)\n",
    "\n",
    "selected_columns = np.array([num_cols[i] for i in indices])\n",
    "\n",
    "X_train = X_train[np.concatenate((selected_columns,obj_cols))]\n",
    "X_valid = X_valid[np.concatenate((selected_columns,obj_cols))]"
   ]
  },
  {
   "cell_type": "code",
   "execution_count": 557,
   "id": "ff238543-93ff-49e7-a269-562e9472b43a",
   "metadata": {},
   "outputs": [
    {
     "data": {
      "text/plain": [
       "Index(['Day', 'HTGS', 'ATGS', 'HTGC', 'ATGC', 'HTGD', 'ATGD', 'MW', 'HTGSForm',\n",
       "       'ATGSForm', 'HTGCForm', 'ATGCForm', 'HTP', 'ATP', 'PD', 'HTPForm',\n",
       "       'ATPForm', 'PDForm', 'HTUS', 'ATUS', 'HTLS', 'ATLS', 'Round_Finals',\n",
       "       'Round_Regular Season', 'Venue_Away', 'Venue_Home', 'HLM_1_D',\n",
       "       'HLM_1_L', 'HLM_1_M', 'HLM_1_W', 'ALM_1_D', 'ALM_1_L', 'ALM_1_M',\n",
       "       'ALM_1_W', 'HLM_2_D', 'HLM_2_L', 'HLM_2_M', 'HLM_2_W', 'ALM_2_D',\n",
       "       'ALM_2_L', 'ALM_2_M', 'ALM_2_W', 'HLM_3_D', 'HLM_3_L', 'HLM_3_M',\n",
       "       'HLM_3_W', 'ALM_3_D', 'ALM_3_L', 'ALM_3_M', 'ALM_3_W', 'HLM_4_D',\n",
       "       'HLM_4_L', 'HLM_4_M', 'HLM_4_W', 'ALM_4_D', 'ALM_4_L', 'ALM_4_M',\n",
       "       'ALM_4_W', 'HLM_5_D', 'HLM_5_L', 'HLM_5_M', 'HLM_5_W', 'ALM_5_D',\n",
       "       'ALM_5_L', 'ALM_5_M', 'ALM_5_W'],\n",
       "      dtype='object')"
      ]
     },
     "execution_count": 557,
     "metadata": {},
     "output_type": "execute_result"
    }
   ],
   "source": [
    "X_train.columns"
   ]
  },
  {
   "cell_type": "markdown",
   "id": "3b85fe39-c30d-4ef1-9572-bb5b27ffeb7f",
   "metadata": {},
   "source": [
    "#### Correlation"
   ]
  },
  {
   "cell_type": "code",
   "execution_count": 558,
   "id": "1861342c-27e8-40f7-9444-05ef30144ad2",
   "metadata": {},
   "outputs": [
    {
     "data": {
      "image/png": "[encoded data removed]",
      "text/plain": [
       "<Figure size 1500x900 with 2 Axes>"
      ]
     },
     "metadata": {},
     "output_type": "display_data"
    }
   ],
   "source": [
    "plt.figure(figsize=(15, 9))\n",
    "corr_matrix = X_train[num_cols].corr()\n",
    "\n",
    "sns.heatmap(corr_matrix, annot=True, cmap='RdBu_r')\n",
    "plt.show();"
   ]
  },
  {
   "cell_type": "code",
   "execution_count": 559,
   "id": "3b628b77-04b6-4a39-8598-09875e41fb8c",
   "metadata": {},
   "outputs": [
    {
     "name": "stdout",
     "output_type": "stream",
     "text": [
      "ATGS - HTGS - 0.8297046755971432\n",
      "HTGC - HTGS - 0.7626766129721096\n",
      "HTGC - ATGS - 0.8185555336440145\n",
      "ATGC - HTGS - 0.8109279527546955\n",
      "ATGC - ATGS - 0.7542349814739482\n",
      "ATGC - HTGC - 0.8002785357522364\n",
      "MW - HTGS - 0.9106452794693498\n",
      "MW - ATGS - 0.908185258104643\n",
      "MW - HTGC - 0.8997045286978193\n",
      "MW - ATGC - 0.8980089358178774\n",
      "HTP - HTGS - 0.9511744366068884\n",
      "HTP - ATGS - 0.8123520638444292\n",
      "HTP - ATGC - 0.7997565617777608\n",
      "HTP - MW - 0.8915183363735576\n",
      "ATP - HTGS - 0.8145892514543704\n",
      "ATP - ATGS - 0.9518854587019189\n",
      "ATP - HTGC - 0.8064699857717917\n",
      "ATP - MW - 0.8901419796669587\n",
      "ATP - HTP - 0.7931592332389465\n",
      "HTPForm - HTGSForm - 0.7294013719479612\n",
      "ATPForm - ATGSForm - 0.7225369474966914\n",
      "PDForm - PD - 0.8153774399188162\n"
     ]
    }
   ],
   "source": [
    "# Recorremos la mtraix en búsqueda de coeficientes mayores a 0.7\n",
    "for i in range(len(corr_matrix.columns)):\n",
    "    for j in range(i):\n",
    "        if abs(corr_matrix.iloc[i, j]) > 0.7:\n",
    "            print(corr_matrix.columns[i], corr_matrix.columns[j], corr_matrix.iloc[i, j], sep=' - ')"
   ]
  },
  {
   "cell_type": "code",
   "execution_count": 560,
   "id": "c83bd163-dffb-42f7-b046-018c75299ebc",
   "metadata": {},
   "outputs": [
    {
     "data": {
      "image/png": "[encoded data removed]",
      "text/plain": [
       "<Figure size 800x500 with 2 Axes>"
      ]
     },
     "metadata": {},
     "output_type": "display_data"
    }
   ],
   "source": [
    "plt.figure(figsize=(8,5))\n",
    "X_y = X_train[num_cols].copy()\n",
    "X_y['Result'] = y_train\n",
    "\n",
    "corr_matrix = X_y.corr()[['Result']].drop(labels=['Result'])\n",
    "\n",
    "sns.heatmap(corr_matrix, annot=True, fmt='.3', cmap='RdBu_r')\n",
    "plt.show()"
   ]
  },
  {
   "cell_type": "code",
   "execution_count": 561,
   "id": "e51e14c6-301f-4528-8f6e-f8a9580ecc44",
   "metadata": {},
   "outputs": [],
   "source": [
    "for i in corr_matrix.index:\n",
    "    if abs(corr_matrix.loc[i, 'Result']) < 0.002:\n",
    "        print(i, corr_matrix.loc[i, 'Result'])"
   ]
  },
  {
   "cell_type": "markdown",
   "id": "888d62bf-abe9-4b6b-b671-f80bc7e3c0fd",
   "metadata": {},
   "source": [
    "#### Mutual Information"
   ]
  },
  {
   "cell_type": "code",
   "execution_count": 562,
   "id": "9c816360-f487-43e5-b9af-96508ec39b1c",
   "metadata": {},
   "outputs": [],
   "source": [
    "from sklearn.feature_selection import mutual_info_regression\n",
    "\n",
    "def make_mi_scores(X, y, discrete_features):\n",
    "    \"\"\"Función que calcula el mi score de los features numéricos\n",
    "    \"\"\"\n",
    "    mi_scores = mutual_info_regression(X, y, discrete_features=discrete_features, random_state=68)\n",
    "    mi_scores = pd.Series(mi_scores, name=\"MI Scores\", index=X.columns)\n",
    "    mi_scores = mi_scores.sort_values(ascending=False)\n",
    "    return mi_scores\n",
    "\n",
    "mi_scores = make_mi_scores(X_train[num_cols], y_train, discrete_features)"
   ]
  },
  {
   "cell_type": "code",
   "execution_count": 563,
   "id": "d21dbd36-488f-4abf-8519-f6ae2d722019",
   "metadata": {},
   "outputs": [
    {
     "data": {
      "image/png": "[encoded data removed]",
      "text/plain": [
       "<Figure size 800x500 with 1 Axes>"
      ]
     },
     "metadata": {},
     "output_type": "display_data"
    }
   ],
   "source": [
    "def plot_mi_scores(scores):\n",
    "    \"\"\"Función que grafica el score obtenido del MI\n",
    "    \"\"\"\n",
    "    scores = scores.sort_values(ascending=True)\n",
    "    width = np.arange(len(scores))\n",
    "    ticks = list(scores.index)\n",
    "    plt.barh(width, scores)\n",
    "    plt.yticks(width, ticks)\n",
    "    plt.title(\"Mutual Information Scores\")\n",
    "\n",
    "plt.figure(dpi=100, figsize=(8, 5))\n",
    "plot_mi_scores(mi_scores)"
   ]
  },
  {
   "cell_type": "code",
   "execution_count": 564,
   "id": "5a1039a4-da28-4dbb-9957-e6ff9f0b13ac",
   "metadata": {},
   "outputs": [
    {
     "data": {
      "text/plain": [
       "['ATGD', 'HTP', 'PD']"
      ]
     },
     "execution_count": 564,
     "metadata": {},
     "output_type": "execute_result"
    }
   ],
   "source": [
    "from sklearn.feature_selection import SelectKBest\n",
    "from functools import partial\n",
    "\n",
    "# Elección de los k mejores features en base al MI score\n",
    "score_func = partial(mutual_info_regression, discrete_features=discrete_features,\n",
    "                     random_state=68)\n",
    "\n",
    "selection = SelectKBest(score_func=score_func, k=3)\n",
    "\n",
    "selection.fit_transform(X_train[num_cols], y_train)\n",
    "\n",
    "select_columns = list(X_train.columns[selection.get_support(indices=True)])\n",
    "select_columns"
   ]
  },
  {
   "cell_type": "markdown",
   "id": "3e631a3b-57ef-4347-bf5f-abdcd7514c8d",
   "metadata": {},
   "source": [
    "## Entrenamiento"
   ]
  },
  {
   "cell_type": "code",
   "execution_count": 565,
   "id": "95f1e923-2e8f-4974-877d-b29af8d7d30b",
   "metadata": {},
   "outputs": [
    {
     "data": {
      "text/html": [
       "<div>\n",
       "<style scoped>\n",
       "    .dataframe tbody tr th:only-of-type {\n",
       "        vertical-align: middle;\n",
       "    }\n",
       "\n",
       "    .dataframe tbody tr th {\n",
       "        vertical-align: top;\n",
       "    }\n",
       "\n",
       "    .dataframe thead th {\n",
       "        text-align: right;\n",
       "    }\n",
       "</style>\n",
       "<table border=\"1\" class=\"dataframe\">\n",
       "  <thead>\n",
       "    <tr style=\"text-align: right;\">\n",
       "      <th></th>\n",
       "      <th>Day</th>\n",
       "      <th>HTGS</th>\n",
       "      <th>ATGS</th>\n",
       "      <th>HTGC</th>\n",
       "      <th>ATGC</th>\n",
       "      <th>HTGD</th>\n",
       "      <th>ATGD</th>\n",
       "      <th>MW</th>\n",
       "      <th>HTGSForm</th>\n",
       "      <th>ATGSForm</th>\n",
       "      <th>...</th>\n",
       "      <th>ALM_4_M</th>\n",
       "      <th>ALM_4_W</th>\n",
       "      <th>HLM_5_D</th>\n",
       "      <th>HLM_5_L</th>\n",
       "      <th>HLM_5_M</th>\n",
       "      <th>HLM_5_W</th>\n",
       "      <th>ALM_5_D</th>\n",
       "      <th>ALM_5_L</th>\n",
       "      <th>ALM_5_M</th>\n",
       "      <th>ALM_5_W</th>\n",
       "    </tr>\n",
       "  </thead>\n",
       "  <tbody>\n",
       "    <tr>\n",
       "      <th>0</th>\n",
       "      <td>-1.592890</td>\n",
       "      <td>2.401935</td>\n",
       "      <td>1.534329</td>\n",
       "      <td>1.020823</td>\n",
       "      <td>0.978309</td>\n",
       "      <td>2.045360</td>\n",
       "      <td>0.833692</td>\n",
       "      <td>1.164165</td>\n",
       "      <td>1.508361</td>\n",
       "      <td>0.569159</td>\n",
       "      <td>...</td>\n",
       "      <td>0.0</td>\n",
       "      <td>0.0</td>\n",
       "      <td>0.0</td>\n",
       "      <td>0.0</td>\n",
       "      <td>0.0</td>\n",
       "      <td>1.0</td>\n",
       "      <td>0.0</td>\n",
       "      <td>0.0</td>\n",
       "      <td>0.0</td>\n",
       "      <td>1.0</td>\n",
       "    </tr>\n",
       "    <tr>\n",
       "      <th>1</th>\n",
       "      <td>-0.060468</td>\n",
       "      <td>-0.404848</td>\n",
       "      <td>-0.654758</td>\n",
       "      <td>-0.716233</td>\n",
       "      <td>0.107292</td>\n",
       "      <td>0.438364</td>\n",
       "      <td>-1.095369</td>\n",
       "      <td>-0.443779</td>\n",
       "      <td>0.077881</td>\n",
       "      <td>-0.555942</td>\n",
       "      <td>...</td>\n",
       "      <td>0.0</td>\n",
       "      <td>0.0</td>\n",
       "      <td>0.0</td>\n",
       "      <td>0.0</td>\n",
       "      <td>0.0</td>\n",
       "      <td>1.0</td>\n",
       "      <td>0.0</td>\n",
       "      <td>1.0</td>\n",
       "      <td>0.0</td>\n",
       "      <td>0.0</td>\n",
       "    </tr>\n",
       "    <tr>\n",
       "      <th>2</th>\n",
       "      <td>-0.060468</td>\n",
       "      <td>-1.137053</td>\n",
       "      <td>-0.776373</td>\n",
       "      <td>-0.964384</td>\n",
       "      <td>-0.825941</td>\n",
       "      <td>-0.275857</td>\n",
       "      <td>0.044531</td>\n",
       "      <td>-0.890430</td>\n",
       "      <td>-1.269930</td>\n",
       "      <td>0.170686</td>\n",
       "      <td>...</td>\n",
       "      <td>0.0</td>\n",
       "      <td>0.0</td>\n",
       "      <td>0.0</td>\n",
       "      <td>1.0</td>\n",
       "      <td>0.0</td>\n",
       "      <td>0.0</td>\n",
       "      <td>1.0</td>\n",
       "      <td>0.0</td>\n",
       "      <td>0.0</td>\n",
       "      <td>0.0</td>\n",
       "    </tr>\n",
       "    <tr>\n",
       "      <th>3</th>\n",
       "      <td>-0.571275</td>\n",
       "      <td>1.669731</td>\n",
       "      <td>2.020793</td>\n",
       "      <td>1.206937</td>\n",
       "      <td>1.476033</td>\n",
       "      <td>0.706196</td>\n",
       "      <td>0.833692</td>\n",
       "      <td>2.146798</td>\n",
       "      <td>-0.106528</td>\n",
       "      <td>0.136084</td>\n",
       "      <td>...</td>\n",
       "      <td>0.0</td>\n",
       "      <td>0.0</td>\n",
       "      <td>0.0</td>\n",
       "      <td>0.0</td>\n",
       "      <td>0.0</td>\n",
       "      <td>1.0</td>\n",
       "      <td>0.0</td>\n",
       "      <td>0.0</td>\n",
       "      <td>0.0</td>\n",
       "      <td>1.0</td>\n",
       "    </tr>\n",
       "    <tr>\n",
       "      <th>4</th>\n",
       "      <td>-1.082083</td>\n",
       "      <td>-0.892984</td>\n",
       "      <td>-1.202029</td>\n",
       "      <td>-0.840309</td>\n",
       "      <td>-1.261450</td>\n",
       "      <td>-0.097302</td>\n",
       "      <td>0.044531</td>\n",
       "      <td>-1.069091</td>\n",
       "      <td>0.457546</td>\n",
       "      <td>-1.201833</td>\n",
       "      <td>...</td>\n",
       "      <td>0.0</td>\n",
       "      <td>0.0</td>\n",
       "      <td>1.0</td>\n",
       "      <td>0.0</td>\n",
       "      <td>0.0</td>\n",
       "      <td>0.0</td>\n",
       "      <td>0.0</td>\n",
       "      <td>0.0</td>\n",
       "      <td>0.0</td>\n",
       "      <td>1.0</td>\n",
       "    </tr>\n",
       "  </tbody>\n",
       "</table>\n",
       "<p>5 rows × 66 columns</p>\n",
       "</div>"
      ],
      "text/plain": [
       "        Day      HTGS      ATGS      HTGC      ATGC      HTGD      ATGD  \\\n",
       "0 -1.592890  2.401935  1.534329  1.020823  0.978309  2.045360  0.833692   \n",
       "1 -0.060468 -0.404848 -0.654758 -0.716233  0.107292  0.438364 -1.095369   \n",
       "2 -0.060468 -1.137053 -0.776373 -0.964384 -0.825941 -0.275857  0.044531   \n",
       "3 -0.571275  1.669731  2.020793  1.206937  1.476033  0.706196  0.833692   \n",
       "4 -1.082083 -0.892984 -1.202029 -0.840309 -1.261450 -0.097302  0.044531   \n",
       "\n",
       "         MW  HTGSForm  ATGSForm  ...  ALM_4_M  ALM_4_W  HLM_5_D  HLM_5_L  \\\n",
       "0  1.164165  1.508361  0.569159  ...      0.0      0.0      0.0      0.0   \n",
       "1 -0.443779  0.077881 -0.555942  ...      0.0      0.0      0.0      0.0   \n",
       "2 -0.890430 -1.269930  0.170686  ...      0.0      0.0      0.0      1.0   \n",
       "3  2.146798 -0.106528  0.136084  ...      0.0      0.0      0.0      0.0   \n",
       "4 -1.069091  0.457546 -1.201833  ...      0.0      0.0      1.0      0.0   \n",
       "\n",
       "   HLM_5_M  HLM_5_W  ALM_5_D  ALM_5_L  ALM_5_M  ALM_5_W  \n",
       "0      0.0      1.0      0.0      0.0      0.0      1.0  \n",
       "1      0.0      1.0      0.0      1.0      0.0      0.0  \n",
       "2      0.0      0.0      1.0      0.0      0.0      0.0  \n",
       "3      0.0      1.0      0.0      0.0      0.0      1.0  \n",
       "4      0.0      0.0      0.0      0.0      0.0      1.0  \n",
       "\n",
       "[5 rows x 66 columns]"
      ]
     },
     "execution_count": 565,
     "metadata": {},
     "output_type": "execute_result"
    }
   ],
   "source": [
    "X_train.head()"
   ]
  },
  {
   "cell_type": "markdown",
   "id": "7f2ced05-96b3-4323-9c95-5b07ce294e51",
   "metadata": {},
   "source": [
    "### Elección de features "
   ]
  },
  {
   "cell_type": "code",
   "execution_count": 566,
   "id": "d72e8752-461a-4250-b2eb-2b7103d9d6de",
   "metadata": {},
   "outputs": [
    {
     "data": {
      "text/plain": [
       "{'LogisticRegression': 0.602919708029197,\n",
       " 'SVC': 0.6233576642335766,\n",
       " 'DecisionTreeClassifier': 0.564963503649635,\n",
       " 'RandomForestClassifier': 0.5620437956204379,\n",
       " 'XGBClassifier': 0.6102189781021898}"
      ]
     },
     "execution_count": 566,
     "metadata": {},
     "output_type": "execute_result"
    }
   ],
   "source": [
    "scores = get_scores(X_train, X_valid, y_train, y_valid)\n",
    "scores"
   ]
  },
  {
   "cell_type": "code",
   "execution_count": 567,
   "id": "5b72fe52-38d7-4e57-84ed-d2ddc6a5b7f6",
   "metadata": {},
   "outputs": [
    {
     "data": {
      "text/plain": [
       "{'LogisticRegression': 0.6102189781021898,\n",
       " 'SVC': 0.6233576642335766,\n",
       " 'DecisionTreeClassifier': 0.4992700729927007,\n",
       " 'RandomForestClassifier': 0.564963503649635,\n",
       " 'XGBClassifier': 0.6233576642335766}"
      ]
     },
     "execution_count": 567,
     "metadata": {},
     "output_type": "execute_result"
    }
   ],
   "source": [
    "X_train_2 = X_train[select_columns + obj_cols.to_list()]\n",
    "X_valid_2 = X_valid[select_columns + obj_cols.to_list()]\n",
    "scores_2 = get_scores(X_train_2, X_valid_2, y_train, y_valid)\n",
    "scores_2"
   ]
  },
  {
   "cell_type": "code",
   "execution_count": 568,
   "id": "0d8a8b8e-21ae-4331-a66e-e67bd13210ed",
   "metadata": {},
   "outputs": [
    {
     "ename": "AttributeError",
     "evalue": "'DataFrame' object has no attribute 'dtype'",
     "output_type": "error",
     "traceback": [
      "\u001b[31m---------------------------------------------------------------------------\u001b[39m",
      "\u001b[31mAttributeError\u001b[39m                            Traceback (most recent call last)",
      "\u001b[32m/tmp/ipykernel_478387/1437629567.py\u001b[39m in \u001b[36m?\u001b[39m\u001b[34m()\u001b[39m\n\u001b[32m      1\u001b[39m X_train_3 = X_train[select_columns + obj_cols.to_list() + [\u001b[33m'HTP'\u001b[39m, \u001b[33m'ATP'\u001b[39m]]\n\u001b[32m      2\u001b[39m X_valid_3 = X_valid[select_columns + obj_cols.to_list() + [\u001b[33m'HTP'\u001b[39m, \u001b[33m'ATP'\u001b[39m]]\n\u001b[32m----> \u001b[39m\u001b[32m3\u001b[39m scores_3 = get_scores(X_train_3, X_valid_3, y_train, y_valid)\n\u001b[32m      4\u001b[39m scores_3\n",
      "\u001b[32m/tmp/ipykernel_478387/1639671314.py\u001b[39m in \u001b[36m?\u001b[39m\u001b[34m(X_train, X_valid, y_train, y_valid, random_state)\u001b[39m\n\u001b[32m     38\u001b[39m                                          objective=\u001b[33m'binary:logistic'\u001b[39m,\n\u001b[32m     39\u001b[39m                                          random_state=random_state))\n\u001b[32m     40\u001b[39m \n\u001b[32m     41\u001b[39m     \u001b[38;5;66;03m# Diccionario que tendrá {\"Nombre del modelo\": valor del Accuracy del modelo con el set de validación}\u001b[39;00m\n\u001b[32m---> \u001b[39m\u001b[32m42\u001b[39m     scores = {clf.__class__.__name__: clf.fit(X_train, y_train).score(X_valid, y_valid) \u001b[38;5;28;01mfor\u001b[39;00m clf \u001b[38;5;28;01min\u001b[39;00m classifiers}\n\u001b[32m     43\u001b[39m \n\u001b[32m     44\u001b[39m     \u001b[38;5;28;01mreturn\u001b[39;00m scores\n",
      "\u001b[32m~/miniforge3/envs/kaggle/lib/python3.13/site-packages/xgboost/core.py\u001b[39m in \u001b[36m?\u001b[39m\u001b[34m(*args, **kwargs)\u001b[39m\n\u001b[32m    722\u001b[39m                     \u001b[38;5;28;01mraise\u001b[39;00m TypeError(msg)\n\u001b[32m    723\u001b[39m                 warnings.warn(msg, FutureWarning)\n\u001b[32m    724\u001b[39m             \u001b[38;5;28;01mfor\u001b[39;00m k, arg \u001b[38;5;28;01min\u001b[39;00m zip(sig.parameters, args):\n\u001b[32m    725\u001b[39m                 kwargs[k] = arg\n\u001b[32m--> \u001b[39m\u001b[32m726\u001b[39m             \u001b[38;5;28;01mreturn\u001b[39;00m func(**kwargs)\n",
      "\u001b[32m~/miniforge3/envs/kaggle/lib/python3.13/site-packages/xgboost/sklearn.py\u001b[39m in \u001b[36m?\u001b[39m\u001b[34m(self, X, y, sample_weight, base_margin, eval_set, verbose, xgb_model, sample_weight_eval_set, base_margin_eval_set, feature_weights)\u001b[39m\n\u001b[32m   1576\u001b[39m                     params[\u001b[33m\"objective\"\u001b[39m] = \u001b[33m\"multi:softprob\"\u001b[39m\n\u001b[32m   1577\u001b[39m                 params[\u001b[33m\"num_class\"\u001b[39m] = self.n_classes_\n\u001b[32m   1578\u001b[39m \n\u001b[32m   1579\u001b[39m             model, metric, params = self._configure_fit(xgb_model, params)\n\u001b[32m-> \u001b[39m\u001b[32m1580\u001b[39m             train_dmatrix, evals = _wrap_evaluation_matrices(\n\u001b[32m   1581\u001b[39m                 missing=self.missing,\n\u001b[32m   1582\u001b[39m                 X=X,\n\u001b[32m   1583\u001b[39m                 y=y,\n",
      "\u001b[32m~/miniforge3/envs/kaggle/lib/python3.13/site-packages/xgboost/sklearn.py\u001b[39m in \u001b[36m?\u001b[39m\u001b[34m(missing, X, y, group, qid, sample_weight, base_margin, feature_weights, eval_set, sample_weight_eval_set, base_margin_eval_set, eval_group, eval_qid, create_dmatrix, enable_categorical, feature_types)\u001b[39m\n\u001b[32m    599\u001b[39m     feature_types: Optional[FeatureTypes],\n\u001b[32m    600\u001b[39m ) -> Tuple[Any, List[Tuple[Any, str]]]:\n\u001b[32m    601\u001b[39m     \"\"\"Convert array_like evaluation matrices into DMatrix.  Perform validation on the\n\u001b[32m    602\u001b[39m     way.\"\"\"\n\u001b[32m--> \u001b[39m\u001b[32m603\u001b[39m     train_dmatrix = create_dmatrix(\n\u001b[32m    604\u001b[39m         data=X,\n\u001b[32m    605\u001b[39m         label=y,\n\u001b[32m    606\u001b[39m         group=group,\n",
      "\u001b[32m~/miniforge3/envs/kaggle/lib/python3.13/site-packages/xgboost/sklearn.py\u001b[39m in \u001b[36m?\u001b[39m\u001b[34m(self, ref, **kwargs)\u001b[39m\n\u001b[32m   1064\u001b[39m             \u001b[38;5;28;01mtry\u001b[39;00m:\n\u001b[32m   1065\u001b[39m                 return QuantileDMatrix(\n\u001b[32m   1066\u001b[39m                     **kwargs, ref=ref, nthread=self.n_jobs, max_bin=self.max_bin\n\u001b[32m   1067\u001b[39m                 )\n\u001b[32m-> \u001b[39m\u001b[32m1068\u001b[39m             \u001b[38;5;28;01mexcept\u001b[39;00m TypeError:  \u001b[38;5;66;03m# `QuantileDMatrix` supports lesser types than DMatrix\u001b[39;00m\n\u001b[32m   1069\u001b[39m                 \u001b[38;5;28;01mpass\u001b[39;00m\n\u001b[32m   1070\u001b[39m         \u001b[38;5;28;01mreturn\u001b[39;00m DMatrix(**kwargs, nthread=self.n_jobs)\n",
      "\u001b[32m~/miniforge3/envs/kaggle/lib/python3.13/site-packages/xgboost/core.py\u001b[39m in \u001b[36m?\u001b[39m\u001b[34m(*args, **kwargs)\u001b[39m\n\u001b[32m    722\u001b[39m                     \u001b[38;5;28;01mraise\u001b[39;00m TypeError(msg)\n\u001b[32m    723\u001b[39m                 warnings.warn(msg, FutureWarning)\n\u001b[32m    724\u001b[39m             \u001b[38;5;28;01mfor\u001b[39;00m k, arg \u001b[38;5;28;01min\u001b[39;00m zip(sig.parameters, args):\n\u001b[32m    725\u001b[39m                 kwargs[k] = arg\n\u001b[32m--> \u001b[39m\u001b[32m726\u001b[39m             \u001b[38;5;28;01mreturn\u001b[39;00m func(**kwargs)\n",
      "\u001b[32m~/miniforge3/envs/kaggle/lib/python3.13/site-packages/xgboost/core.py\u001b[39m in \u001b[36m?\u001b[39m\u001b[34m(self, data, label, weight, base_margin, missing, silent, feature_names, feature_types, nthread, max_bin, ref, group, qid, label_lower_bound, label_upper_bound, feature_weights, enable_categorical, data_split_mode)\u001b[39m\n\u001b[32m   1569\u001b[39m                     \u001b[33m\"If data iterator is used as input, data like label should be \"\u001b[39m\n\u001b[32m   1570\u001b[39m                     \u001b[33m\"specified as batch argument.\"\u001b[39m\n\u001b[32m   1571\u001b[39m                 )\n\u001b[32m   1572\u001b[39m \n\u001b[32m-> \u001b[39m\u001b[32m1573\u001b[39m         self._init(\n\u001b[32m   1574\u001b[39m             data,\n\u001b[32m   1575\u001b[39m             ref=ref,\n\u001b[32m   1576\u001b[39m             label=label,\n",
      "\u001b[32m~/miniforge3/envs/kaggle/lib/python3.13/site-packages/xgboost/core.py\u001b[39m in \u001b[36m?\u001b[39m\u001b[34m(self, data, ref, enable_categorical, **meta)\u001b[39m\n\u001b[32m   1628\u001b[39m             next_callback,\n\u001b[32m   1629\u001b[39m             config,\n\u001b[32m   1630\u001b[39m             ctypes.byref(handle),\n\u001b[32m   1631\u001b[39m         )\n\u001b[32m-> \u001b[39m\u001b[32m1632\u001b[39m         it.reraise()\n\u001b[32m   1633\u001b[39m         \u001b[38;5;66;03m# delay check_call to throw intermediate exception first\u001b[39;00m\n\u001b[32m   1634\u001b[39m         _check_call(ret)\n\u001b[32m   1635\u001b[39m         self.handle = handle\n",
      "\u001b[32m~/miniforge3/envs/kaggle/lib/python3.13/site-packages/xgboost/core.py\u001b[39m in \u001b[36m?\u001b[39m\u001b[34m(self)\u001b[39m\n\u001b[32m    565\u001b[39m             \u001b[38;5;66;03m#  pylint 2.7.0 believes `self._exception` can be None even with `assert\u001b[39;00m\n\u001b[32m    566\u001b[39m             \u001b[38;5;66;03m#  isinstace`\u001b[39;00m\n\u001b[32m    567\u001b[39m             exc = self._exception\n\u001b[32m    568\u001b[39m             self._exception = \u001b[38;5;28;01mNone\u001b[39;00m\n\u001b[32m--> \u001b[39m\u001b[32m569\u001b[39m             \u001b[38;5;28;01mraise\u001b[39;00m exc  \u001b[38;5;66;03m# pylint: disable=raising-bad-type\u001b[39;00m\n",
      "\u001b[32m~/miniforge3/envs/kaggle/lib/python3.13/site-packages/xgboost/core.py\u001b[39m in \u001b[36m?\u001b[39m\u001b[34m(self, fn, dft_ret)\u001b[39m\n\u001b[32m    555\u001b[39m             tb = sys.exc_info()[\u001b[32m2\u001b[39m]\n\u001b[32m    556\u001b[39m             \u001b[38;5;66;03m# On dask, the worker is restarted and somehow the information is\u001b[39;00m\n\u001b[32m    557\u001b[39m             \u001b[38;5;66;03m# lost.\u001b[39;00m\n\u001b[32m    558\u001b[39m             self._exception = e.with_traceback(tb)\n\u001b[32m--> \u001b[39m\u001b[32m559\u001b[39m         \u001b[38;5;28;01mreturn\u001b[39;00m dft_ret\n",
      "\u001b[32m~/miniforge3/envs/kaggle/lib/python3.13/site-packages/xgboost/core.py\u001b[39m in \u001b[36m?\u001b[39m\u001b[34m()\u001b[39m\n\u001b[32m--> \u001b[39m\u001b[32m637\u001b[39m         \u001b[38;5;28;01mreturn\u001b[39;00m self._handle_exception(\u001b[38;5;28;01mlambda\u001b[39;00m: self.next(input_data), \u001b[32m0\u001b[39m)\n",
      "\u001b[32m~/miniforge3/envs/kaggle/lib/python3.13/site-packages/xgboost/data.py\u001b[39m in \u001b[36m?\u001b[39m\u001b[34m(self, input_data)\u001b[39m\n\u001b[32m   1398\u001b[39m     \u001b[38;5;28;01mdef\u001b[39;00m next(self, input_data: Callable) -> int:\n\u001b[32m   1399\u001b[39m         \u001b[38;5;28;01mif\u001b[39;00m self.it == \u001b[32m1\u001b[39m:\n\u001b[32m   1400\u001b[39m             \u001b[38;5;28;01mreturn\u001b[39;00m \u001b[32m0\u001b[39m\n\u001b[32m   1401\u001b[39m         self.it += \u001b[32m1\u001b[39m\n\u001b[32m-> \u001b[39m\u001b[32m1402\u001b[39m         input_data(**self.kwargs)\n\u001b[32m   1403\u001b[39m         \u001b[38;5;28;01mreturn\u001b[39;00m \u001b[32m1\u001b[39m\n",
      "\u001b[32m~/miniforge3/envs/kaggle/lib/python3.13/site-packages/xgboost/core.py\u001b[39m in \u001b[36m?\u001b[39m\u001b[34m(*args, **kwargs)\u001b[39m\n\u001b[32m    722\u001b[39m                     \u001b[38;5;28;01mraise\u001b[39;00m TypeError(msg)\n\u001b[32m    723\u001b[39m                 warnings.warn(msg, FutureWarning)\n\u001b[32m    724\u001b[39m             \u001b[38;5;28;01mfor\u001b[39;00m k, arg \u001b[38;5;28;01min\u001b[39;00m zip(sig.parameters, args):\n\u001b[32m    725\u001b[39m                 kwargs[k] = arg\n\u001b[32m--> \u001b[39m\u001b[32m726\u001b[39m             \u001b[38;5;28;01mreturn\u001b[39;00m func(**kwargs)\n",
      "\u001b[32m~/miniforge3/envs/kaggle/lib/python3.13/site-packages/xgboost/core.py\u001b[39m in \u001b[36m?\u001b[39m\u001b[34m(data, feature_names, feature_types, **kwargs)\u001b[39m\n\u001b[32m    613\u001b[39m                 \u001b[38;5;28;01mand\u001b[39;00m ref \u001b[38;5;28;01mis\u001b[39;00m self._data_ref\n\u001b[32m    614\u001b[39m             ):\n\u001b[32m    615\u001b[39m                 new, cat_codes, feature_names, feature_types = self._temporary_data\n\u001b[32m    616\u001b[39m             \u001b[38;5;28;01melse\u001b[39;00m:\n\u001b[32m--> \u001b[39m\u001b[32m617\u001b[39m                 new, cat_codes, feature_names, feature_types = _proxy_transform(\n\u001b[32m    618\u001b[39m                     data,\n\u001b[32m    619\u001b[39m                     feature_names,\n\u001b[32m    620\u001b[39m                     feature_types,\n",
      "\u001b[32m~/miniforge3/envs/kaggle/lib/python3.13/site-packages/xgboost/data.py\u001b[39m in \u001b[36m?\u001b[39m\u001b[34m(data, feature_names, feature_types, enable_categorical)\u001b[39m\n\u001b[32m   1443\u001b[39m         data = pd.DataFrame(data)\n\u001b[32m   1444\u001b[39m     \u001b[38;5;28;01mif\u001b[39;00m _is_arrow(data):\n\u001b[32m   1445\u001b[39m         data = _arrow_transform(data)\n\u001b[32m   1446\u001b[39m     \u001b[38;5;28;01mif\u001b[39;00m _is_pandas_df(data):\n\u001b[32m-> \u001b[39m\u001b[32m1447\u001b[39m         df, feature_names, feature_types = _transform_pandas_df(\n\u001b[32m   1448\u001b[39m             data, enable_categorical, feature_names, feature_types\n\u001b[32m   1449\u001b[39m         )\n\u001b[32m   1450\u001b[39m         \u001b[38;5;28;01mreturn\u001b[39;00m df, \u001b[38;5;28;01mNone\u001b[39;00m, feature_names, feature_types\n",
      "\u001b[32m~/miniforge3/envs/kaggle/lib/python3.13/site-packages/xgboost/data.py\u001b[39m in \u001b[36m?\u001b[39m\u001b[34m(data, enable_categorical, feature_names, feature_types, meta)\u001b[39m\n\u001b[32m    607\u001b[39m     feature_names, feature_types = pandas_feature_info(\n\u001b[32m    608\u001b[39m         data, meta, feature_names, feature_types, enable_categorical\n\u001b[32m    609\u001b[39m     )\n\u001b[32m    610\u001b[39m \n\u001b[32m--> \u001b[39m\u001b[32m611\u001b[39m     arrays = pandas_transform_data(data)\n\u001b[32m    612\u001b[39m     \u001b[38;5;28;01mreturn\u001b[39;00m PandasTransformed(arrays), feature_names, feature_types\n",
      "\u001b[32m~/miniforge3/envs/kaggle/lib/python3.13/site-packages/xgboost/data.py\u001b[39m in \u001b[36m?\u001b[39m\u001b[34m(data)\u001b[39m\n\u001b[32m    546\u001b[39m             \u001b[38;5;28;01mif\u001b[39;00m _is_np_array_like(arr):\n\u001b[32m    547\u001b[39m                 arr, _ = _ensure_np_dtype(arr, arr.dtype)\n\u001b[32m    548\u001b[39m             result.append(arr)\n\u001b[32m    549\u001b[39m         \u001b[38;5;28;01melse\u001b[39;00m:\n\u001b[32m--> \u001b[39m\u001b[32m550\u001b[39m             result.append(oth_type(data[col]))\n\u001b[32m    551\u001b[39m \n\u001b[32m    552\u001b[39m     \u001b[38;5;66;03m# FIXME(jiamingy): Investigate the possibility of using dataframe protocol or arrow\u001b[39;00m\n\u001b[32m    553\u001b[39m     \u001b[38;5;66;03m# IPC format for pandas so that we can apply the data transformation inside XGBoost\u001b[39;00m\n",
      "\u001b[32m~/miniforge3/envs/kaggle/lib/python3.13/site-packages/xgboost/data.py\u001b[39m in \u001b[36m?\u001b[39m\u001b[34m(ser)\u001b[39m\n\u001b[32m    511\u001b[39m     \u001b[38;5;28;01mdef\u001b[39;00m oth_type(ser: pd.Series) -> np.ndarray:\n\u001b[32m    512\u001b[39m         \u001b[38;5;66;03m# The dtypes module is added in 1.25.\u001b[39;00m\n\u001b[32m    513\u001b[39m         npdtypes = np.lib.NumpyVersion(np.__version__) > np.lib.NumpyVersion(\u001b[33m\"1.25.0\"\u001b[39m)\n\u001b[32m    514\u001b[39m         npdtypes = npdtypes and isinstance(\n\u001b[32m--> \u001b[39m\u001b[32m515\u001b[39m             ser.dtype,\n\u001b[32m    516\u001b[39m             (\n\u001b[32m    517\u001b[39m                 \u001b[38;5;66;03m# pylint: disable=no-member\u001b[39;00m\n\u001b[32m    518\u001b[39m                 np.dtypes.Float32DType,  \u001b[38;5;66;03m# type: ignore\u001b[39;00m\n",
      "\u001b[32m~/miniforge3/envs/kaggle/lib/python3.13/site-packages/pandas/core/generic.py\u001b[39m in \u001b[36m?\u001b[39m\u001b[34m(self, name)\u001b[39m\n\u001b[32m   6295\u001b[39m             \u001b[38;5;28;01mand\u001b[39;00m name \u001b[38;5;28;01mnot\u001b[39;00m \u001b[38;5;28;01min\u001b[39;00m self._accessors\n\u001b[32m   6296\u001b[39m             \u001b[38;5;28;01mand\u001b[39;00m self._info_axis._can_hold_identifiers_and_holds_name(name)\n\u001b[32m   6297\u001b[39m         ):\n\u001b[32m   6298\u001b[39m             \u001b[38;5;28;01mreturn\u001b[39;00m self[name]\n\u001b[32m-> \u001b[39m\u001b[32m6299\u001b[39m         \u001b[38;5;28;01mreturn\u001b[39;00m object.__getattribute__(self, name)\n",
      "\u001b[31mAttributeError\u001b[39m: 'DataFrame' object has no attribute 'dtype'"
     ]
    }
   ],
   "source": [
    "X_train_3 = X_train[select_columns + obj_cols.to_list() + ['HTP', 'ATP']]\n",
    "X_valid_3 = X_valid[select_columns + obj_cols.to_list() + ['HTP', 'ATP']]\n",
    "scores_3 = get_scores(X_train_3, X_valid_3, y_train, y_valid)\n",
    "scores_3"
   ]
  },
  {
   "cell_type": "code",
   "execution_count": null,
   "id": "1a988c7d-aff3-4b31-b263-ac9602dd1a08",
   "metadata": {},
   "outputs": [],
   "source": [
    "X_train_4 = X_train[select_columns + ['HTP', 'ATP']]\n",
    "X_valid_4 = X_valid[select_columns + ['HTP', 'ATP']]\n",
    "scores_4 = get_scores(X_train_4, X_valid_4, y_train, y_valid)\n",
    "scores_4"
   ]
  },
  {
   "cell_type": "code",
   "execution_count": null,
   "id": "c36fb659-0d77-4378-aa09-33fade35e928",
   "metadata": {},
   "outputs": [],
   "source": [
    "form_columns = [cols for cols in num_cols if cols.endswith('Form')]\n",
    "X_train_5 = X_train[form_columns + obj_cols.to_list()]\n",
    "X_valid_5 = X_valid[form_columns + obj_cols.to_list()]\n",
    "scores_5 = get_scores(X_train_5, X_valid_5, y_train, y_valid)\n",
    "scores_5"
   ]
  },
  {
   "cell_type": "markdown",
   "id": "38fac07b-66b5-48c9-a37d-e81b1976a7c3",
   "metadata": {},
   "source": [
    "## Resultados"
   ]
  },
  {
   "cell_type": "code",
   "execution_count": null,
   "id": "8181f279-806f-49b6-bea4-8437ab794f8d",
   "metadata": {},
   "outputs": [],
   "source": [
    "title_list = ['Baseline', 'All features', 'Selected and Encoded Features', \"Selected, Encoded and 'HTP', 'ATP' Features\",\n",
    "             \"Selected and 'HTP', 'ATP' Features\", 'Only Form and Encoded Features']"
   ]
  },
  {
   "cell_type": "code",
   "execution_count": null,
   "id": "9081c807-599c-454b-a349-5372ac91e38f",
   "metadata": {},
   "outputs": [],
   "source": [
    "scores_list = [scores_1, scores, scores_2, scores_3, scores_4, scores_5]\n",
    "\n",
    "fig, axs = plt.subplots(3, 3, figsize=(20, 10), constrained_layout=True)\n",
    "\n",
    "# Eliminar axis innecesario\n",
    "axs = axs.flat\n",
    "for ax in axs[len(scores_list):]:\n",
    "    ax.remove()\n",
    "    \n",
    "axs = axs[:len(scores_list)]\n",
    "\n",
    "fig.suptitle('Accuracy for each set of Features and Models', fontsize=20)\n",
    "\n",
    "# Graficar cada score\n",
    "for i, score in enumerate(scores_list):\n",
    "    ax = axs[i]\n",
    "    x = np.arange(len(score))\n",
    "    sns.barplot(x=score.keys(), y=score.values(), ax=ax)\n",
    "\n",
    "    # Ponemos el valor encima de cada barra\n",
    "    ax.bar_label(ax.containers[0], fontsize=10);\n",
    "    # Seteamos el valor de los ticks\n",
    "    ax.set_xticks(np.arange(len(score.keys())))\n",
    "    # Seteamos el valor de las etiquetas de los ticks con abreviaciones\n",
    "    ax.set_xticklabels(['LR', 'SVC', 'DT', 'RF', 'XGB'])\n",
    "    # Seteamos el limite superior del eje y \n",
    "    ax.set_ylim(top=0.7)\n",
    "    # Seteamos el título de cada figura\n",
    "    ax.set_title(title_list[i])"
   ]
  }
 ],
 "metadata": {
  "kernelspec": {
   "display_name": "Python 3 (ipykernel)",
   "language": "python",
   "name": "python3"
  },
  "language_info": {
   "codemirror_mode": {
    "name": "ipython",
    "version": 3
   },
   "file_extension": ".py",
   "mimetype": "text/x-python",
   "name": "python",
   "nbconvert_exporter": "python",
   "pygments_lexer": "ipython3",
   "version": "3.13.2"
  }
 },
 "nbformat": 4,
 "nbformat_minor": 5
}
